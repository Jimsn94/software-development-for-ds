{
  "nbformat": 4,
  "nbformat_minor": 0,
  "metadata": {
    "celltoolbar": "Slideshow",
    "kernelspec": {
      "display_name": "Python 3",
      "language": "python",
      "name": "python3"
    },
    "language_info": {
      "codemirror_mode": {
        "name": "ipython",
        "version": 3
      },
      "file_extension": ".py",
      "mimetype": "text/x-python",
      "name": "python",
      "nbconvert_exporter": "python",
      "pygments_lexer": "ipython3",
      "version": "3.8.5"
    },
    "colab": {
      "name": "classes-part2",
      "provenance": [],
      "toc_visible": true
    }
  },
  "cells": [
    {
      "cell_type": "markdown",
      "metadata": {
        "id": "jZn1Eoiv8XM2"
      },
      "source": [
        "# Special class methods"
      ]
    },
    {
      "cell_type": "code",
      "metadata": {
        "id": "ZdUUxHqa8XM6"
      },
      "source": [
        "import random\n",
        "\n",
        "class Vector:        \n",
        "    def __init__(self, x=0, y=0, color=None):\n",
        "        print(\"initializing a vector\")\n",
        "        if type(x) != int or type(y) != int:\n",
        "            raise AttributeError('x and y should be int')\n",
        "        \n",
        "        self._x = x\n",
        "        self._y = y\n",
        "        self._color = color\n",
        "    \n",
        "    def get_x(self):\n",
        "        return self._x\n",
        "    \n",
        "    def get_y(self):\n",
        "        return self._y"
      ],
      "execution_count": null,
      "outputs": []
    },
    {
      "cell_type": "markdown",
      "metadata": {
        "id": "aaO9bKqH8XM8"
      },
      "source": [
        "Methods with double underscore (dunder) at the beginning and the end of their names have special meaning.\n",
        "\n",
        "We are already familiar with `__next__` and `__iter__`, it's time to learn about the rest."
      ]
    },
    {
      "cell_type": "code",
      "metadata": {
        "colab": {
          "base_uri": "https://localhost:8080/",
          "height": 53
        },
        "id": "dUK750Fj8XM9",
        "outputId": "43f06e65-6437-45b7-c155-95175ef61dd9"
      },
      "source": [
        "vector = Vector(1, 2, 'red')\n",
        "str(vector)"
      ],
      "execution_count": null,
      "outputs": [
        {
          "output_type": "stream",
          "name": "stdout",
          "text": [
            "initializing a vector\n"
          ]
        },
        {
          "output_type": "execute_result",
          "data": {
            "application/vnd.google.colaboratory.intrinsic+json": {
              "type": "string"
            },
            "text/plain": [
              "'<__main__.Vector object at 0x7f472cad1a10>'"
            ]
          },
          "metadata": {},
          "execution_count": 2
        }
      ]
    },
    {
      "cell_type": "code",
      "metadata": {
        "id": "56aqrvh88XM-"
      },
      "source": [
        "class VectorWithStr(Vector):\n",
        "    def __str__(self):\n",
        "        return 'vector ({}, {}) of color {}'.format(self._x, self._y, self._color)"
      ],
      "execution_count": null,
      "outputs": []
    },
    {
      "cell_type": "code",
      "metadata": {
        "colab": {
          "base_uri": "https://localhost:8080/",
          "height": 53
        },
        "id": "Mclc8VB-8XM-",
        "outputId": "3129d2d1-5808-47da-ad68-79e2ae1d2a4f"
      },
      "source": [
        "vector = VectorWithStr(1, 2, 'red')\n",
        "str(vector)"
      ],
      "execution_count": null,
      "outputs": [
        {
          "output_type": "stream",
          "name": "stdout",
          "text": [
            "initializing a vector\n"
          ]
        },
        {
          "output_type": "execute_result",
          "data": {
            "application/vnd.google.colaboratory.intrinsic+json": {
              "type": "string"
            },
            "text/plain": [
              "'vector (1, 2) of color red'"
            ]
          },
          "metadata": {},
          "execution_count": 4
        }
      ]
    },
    {
      "cell_type": "markdown",
      "metadata": {
        "id": "UAzyO8tI8XM_"
      },
      "source": [
        "__Q:__ Casting to string and that's all?\n",
        "\n",
        "__A:__ Of course not. Implicit conversions sometimes occur where we do not expect them"
      ]
    },
    {
      "cell_type": "code",
      "metadata": {
        "colab": {
          "base_uri": "https://localhost:8080/"
        },
        "id": "071zqirE8XNA",
        "outputId": "7cced6ee-1c39-4020-8cfa-17bb31cdf713"
      },
      "source": [
        "print(vector)"
      ],
      "execution_count": null,
      "outputs": [
        {
          "output_type": "stream",
          "name": "stdout",
          "text": [
            "vector (1, 2) of color red\n"
          ]
        }
      ]
    },
    {
      "cell_type": "code",
      "metadata": {
        "colab": {
          "base_uri": "https://localhost:8080/"
        },
        "id": "unsrU0488XNA",
        "outputId": "c9ab5d9d-1bf6-4865-a92d-06aabc6d74ea"
      },
      "source": [
        "print(\"OBJECT: {}\".format(vector))"
      ],
      "execution_count": null,
      "outputs": [
        {
          "output_type": "stream",
          "name": "stdout",
          "text": [
            "OBJECT: vector (1, 2) of color red\n"
          ]
        }
      ]
    },
    {
      "cell_type": "code",
      "metadata": {
        "colab": {
          "base_uri": "https://localhost:8080/"
        },
        "id": "GGvgTa_A8XNB",
        "outputId": "9e85b874-a6fd-4df1-dad0-e926266f3b80"
      },
      "source": [
        "mylist = [vector]\n",
        "print(mylist)"
      ],
      "execution_count": null,
      "outputs": [
        {
          "output_type": "stream",
          "name": "stdout",
          "text": [
            "[<__main__.VectorWithStr object at 0x7f4729058150>]\n"
          ]
        }
      ]
    },
    {
      "cell_type": "markdown",
      "metadata": {
        "id": "b0e2fICR8XNB"
      },
      "source": [
        "__Q:__ And where are the ugly lines again from?!\n",
        "\n",
        "__A:__ Python uses two methods of casting to a string. These are the functions `str` and` repr`, which differ in their purpose.\n",
        "\n",
        "`str` is used where human readability is needed, and` repr` is implemented so that it is possible to unambiguously determine which object we are talking about. If `repr` is not implemented, the standard option is used, and if` str` is not implemented, then `repr` is used instead.\n",
        "\n",
        "Let's try!"
      ]
    },
    {
      "cell_type": "code",
      "metadata": {
        "id": "zrlYkAQo8XNC"
      },
      "source": [
        "class VectorWithRepr(Vector):\n",
        "    def __repr__(self):\n",
        "        return 'vector representation (x: {}, y: {}, color: {})'.format(self._x, self._y, self._color)"
      ],
      "execution_count": null,
      "outputs": []
    },
    {
      "cell_type": "code",
      "metadata": {
        "colab": {
          "base_uri": "https://localhost:8080/",
          "height": 253
        },
        "id": "DWTO45Z88XNC",
        "outputId": "4f20db9e-b9d8-49b1-dfe7-da1b58a77c29"
      },
      "source": [
        "vector = VectorWithRepr(1, 2, 'red')\n",
        "\n",
        "print(vector)\n",
        "mylist = [vector]\n",
        "print(mylist)\n",
        "mydict = {}\n",
        "mydict[vector]"
      ],
      "execution_count": null,
      "outputs": [
        {
          "output_type": "stream",
          "name": "stdout",
          "text": [
            "initializing a vector\n",
            "vector representation (x: 1, y: 2, color: red)\n",
            "[vector representation (x: 1, y: 2, color: red)]\n"
          ]
        },
        {
          "output_type": "error",
          "ename": "KeyError",
          "evalue": "ignored",
          "traceback": [
            "\u001b[0;31m---------------------------------------------------------------------------\u001b[0m",
            "\u001b[0;31mKeyError\u001b[0m                                  Traceback (most recent call last)",
            "\u001b[0;32m<ipython-input-9-afd413e6a5fd>\u001b[0m in \u001b[0;36m<module>\u001b[0;34m()\u001b[0m\n\u001b[1;32m      5\u001b[0m \u001b[0mprint\u001b[0m\u001b[0;34m(\u001b[0m\u001b[0mmylist\u001b[0m\u001b[0;34m)\u001b[0m\u001b[0;34m\u001b[0m\u001b[0;34m\u001b[0m\u001b[0m\n\u001b[1;32m      6\u001b[0m \u001b[0mmydict\u001b[0m \u001b[0;34m=\u001b[0m \u001b[0;34m{\u001b[0m\u001b[0;34m}\u001b[0m\u001b[0;34m\u001b[0m\u001b[0;34m\u001b[0m\u001b[0m\n\u001b[0;32m----> 7\u001b[0;31m \u001b[0mmydict\u001b[0m\u001b[0;34m[\u001b[0m\u001b[0mvector\u001b[0m\u001b[0;34m]\u001b[0m\u001b[0;34m\u001b[0m\u001b[0;34m\u001b[0m\u001b[0m\n\u001b[0m",
            "\u001b[0;31mKeyError\u001b[0m: vector representation (x: 1, y: 2, color: red)"
          ]
        }
      ]
    },
    {
      "cell_type": "code",
      "metadata": {
        "id": "wXkKMTnP8XNC"
      },
      "source": [
        "class VectorWithBothReprAndStr(VectorWithRepr, VectorWithStr):\n",
        "    pass"
      ],
      "execution_count": null,
      "outputs": []
    },
    {
      "cell_type": "code",
      "metadata": {
        "id": "xOBUH_qY8XND"
      },
      "source": [
        "vector = VectorWithBothReprAndStr(1, 2, 'red')\n",
        "# now we should get different outputs\n",
        "print(vector)\n",
        "print([vector])"
      ],
      "execution_count": null,
      "outputs": []
    },
    {
      "cell_type": "markdown",
      "metadata": {
        "id": "izZ930Ow8XND"
      },
      "source": [
        "## Arithmetic"
      ]
    },
    {
      "cell_type": "code",
      "metadata": {
        "id": "vpeK0Wk18XND"
      },
      "source": [
        "import math\n",
        "import random\n",
        "\n",
        "class VectorWithMath(VectorWithBothReprAndStr):    \n",
        "    def __abs__(self):\n",
        "        return math.hypot(self._x, self._y)\n",
        "    \n",
        "    def __add__(self, other):\n",
        "        return VectorWithMath(self.get_x() + other.get_x(),\n",
        "                     self.get_y() + other.get_y(),\n",
        "                     random.choice((str(self._color), str(other._color))))\n",
        "    \n",
        "    def __sub__(self, other):\n",
        "        return VectorWithMath(self.get_x() - other.get_x(),\n",
        "                     self.get_y() - other.get_y(),\n",
        "                     random.choice((str(self._color), str(other._color))))\n",
        "    \n",
        "    # there also div, mul and many other methods"
      ],
      "execution_count": null,
      "outputs": []
    },
    {
      "cell_type": "code",
      "metadata": {
        "id": "CvLzkzrr8XNF"
      },
      "source": [
        "vector1 = VectorWithMath(3, 4, 'blue')\n",
        "vector2 = VectorWithMath(1, 2, 'red')"
      ],
      "execution_count": null,
      "outputs": []
    },
    {
      "cell_type": "code",
      "metadata": {
        "id": "pzUBwMF18XNF"
      },
      "source": [
        "print(abs(vector1))\n",
        "print(vector1 + vector2)"
      ],
      "execution_count": null,
      "outputs": []
    },
    {
      "cell_type": "markdown",
      "metadata": {
        "id": "phR1FFh68XNF"
      },
      "source": [
        "## Type conversions"
      ]
    },
    {
      "cell_type": "code",
      "metadata": {
        "id": "86wMDJbV8XNF"
      },
      "source": [
        "import math\n",
        "\n",
        "class VectorWithTypes(VectorWithMath):\n",
        "    def __bool__(self):\n",
        "        return bool(self._x) or bool(self._y)\n",
        "    \n",
        "    def __int__(self):\n",
        "        return int(float(self))\n",
        "    \n",
        "    def __float__(self):\n",
        "        return abs(self)"
      ],
      "execution_count": null,
      "outputs": []
    },
    {
      "cell_type": "code",
      "metadata": {
        "id": "I9ZR9Bfa8XNG"
      },
      "source": [
        "vector = VectorWithTypes(3, 4, 'blue')\n",
        "print(vector)\n",
        "print(int(vector))\n",
        "print(float(vector))\n",
        "if vector:\n",
        "    print(\"vector ~ True\")"
      ],
      "execution_count": null,
      "outputs": []
    },
    {
      "cell_type": "code",
      "metadata": {
        "id": "aWgDSbsn8XNG"
      },
      "source": [
        "vector = VectorWithTypes()\n",
        "print(vector)\n",
        "if not vector:\n",
        "    print(\"vector ~ False\")"
      ],
      "execution_count": null,
      "outputs": []
    },
    {
      "cell_type": "markdown",
      "metadata": {
        "id": "tP776Tbh8XNG"
      },
      "source": [
        "## Iterating"
      ]
    },
    {
      "cell_type": "markdown",
      "metadata": {
        "id": "5bXxNnTn8XNG"
      },
      "source": [
        "We already know one way to make the object \"iterable\", the `__iter__` and `__next__` methods. But it is not the only way."
      ]
    },
    {
      "cell_type": "code",
      "metadata": {
        "id": "hBHt7zRS8XNG"
      },
      "source": [
        "class VectorIterable(VectorWithTypes):\n",
        "    def __getitem__(self, position):\n",
        "        return (self._x, self._y)[position]\n",
        "    \n",
        "    def __len__(self):\n",
        "        return 2\n",
        "    \n",
        "    def __reversed__(self):\n",
        "        return (self._x, self._y)[::-1]"
      ],
      "execution_count": null,
      "outputs": []
    },
    {
      "cell_type": "code",
      "metadata": {
        "id": "oXiTQen98XNG"
      },
      "source": [
        "vector = VectorIterable(100, 500)\n",
        "print(vector[0])\n",
        "print(vector[3])"
      ],
      "execution_count": null,
      "outputs": []
    },
    {
      "cell_type": "code",
      "metadata": {
        "id": "UuKuZsWX8XNH"
      },
      "source": [
        "for coordinate in vector:\n",
        "    print(coordinate)"
      ],
      "execution_count": null,
      "outputs": []
    },
    {
      "cell_type": "code",
      "metadata": {
        "id": "ZpVvgG4J8XNH"
      },
      "source": [
        "for coordinate in reversed(vector):\n",
        "    print(coordinate)"
      ],
      "execution_count": null,
      "outputs": []
    },
    {
      "cell_type": "code",
      "metadata": {
        "id": "Hc-SCPGx8XNH"
      },
      "source": [
        "class VectorIterable(VectorWithTypes):\n",
        "    \n",
        "    def __getitem__(self, position):\n",
        "        return (self._y, self._x)[position]\n",
        "    \n",
        "    def __iter__(self):\n",
        "        \n",
        "        #return iter((self._x, self._y))\n",
        "        return self\n",
        "    \n",
        "    def __next__(self):\n",
        "        \n",
        "        if not hasattr(self,'count'):\n",
        "            self.count = 0\n",
        "        \n",
        "        self.count += 1\n",
        "        \n",
        "        if self.count < 3:\n",
        "            return (self._x, self._y)[self.count-1]\n",
        "        else:\n",
        "            raise StopIteration\n",
        "    \n",
        "    def __len__(self):\n",
        "        return 2\n",
        "    \n",
        "    def __reversed__(self):\n",
        "        return (self._x, self._y)[::-1]"
      ],
      "execution_count": null,
      "outputs": []
    },
    {
      "cell_type": "code",
      "metadata": {
        "id": "YcVdykbA8XNH"
      },
      "source": [
        "vect = VectorIterable(3, 5)\n",
        "\n",
        "for c in vect:\n",
        "    print(c)"
      ],
      "execution_count": null,
      "outputs": []
    },
    {
      "cell_type": "markdown",
      "metadata": {
        "id": "LPiwlcs38XNH"
      },
      "source": [
        "## Dynamic work with attributes"
      ]
    },
    {
      "cell_type": "markdown",
      "metadata": {
        "collapsed": true,
        "id": "BZexhtay8XNH"
      },
      "source": [
        "It seems that in python there is no protection against \"hacking\". But is it possible to do it yourself?"
      ]
    },
    {
      "cell_type": "code",
      "metadata": {
        "id": "hcVKUd4E8XNH"
      },
      "source": [
        "class VectorWithAllAttributes(VectorIterable):\n",
        "    def __getattr__(self, attr_name):\n",
        "        return \"value of {}\".format(attr_name)\n",
        "    \n",
        "    def __setattr__(self, attr_name, attr_value):\n",
        "        if attr_name not in ('_x', '_y', '_color'):\n",
        "            raise Exception('you shall not add new attributes here, young padawan!')\n",
        "        else:\n",
        "            super().__setattr__(attr_name, attr_value)\n",
        "            \n",
        "    def __delattr__(self, attr_name):\n",
        "        print('Heh, you can delete nothing')"
      ],
      "execution_count": null,
      "outputs": []
    },
    {
      "cell_type": "code",
      "metadata": {
        "id": "txNXIR5P8XNH"
      },
      "source": [
        "vector = VectorWithAllAttributes(1, 2, 'violet')\n",
        "print(dir(vector))"
      ],
      "execution_count": null,
      "outputs": []
    },
    {
      "cell_type": "code",
      "metadata": {
        "id": "AuXH8M5V8XNI"
      },
      "source": [
        "print(vector.some_attribute)\n",
        "print(vector._color)\n",
        "print(vector.get_x())"
      ],
      "execution_count": null,
      "outputs": []
    },
    {
      "cell_type": "code",
      "metadata": {
        "id": "1vVVwcek8XNI"
      },
      "source": [
        "vector.new_attribute = \"value\""
      ],
      "execution_count": null,
      "outputs": []
    },
    {
      "cell_type": "code",
      "metadata": {
        "id": "EQcSMwSZ8XNI"
      },
      "source": [
        "del vector._color\n",
        "delattr(vector, '_color')\n",
        "print(vector._color)"
      ],
      "execution_count": null,
      "outputs": []
    },
    {
      "cell_type": "markdown",
      "metadata": {
        "id": "5_ps3fjv8XNM"
      },
      "source": [
        "### ```__getattr__ vs. __getattribute__```"
      ]
    },
    {
      "cell_type": "code",
      "metadata": {
        "id": "6qzTtajc8XNM"
      },
      "source": [
        "class GetAttr:\n",
        "    attr1 = 1\n",
        "    def __init__(self):\n",
        "        self.attr2 = 2\n",
        "    def __getattr__(self, attr):   # for non-existing attrs only\n",
        "        print('get: ' + attr)      # Not for attr1: it's inherited from the class\n",
        "        return 3                   # Not for attr2: it exists for the object\n",
        "    \n",
        "\n",
        "class GetAttribute:\n",
        "    attr1 = 1\n",
        "    def __init__(self):\n",
        "        self.attr2 = 2\n",
        "    def __getattribute__(self, attr):  # Is called by all assigning operations\n",
        "        print('get: ' + attr)          # Use superclass in order to not get stuck in an infinite cycle\n",
        "        if attr == 'attr3':\n",
        "            return 3\n",
        "        else:\n",
        "            return super().__getattribute__(attr)"
      ],
      "execution_count": null,
      "outputs": []
    },
    {
      "cell_type": "code",
      "metadata": {
        "id": "6taoQlTZ8XNM"
      },
      "source": [
        "X = GetAttr()\n",
        "print(X.attr1)\n",
        "print(X.attr2)\n",
        "print(X.attr3)\n",
        "print('-' * 40)        \n",
        "X = GetAttribute()\n",
        "print(X.attr1)\n",
        "print(X.attr2)\n",
        "print(X.attr3)"
      ],
      "execution_count": null,
      "outputs": []
    },
    {
      "cell_type": "markdown",
      "metadata": {
        "id": "y0AuUwGS8XNM"
      },
      "source": [
        "## Contexts"
      ]
    },
    {
      "cell_type": "code",
      "metadata": {
        "id": "m307XWex8XNM"
      },
      "source": [
        "class VectorWithContextManager(VectorWithAllAttributes):\n",
        "    def __enter__(self):\n",
        "        print('entering context')\n",
        "    def __exit__(self, *args):\n",
        "        print(args)\n",
        "        print(dir(args[2]),args[2].tb_lineno)\n",
        "        print('leaving context')\n",
        "        #return False # -- throwing error \n",
        "        return True  # -- not throwing error"
      ],
      "execution_count": null,
      "outputs": []
    },
    {
      "cell_type": "code",
      "metadata": {
        "id": "Pc5D3cuf8XNM"
      },
      "source": [
        "try:\n",
        "    with VectorWithContextManager() as vec:\n",
        "        for i in range(3):\n",
        "            print(i)\n",
        "        raise Exception('something happened inside!')\n",
        "except Exception:\n",
        "    print('an exception was raised...')\n",
        "    pass\n",
        "print('we are out of the context')"
      ],
      "execution_count": null,
      "outputs": []
    },
    {
      "cell_type": "markdown",
      "metadata": {
        "id": "xXxQLcBI8XNM"
      },
      "source": [
        "But we can do better!"
      ]
    },
    {
      "cell_type": "code",
      "metadata": {
        "id": "4ZO9e8Rx8XNM"
      },
      "source": [
        "from contextlib import contextmanager\n",
        "\n",
        "@contextmanager\n",
        "def vector_mgr():\n",
        "    print('handling entering the context')\n",
        "    yield Vector()\n",
        "    print('handling leaving the context')\n",
        "          \n",
        "print('statement before context')\n",
        "with vector_mgr() as vector:\n",
        "    for i in range(3):\n",
        "        print(vector)\n",
        "print('statement after context')"
      ],
      "execution_count": null,
      "outputs": []
    },
    {
      "cell_type": "code",
      "metadata": {
        "id": "LEQbpRWG8XNN"
      },
      "source": [
        "# And now with error handling:\n",
        "\n",
        "@contextmanager\n",
        "def vector_mgr():\n",
        "    try:\n",
        "        print('handling entering the context')\n",
        "        yield Vector()\n",
        "    except ZeroDivisionError as e:\n",
        "        pass\n",
        "    finally:\n",
        "        print('handling leaving the context')\n",
        "          \n",
        "print('statement before context')\n",
        "with vector_mgr() as vector:\n",
        "    for i in range(3):\n",
        "        print(vector)\n",
        "        infin = 1 / 0\n",
        "print('statement after context')"
      ],
      "execution_count": null,
      "outputs": []
    },
    {
      "cell_type": "markdown",
      "metadata": {
        "id": "QLzFkZ7O8XNN"
      },
      "source": [
        "## Creating and deleting objects"
      ]
    },
    {
      "cell_type": "code",
      "metadata": {
        "id": "KDl4_0_18XNN"
      },
      "source": [
        "class VectorInitialized(VectorWithContextManager):\n",
        "    def __new__(cls, *args, **kwargs):\n",
        "        print('invoking __new__ method')\n",
        "        print(cls, args, kwargs)\n",
        "        print(object)\n",
        "        return object.__new__(cls)\n",
        "    \n",
        "    def __del__(self):\n",
        "        print('deleting an object')\n",
        "        raise Exception(\"exception while destructing\")"
      ],
      "execution_count": null,
      "outputs": []
    },
    {
      "cell_type": "code",
      "metadata": {
        "id": "Jaw0h3oE8XNN"
      },
      "source": [
        "vector = VectorInitialized(1, 2, color='navy blue')\n",
        "print(vector)"
      ],
      "execution_count": null,
      "outputs": []
    },
    {
      "cell_type": "code",
      "metadata": {
        "id": "vYb5tE0E8XNN"
      },
      "source": [
        "del vector"
      ],
      "execution_count": null,
      "outputs": []
    },
    {
      "cell_type": "markdown",
      "metadata": {
        "id": "q4AmsBs68XNN"
      },
      "source": [
        "### Task! \n",
        "\n",
        "How to use the `__new__` method in order to create a singleton class? i.e. the class allowing to create the only object and returning the same object when you try to create another one."
      ]
    },
    {
      "cell_type": "code",
      "metadata": {
        "id": "DO3js-TB8XNN"
      },
      "source": [
        "class SingletonClass:\n",
        "    \n",
        "    #...your code here...\n",
        "    \n",
        "    def __new__(cls, *args, **kwargs):\n",
        "        \n",
        "        #...your code here...\n",
        "        return object.__new__(cls)\n",
        "\n",
        "obj1 = SingletonClass()\n",
        "obj2 = SingletonClass()\n",
        "assert id(obj1) == id(obj2)"
      ],
      "execution_count": null,
      "outputs": []
    },
    {
      "cell_type": "markdown",
      "metadata": {
        "id": "kWLCrE_x8XNN"
      },
      "source": [
        "### Function annotations - https://www.python.org/dev/peps/pep-3107/"
      ]
    },
    {
      "cell_type": "code",
      "metadata": {
        "id": "Rswk6tSs8XNN"
      },
      "source": [
        "def Sum(x: 10, y: 'term 2', z: int = 0) -> max(2, 9):\n",
        "    \"returns x + y + z\"\n",
        "    return x + y + z\n",
        "help(Sum)\n",
        "\n",
        "Sum('for ','reading ','only')"
      ],
      "execution_count": null,
      "outputs": []
    },
    {
      "cell_type": "markdown",
      "metadata": {
        "id": "3uEoyLE98XNO"
      },
      "source": [
        "## Once again on modules - https://docs.python.org/3/tutorial/modules.html"
      ]
    },
    {
      "cell_type": "code",
      "metadata": {
        "id": "F7j9UDgv8XNO"
      },
      "source": [
        ""
      ],
      "execution_count": null,
      "outputs": []
    }
  ]
}