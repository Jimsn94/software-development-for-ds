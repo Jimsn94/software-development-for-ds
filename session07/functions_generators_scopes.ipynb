{
  "nbformat": 4,
  "nbformat_minor": 0,
  "metadata": {
    "celltoolbar": "Slideshow",
    "kernelspec": {
      "display_name": "Python 3",
      "language": "python",
      "name": "python3"
    },
    "language_info": {
      "codemirror_mode": {
        "name": "ipython",
        "version": 3
      },
      "file_extension": ".py",
      "mimetype": "text/x-python",
      "name": "python",
      "nbconvert_exporter": "python",
      "pygments_lexer": "ipython3",
      "version": "3.8.2"
    },
    "colab": {
      "name": "functions_generators_scopes",
      "provenance": []
    }
  },
  "cells": [
    {
      "cell_type": "code",
      "metadata": {
        "id": "Mc_p2kaZHpYe"
      },
      "source": [
        "from IPython.core.interactiveshell import InteractiveShell\n",
        "InteractiveShell.ast_node_interactivity = \"all\""
      ],
      "execution_count": 8,
      "outputs": []
    },
    {
      "cell_type": "markdown",
      "metadata": {
        "id": "aKNJtH5THpYf"
      },
      "source": [
        ""
      ]
    },
    {
      "cell_type": "markdown",
      "metadata": {
        "id": "pM3DKVBVHpYg"
      },
      "source": [
        "# Functions, generators, scope, closures, decorators\n",
        "### Contents\n",
        "\n",
        "* Functions basics\n",
        "* Default arguments\n",
        "* Variable number of arguments\n",
        "* Recursion\n",
        "* Generators\n",
        "* Anonymous functions (lambdas)\n",
        "* Attributes\n",
        "* Scope and namespaces\n",
        "* Closures\n",
        "* Decorators"
      ]
    },
    {
      "cell_type": "markdown",
      "metadata": {
        "id": "XfrIECA8HpYg"
      },
      "source": [
        "## Function declaration and calling"
      ]
    },
    {
      "cell_type": "code",
      "metadata": {
        "collapsed": true,
        "colab": {
          "base_uri": "https://localhost:8080/"
        },
        "id": "tnnwrdtEHpYg",
        "outputId": "c5555da4-08e2-41ba-aa48-0268e1688e1e"
      },
      "source": [
        "def foo(a, b):\n",
        "    print('a =', a, 'b =', b)\n",
        "    \n",
        "foo(1, 'b')"
      ],
      "execution_count": 9,
      "outputs": [
        {
          "output_type": "stream",
          "name": "stdout",
          "text": [
            "a = 1 b = b\n"
          ]
        }
      ]
    },
    {
      "cell_type": "markdown",
      "metadata": {
        "id": "1akHbDuRHpYg"
      },
      "source": [
        "### Default arguments"
      ]
    },
    {
      "cell_type": "code",
      "metadata": {
        "collapsed": true,
        "colab": {
          "base_uri": "https://localhost:8080/"
        },
        "id": "xEoD6SWOHpYh",
        "outputId": "21470181-b383-484d-e739-ee22eb228f9a"
      },
      "source": [
        "def foo(a, b, c=0.5, d=(None,)):\n",
        "    print('a =', a, 'b =', b, 'c =', c, 'd =', d)\n",
        "    \n",
        "foo(1, 'b')\n",
        "foo(1, 'b', 0.3)\n",
        "foo(1, 'b', d='d')\n",
        "foo(1, d='d', c=0.3, b='b')"
      ],
      "execution_count": 10,
      "outputs": [
        {
          "output_type": "stream",
          "name": "stdout",
          "text": [
            "a = 1 b = b c = 0.5 d = (None,)\n",
            "a = 1 b = b c = 0.3 d = (None,)\n",
            "a = 1 b = b c = 0.5 d = d\n",
            "a = 1 b = b c = 0.3 d = d\n"
          ]
        }
      ]
    },
    {
      "cell_type": "markdown",
      "metadata": {
        "id": "3kEz-FS0HpYh"
      },
      "source": [
        "### call-by-value (immutable arguments) vs. call-by-reference (mutable arguments)"
      ]
    },
    {
      "cell_type": "code",
      "metadata": {
        "colab": {
          "base_uri": "https://localhost:8080/"
        },
        "id": "oZRkbNVqMasb",
        "outputId": "8363ccb2-9322-401a-b729-9713e62fb991"
      },
      "source": [
        "print() == None"
      ],
      "execution_count": 11,
      "outputs": [
        {
          "output_type": "stream",
          "name": "stdout",
          "text": [
            "\n"
          ]
        },
        {
          "output_type": "execute_result",
          "data": {
            "text/plain": [
              "True"
            ]
          },
          "metadata": {},
          "execution_count": 11
        }
      ]
    },
    {
      "cell_type": "code",
      "metadata": {
        "id": "PSWZSyDXHpYh",
        "colab": {
          "base_uri": "https://localhost:8080/"
        },
        "outputId": "07fdcd96-e38c-4c42-e120-a6be83fdb29e"
      },
      "source": [
        "def get_my_hero_team(team, number):\n",
        "    number = 10\n",
        "    team['Chuck'] = 'Norris'\n",
        "    team['Sylvester'] = 'Stallone'\n",
        "    \n",
        "number = 5\n",
        "hero_team = {'Bruce': 'Willis', 'Chuck': 'Lorre'}\n",
        "get_my_hero_team(hero_team, number)\n",
        "\n",
        "[print(*item) for item in hero_team.items()]\n",
        "print(number)"
      ],
      "execution_count": 12,
      "outputs": [
        {
          "output_type": "stream",
          "name": "stdout",
          "text": [
            "Bruce Willis\n",
            "Chuck Norris\n",
            "Sylvester Stallone\n"
          ]
        },
        {
          "output_type": "execute_result",
          "data": {
            "text/plain": [
              "[None, None, None]"
            ]
          },
          "metadata": {},
          "execution_count": 12
        },
        {
          "output_type": "stream",
          "name": "stdout",
          "text": [
            "5\n"
          ]
        }
      ]
    },
    {
      "cell_type": "markdown",
      "metadata": {
        "id": "7z53AGkSHpYi"
      },
      "source": [
        "### Variable number of arguments"
      ]
    },
    {
      "cell_type": "code",
      "metadata": {
        "collapsed": true,
        "colab": {
          "base_uri": "https://localhost:8080/"
        },
        "id": "v9cQTFRhHpYi",
        "outputId": "7aa4beb4-b1e4-43be-8007-0117256d315f"
      },
      "source": [
        "def foo(a, *args):\n",
        "    print('a =', a, 'args =', args)\n",
        "\n",
        "array = [1, 'b']\n",
        "# foo(array)\n",
        "# foo(*array)\n",
        "# foo(1, 'b', 0.5)\n",
        "foo(*[1, 'b', [1, 2], 0.5])"
      ],
      "execution_count": 13,
      "outputs": [
        {
          "output_type": "stream",
          "name": "stdout",
          "text": [
            "a = 1 args = ('b', [1, 2], 0.5)\n"
          ]
        }
      ]
    },
    {
      "cell_type": "code",
      "metadata": {
        "collapsed": true,
        "colab": {
          "base_uri": "https://localhost:8080/"
        },
        "id": "FY2o9YhVHpYi",
        "outputId": "b8d7d9cd-e5ed-4fd8-d884-421286add2e3"
      },
      "source": [
        "def foo(a, *args, b):\n",
        "    print('a =', a, 'b =', b, 'args =', args)\n",
        "    \n",
        "foo(1, [1, 2], 0.5, b = 'b')"
      ],
      "execution_count": 14,
      "outputs": [
        {
          "output_type": "stream",
          "name": "stdout",
          "text": [
            "a = 1 b = b args = ([1, 2], 0.5)\n"
          ]
        }
      ]
    },
    {
      "cell_type": "code",
      "metadata": {
        "colab": {
          "base_uri": "https://localhost:8080/",
          "height": 166
        },
        "id": "Jyuh6jtTN2ec",
        "outputId": "28bf73d1-a60b-4bff-c20e-9cd2b79653bb"
      },
      "source": [
        "foo(1, [1, 2], 0.5, 'b')"
      ],
      "execution_count": 15,
      "outputs": [
        {
          "output_type": "error",
          "ename": "TypeError",
          "evalue": "ignored",
          "traceback": [
            "\u001b[0;31m---------------------------------------------------------------------------\u001b[0m",
            "\u001b[0;31mTypeError\u001b[0m                                 Traceback (most recent call last)",
            "\u001b[0;32m<ipython-input-15-669b8f864471>\u001b[0m in \u001b[0;36m<module>\u001b[0;34m()\u001b[0m\n\u001b[0;32m----> 1\u001b[0;31m \u001b[0mfoo\u001b[0m\u001b[0;34m(\u001b[0m\u001b[0;36m1\u001b[0m\u001b[0;34m,\u001b[0m \u001b[0;34m[\u001b[0m\u001b[0;36m1\u001b[0m\u001b[0;34m,\u001b[0m \u001b[0;36m2\u001b[0m\u001b[0;34m]\u001b[0m\u001b[0;34m,\u001b[0m \u001b[0;36m0.5\u001b[0m\u001b[0;34m,\u001b[0m \u001b[0;34m'b'\u001b[0m\u001b[0;34m)\u001b[0m\u001b[0;34m\u001b[0m\u001b[0;34m\u001b[0m\u001b[0m\n\u001b[0m",
            "\u001b[0;31mTypeError\u001b[0m: foo() missing 1 required keyword-only argument: 'b'"
          ]
        }
      ]
    },
    {
      "cell_type": "code",
      "metadata": {
        "collapsed": true,
        "colab": {
          "base_uri": "https://localhost:8080/"
        },
        "id": "I4JnntCrHpYj",
        "outputId": "587a0606-6d59-457c-c73b-a9569da6b734"
      },
      "source": [
        "def foo(a, b=0.5, **kwargs):\n",
        "    print('a =', a, 'b =', b, 'kwargs =', kwargs)\n",
        "    \n",
        "# foo(1, c='c')\n",
        "foo(1, c='c', b='b')\n",
        "# foo(1, 'b', c='c', d='d')"
      ],
      "execution_count": 16,
      "outputs": [
        {
          "output_type": "stream",
          "name": "stdout",
          "text": [
            "a = 1 b = b kwargs = {'c': 'c'}\n"
          ]
        }
      ]
    },
    {
      "cell_type": "code",
      "metadata": {
        "collapsed": true,
        "colab": {
          "base_uri": "https://localhost:8080/"
        },
        "id": "PiwY-eOkHpYj",
        "outputId": "b68bbf17-2241-4a84-ded0-b49a9f26e68c"
      },
      "source": [
        "def foo(*args, **kwargs):\n",
        "    print('args =', args, 'kwargs =', kwargs)\n",
        "    \n",
        "foo(1, 'a', x=0.5, y=[3, 4])\n",
        "# foo(*[1, 'a'], **{'x' : 0.5, 'y': [3, 4]})"
      ],
      "execution_count": 17,
      "outputs": [
        {
          "output_type": "stream",
          "name": "stdout",
          "text": [
            "args = (1, 'a') kwargs = {'x': 0.5, 'y': [3, 4]}\n"
          ]
        }
      ]
    },
    {
      "cell_type": "markdown",
      "metadata": {
        "id": "Tj3I-NV8HpYj"
      },
      "source": [
        "### Recursion"
      ]
    },
    {
      "cell_type": "code",
      "metadata": {
        "collapsed": true,
        "colab": {
          "base_uri": "https://localhost:8080/"
        },
        "id": "lR49NmkBHpYj",
        "outputId": "370aa694-e458-4681-ab9f-6d00eb331465"
      },
      "source": [
        "def easy_sort(x):\n",
        "    if not x:\n",
        "        return x\n",
        "    \n",
        "    first = min(x)\n",
        "    x.remove(first)\n",
        "    return [first] + easy_sort(x)\n",
        "    \n",
        "easy_sort([4, 2, 3, 1, 7, 5])"
      ],
      "execution_count": 18,
      "outputs": [
        {
          "output_type": "execute_result",
          "data": {
            "text/plain": [
              "[1, 2, 3, 4, 5, 7]"
            ]
          },
          "metadata": {},
          "execution_count": 18
        }
      ]
    },
    {
      "cell_type": "markdown",
      "metadata": {
        "id": "DnZHb4awPYH8"
      },
      "source": [
        "[ackermann function](https://en.wikipedia.org/wiki/Ackermann_function)"
      ]
    },
    {
      "cell_type": "code",
      "metadata": {
        "collapsed": true,
        "id": "BbI5AbtWHpYj"
      },
      "source": [
        "def ackermann(m, n):\n",
        "    if m == 0:\n",
        "        return n + 1\n",
        "    if n == 0:\n",
        "        return ackermann(m - 1, 1)\n",
        "    return ackermann(m - 1, ackermann(m, n - 1))"
      ],
      "execution_count": 19,
      "outputs": []
    },
    {
      "cell_type": "code",
      "metadata": {
        "collapsed": true,
        "id": "PgvqsiiSHpYj",
        "colab": {
          "base_uri": "https://localhost:8080/"
        },
        "outputId": "9db2ac6e-9452-472e-a946-651d4f2ab179"
      },
      "source": [
        "print(ackermann(1, 3))\n",
        "print(ackermann(2, 3))\n",
        "print(ackermann(3, 3))"
      ],
      "execution_count": 20,
      "outputs": [
        {
          "output_type": "stream",
          "name": "stdout",
          "text": [
            "5\n",
            "9\n",
            "61\n"
          ]
        }
      ]
    },
    {
      "cell_type": "markdown",
      "metadata": {
        "id": "QjrbTufiHpYj"
      },
      "source": [
        "## Iterable/Iterator/Generator\n",
        "\n",
        "* **Iterable** is an object with defined **\\_\\_iter\\_\\_** method\n",
        "\n",
        "* **Iterator** is an object with defined **\\_\\_next\\_\\_** method\n",
        "\n",
        "* **Generator** is a special kind of an iterator\n",
        "\n",
        "* **Generator Expression** is a way to define a generator\n",
        "\n",
        "* **Generator function** is a way to define a generator\n"
      ]
    },
    {
      "cell_type": "code",
      "metadata": {
        "collapsed": true,
        "id": "htiGvcxfHpYk",
        "colab": {
          "base_uri": "https://localhost:8080/"
        },
        "outputId": "b6c6726c-ca65-410f-cd7e-4d2cef18f3fb"
      },
      "source": [
        "values = ['Hello', 'world!']\n",
        "print(values.__iter__())\n",
        "\n",
        "def foo(x):\n",
        "    print('I am a generator!')\n",
        "    return x.__iter__()\n",
        "\n",
        "for value in foo(values):\n",
        "    print(value, end=' ')"
      ],
      "execution_count": 21,
      "outputs": [
        {
          "output_type": "stream",
          "name": "stdout",
          "text": [
            "<list_iterator object at 0x7f81cd934690>\n",
            "I am a generator!\n",
            "Hello world! "
          ]
        }
      ]
    },
    {
      "cell_type": "markdown",
      "metadata": {
        "id": "UbtpwjRAHpYk"
      },
      "source": [
        "### **yield**"
      ]
    },
    {
      "cell_type": "code",
      "metadata": {
        "id": "xML3y6hmHpYk",
        "colab": {
          "base_uri": "https://localhost:8080/"
        },
        "outputId": "ed46addb-dd63-4079-999e-baa9938a79a8"
      },
      "source": [
        "values = ['Hello', 'world!']\n",
        "\n",
        "def foo(x):\n",
        "    print('I am a generator!')\n",
        "    for value in x:\n",
        "        yield value\n",
        "        \n",
        "for value in foo(values):\n",
        "    print(value, end=' ')"
      ],
      "execution_count": 22,
      "outputs": [
        {
          "output_type": "stream",
          "name": "stdout",
          "text": [
            "I am a generator!\n",
            "Hello world! "
          ]
        }
      ]
    },
    {
      "cell_type": "markdown",
      "metadata": {
        "id": "7iq1UAS_HpYk"
      },
      "source": [
        "### Cubes "
      ]
    },
    {
      "cell_type": "code",
      "metadata": {
        "collapsed": true,
        "id": "YQCyaczxHpYk",
        "colab": {
          "base_uri": "https://localhost:8080/"
        },
        "outputId": "403bada0-da3b-47e1-c7d3-53b5f90f67d6"
      },
      "source": [
        "def cubes(x):\n",
        "    for value in x:\n",
        "        yield value ** 3\n",
        "        \n",
        "for value in cubes(range(10)):\n",
        "    print(value, end=' ')"
      ],
      "execution_count": 23,
      "outputs": [
        {
          "output_type": "stream",
          "name": "stdout",
          "text": [
            "0 1 8 27 64 125 216 343 512 729 "
          ]
        }
      ]
    },
    {
      "cell_type": "markdown",
      "metadata": {
        "id": "gXTDvdmRHpYl"
      },
      "source": [
        "Generator can be infinite (endless)"
      ]
    },
    {
      "cell_type": "code",
      "metadata": {
        "collapsed": true,
        "id": "pfHAjk8kHpYl",
        "colab": {
          "base_uri": "https://localhost:8080/"
        },
        "outputId": "210e2d26-31f0-4ecb-b950-0032f1157369"
      },
      "source": [
        "def cubes():\n",
        "    i = 0\n",
        "    while True:\n",
        "        yield i ** 3\n",
        "        i += 1\n",
        "        \n",
        "for value in cubes():\n",
        "    print(value, end=' ')\n",
        "    \n",
        "    if value > 100:\n",
        "        break\n",
        "\n",
        "print()\n",
        "\n",
        "gen = cubes()\n",
        "\n",
        "for value in gen:\n",
        "    print(value, end=' ')\n",
        "    \n",
        "    if value > 100:\n",
        "        print()\n",
        "        break\n",
        "\n",
        "print('_____')\n",
        "\n",
        "for value in gen:\n",
        "    print(value, end=' ')\n",
        "    \n",
        "    if value > 3000:\n",
        "        print()\n",
        "        break\n",
        "\n",
        "for value in gen:\n",
        "    print(value, end=' ')\n",
        "    \n",
        "    if value > 30000:\n",
        "        print()\n",
        "        break"
      ],
      "execution_count": 24,
      "outputs": [
        {
          "output_type": "stream",
          "name": "stdout",
          "text": [
            "0 1 8 27 64 125 \n",
            "0 1 8 27 64 125 \n",
            "_____\n",
            "216 343 512 729 1000 1331 1728 2197 2744 3375 \n",
            "4096 4913 5832 6859 8000 9261 10648 12167 13824 15625 17576 19683 21952 24389 27000 29791 32768 \n"
          ]
        }
      ]
    },
    {
      "cell_type": "markdown",
      "metadata": {
        "id": "PSq4ap5AHpYl"
      },
      "source": [
        "### Task 1\n",
        "Create a generator **limit(generator, max_count)** that returns not more than **max_count** values of the **generator**."
      ]
    },
    {
      "cell_type": "code",
      "metadata": {
        "collapsed": true,
        "id": "1MMx8XlRHpYl"
      },
      "source": [
        "def limit(gen, lim):\n",
        "    count = 0\n",
        "    for val in gen():\n",
        "        yield val\n",
        "        count += 1\n",
        "        if count >= lim:\n",
        "            break"
      ],
      "execution_count": 25,
      "outputs": []
    },
    {
      "cell_type": "code",
      "metadata": {
        "collapsed": true,
        "id": "aKk6KStHHpYl",
        "colab": {
          "base_uri": "https://localhost:8080/"
        },
        "outputId": "f17549d2-d997-4fa1-a6ff-366816bf012b"
      },
      "source": [
        "for value in limit(cubes, 10):\n",
        "    print(value, end=' ')"
      ],
      "execution_count": 26,
      "outputs": [
        {
          "output_type": "stream",
          "name": "stdout",
          "text": [
            "0 1 8 27 64 125 216 343 512 729 "
          ]
        }
      ]
    },
    {
      "cell_type": "markdown",
      "metadata": {
        "id": "jRLfNk1DHpYl"
      },
      "source": [
        "### Task 2\n",
        "Create a generator **all_elements(list)** that returns all the elements of **list** of any nesting."
      ]
    },
    {
      "cell_type": "markdown",
      "metadata": {
        "id": "uIl5aKFFHpYl"
      },
      "source": [
        "Note: to verify that the object is iterable, you can verify that it is inherited from **Iterable**."
      ]
    },
    {
      "cell_type": "code",
      "metadata": {
        "id": "sXZZuA_VHpYm"
      },
      "source": [
        "from collections.abc import Iterable\n",
        "\n",
        "if isinstance(list(), Iterable):\n",
        "    pass\n",
        "    # e is iterable"
      ],
      "execution_count": 32,
      "outputs": []
    },
    {
      "cell_type": "code",
      "metadata": {
        "id": "Aeq-o8y9HpYm"
      },
      "source": [
        ""
      ],
      "execution_count": 32,
      "outputs": []
    },
    {
      "cell_type": "code",
      "metadata": {
        "id": "bHu_h2x9HpYm",
        "colab": {
          "base_uri": "https://localhost:8080/"
        },
        "outputId": "75f70f3c-6d8a-4b94-92d2-a2442fd2b3a9"
      },
      "source": [
        "values = [1, [2, 3], [4, [5, 6], [[[7]]]], 8]\n",
        "for value in all_elements(values):\n",
        "    print(value, end=' ')"
      ],
      "execution_count": 35,
      "outputs": [
        {
          "output_type": "stream",
          "name": "stdout",
          "text": [
            "1 2 3 4 5 6 7 8 "
          ]
        }
      ]
    },
    {
      "cell_type": "code",
      "metadata": {
        "collapsed": true,
        "id": "VBpUVVmqHpYm"
      },
      "source": [
        "from collections.abc import Iterable\n",
        "\n",
        "def all_elements(x):\n",
        "    if not isinstance(x, Iterable):\n",
        "        yield x\n",
        "    else:\n",
        "        for val in x:\n",
        "            for element in all_elements(val):\n",
        "                yield element"
      ],
      "execution_count": 34,
      "outputs": []
    },
    {
      "cell_type": "code",
      "metadata": {
        "collapsed": true,
        "id": "rN_oF_UPHpYm",
        "colab": {
          "base_uri": "https://localhost:8080/"
        },
        "outputId": "5387c4fc-af59-4380-a7f7-8dfa43820aa8"
      },
      "source": [
        "values = [1, [2, 3], [4, [5, 6], [[[7]]]], 8]\n",
        "for value in all_elements(values):\n",
        "    print(value, end=' ')"
      ],
      "execution_count": 36,
      "outputs": [
        {
          "output_type": "stream",
          "name": "stdout",
          "text": [
            "1 2 3 4 5 6 7 8 "
          ]
        }
      ]
    },
    {
      "cell_type": "markdown",
      "metadata": {
        "id": "gJVWNIVFHpYm"
      },
      "source": [
        "## Anonymous functions (Lambdas)"
      ]
    },
    {
      "cell_type": "code",
      "metadata": {
        "collapsed": true,
        "colab": {
          "base_uri": "https://localhost:8080/"
        },
        "id": "KXkLB7fyHpYm",
        "outputId": "9101941d-8f0c-4f5b-a708-549a26396c18"
      },
      "source": [
        "a = lambda x : print(x)\n",
        "a('gergerg')"
      ],
      "execution_count": 37,
      "outputs": [
        {
          "output_type": "stream",
          "name": "stdout",
          "text": [
            "gergerg\n"
          ]
        }
      ]
    },
    {
      "cell_type": "code",
      "metadata": {
        "collapsed": true,
        "colab": {
          "base_uri": "https://localhost:8080/"
        },
        "id": "ZegXAhirHpYm",
        "outputId": "8eb06ff9-8a92-4915-a3c8-428d7fbb8fe6"
      },
      "source": [
        "list(map(lambda x : x ** 2, range(10)))"
      ],
      "execution_count": 38,
      "outputs": [
        {
          "output_type": "execute_result",
          "data": {
            "text/plain": [
              "[0, 1, 4, 9, 16, 25, 36, 49, 64, 81]"
            ]
          },
          "metadata": {},
          "execution_count": 38
        }
      ]
    },
    {
      "cell_type": "code",
      "metadata": {
        "collapsed": true,
        "colab": {
          "base_uri": "https://localhost:8080/"
        },
        "id": "KmGpbThlHpYm",
        "outputId": "0dd3f4fa-4691-4257-b909-d34930250b46"
      },
      "source": [
        "sorted([1, 2, 3, 4], key = lambda x : 1 / x)"
      ],
      "execution_count": 39,
      "outputs": [
        {
          "output_type": "execute_result",
          "data": {
            "text/plain": [
              "[4, 3, 2, 1]"
            ]
          },
          "metadata": {},
          "execution_count": 39
        }
      ]
    },
    {
      "cell_type": "markdown",
      "metadata": {
        "id": "Q5_AJ5EUHpYm"
      },
      "source": [
        "## Attributes"
      ]
    },
    {
      "cell_type": "code",
      "metadata": {
        "collapsed": true,
        "colab": {
          "base_uri": "https://localhost:8080/"
        },
        "id": "4YfQo1wHHpYn",
        "outputId": "b3ba68bc-d786-461b-bca6-7450df31a394"
      },
      "source": [
        "def foo(*args, **kwargs):\n",
        "    'Function which prints arguments.'\n",
        "    print('args =', args, 'kwargs =', kwargs)\n",
        "\n",
        "print(dir(foo))\n",
        "print(foo.__name__)\n",
        "print(foo.__doc__)\n",
        "print(foo.__module__)\n"
      ],
      "execution_count": 40,
      "outputs": [
        {
          "output_type": "stream",
          "name": "stdout",
          "text": [
            "['__annotations__', '__call__', '__class__', '__closure__', '__code__', '__defaults__', '__delattr__', '__dict__', '__dir__', '__doc__', '__eq__', '__format__', '__ge__', '__get__', '__getattribute__', '__globals__', '__gt__', '__hash__', '__init__', '__init_subclass__', '__kwdefaults__', '__le__', '__lt__', '__module__', '__name__', '__ne__', '__new__', '__qualname__', '__reduce__', '__reduce_ex__', '__repr__', '__setattr__', '__sizeof__', '__str__', '__subclasshook__']\n",
            "foo\n",
            "Function which prints arguments.\n",
            "__main__\n"
          ]
        }
      ]
    },
    {
      "cell_type": "markdown",
      "metadata": {
        "id": "xxcWzggbHpYn"
      },
      "source": [
        "### You can use attributes as static variables"
      ]
    },
    {
      "cell_type": "code",
      "metadata": {
        "colab": {
          "base_uri": "https://localhost:8080/"
        },
        "id": "AbGjfILxHpYn",
        "outputId": "858afdf5-57a6-43fc-e3c5-f243d1da0713"
      },
      "source": [
        "def get_next_id():\n",
        "    if not hasattr(get_next_id, 'value'):\n",
        "        get_next_id.value = 0\n",
        "    \n",
        "    get_next_id.value += 1\n",
        "    return get_next_id.value\n",
        "\n",
        "print(get_next_id())\n",
        "print(get_next_id())\n",
        "print(get_next_id())\n",
        "print('get_next_id.value =', get_next_id.value)"
      ],
      "execution_count": 46,
      "outputs": [
        {
          "output_type": "stream",
          "name": "stdout",
          "text": [
            "1\n",
            "2\n",
            "3\n",
            "get_next_id.value = 3\n"
          ]
        }
      ]
    },
    {
      "cell_type": "markdown",
      "metadata": {
        "id": "d-QJb74EHpYn"
      },
      "source": [
        "### Where are default arguments stored?"
      ]
    },
    {
      "cell_type": "code",
      "metadata": {
        "collapsed": true,
        "colab": {
          "base_uri": "https://localhost:8080/"
        },
        "id": "D4w3HK6SHpYn",
        "outputId": "c09b64bd-2e40-41ec-9a9e-1a805e1ebd33"
      },
      "source": [
        "def foo(a = 'Hello', b = 1):\n",
        "    \n",
        "    print(a, b)\n",
        "\n",
        "print('Defaults: ', foo.__defaults__)\n",
        "foo()\n",
        "\n",
        "\n",
        "foo.__defaults__ = ('Hello', 'world!')\n",
        "print('Defaults: ', foo.__defaults__)\n",
        "foo()"
      ],
      "execution_count": 47,
      "outputs": [
        {
          "output_type": "stream",
          "name": "stdout",
          "text": [
            "Defaults:  ('Hello', 1)\n",
            "Hello 1\n",
            "Defaults:  ('Hello', 'world!')\n",
            "Hello world!\n"
          ]
        }
      ]
    },
    {
      "cell_type": "markdown",
      "metadata": {
        "id": "6tjbrdQYHpYn"
      },
      "source": [
        "### It's a bad idea to use mutable objects as default arguments"
      ]
    },
    {
      "cell_type": "code",
      "metadata": {
        "collapsed": true,
        "colab": {
          "base_uri": "https://localhost:8080/"
        },
        "id": "VBTzdaSXHpYn",
        "outputId": "34090643-b802-40e9-f88e-c53edc7bd917"
      },
      "source": [
        "def foo(a, b = []):\n",
        "    b.append(a)\n",
        "    print(*b)\n",
        "    \n",
        "foo('Hello')\n",
        "foo('the')\n",
        "foo('wonderful')\n",
        "foo('world!')"
      ],
      "execution_count": 48,
      "outputs": [
        {
          "output_type": "stream",
          "name": "stdout",
          "text": [
            "Hello\n",
            "Hello the\n",
            "Hello the wonderful\n",
            "Hello the wonderful world!\n"
          ]
        }
      ]
    },
    {
      "cell_type": "markdown",
      "metadata": {
        "id": "0Wi1jMkpHpYn"
      },
      "source": [
        "# Namespaces\n",
        "\n",
        "### Namespaces are mappings from variables into objects"
      ]
    },
    {
      "cell_type": "markdown",
      "metadata": {
        "id": "W_5w17nOHpYq"
      },
      "source": [
        "**locals()** - current namespace in the form of dict <br>\n",
        "**globals()** - module's namespace"
      ]
    },
    {
      "cell_type": "code",
      "metadata": {
        "id": "URAq9_Z3HpYq",
        "colab": {
          "base_uri": "https://localhost:8080/"
        },
        "outputId": "d3b94cdc-fd71-4e18-b7b2-3535244aff78"
      },
      "source": [
        "locals() is globals()\n"
      ],
      "execution_count": 49,
      "outputs": [
        {
          "output_type": "execute_result",
          "data": {
            "text/plain": [
              "True"
            ]
          },
          "metadata": {},
          "execution_count": 49
        }
      ]
    },
    {
      "cell_type": "code",
      "metadata": {
        "id": "rpW09siGHpYq",
        "colab": {
          "base_uri": "https://localhost:8080/"
        },
        "outputId": "c8f56257-8b6e-4754-96d5-406b13e9b311"
      },
      "source": [
        "value = 42\n",
        "print(globals()['value'])\n",
        "\n",
        "globals()['value'] = 100500\n",
        "print(value)"
      ],
      "execution_count": 50,
      "outputs": [
        {
          "output_type": "stream",
          "name": "stdout",
          "text": [
            "42\n",
            "100500\n"
          ]
        }
      ]
    },
    {
      "cell_type": "markdown",
      "metadata": {
        "id": "vsXPCfL9HpYq"
      },
      "source": [
        "### Conditions and loops do not create new namespaces"
      ]
    },
    {
      "cell_type": "code",
      "metadata": {
        "id": "57KgUIldHpYq",
        "colab": {
          "base_uri": "https://localhost:8080/"
        },
        "outputId": "f2dbcf0c-ee14-406c-84a8-6a4b6f65c164"
      },
      "source": [
        "if True:\n",
        "    value_assigned_in_if = 1\n",
        "    \n",
        "for loop_counter in range(1):\n",
        "    value_assigned_in_for = 2\n",
        "    \n",
        "print(loop_counter)\n",
        "print(value_assigned_in_if)\n",
        "print(value_assigned_in_for)"
      ],
      "execution_count": 51,
      "outputs": [
        {
          "output_type": "stream",
          "name": "stdout",
          "text": [
            "0\n",
            "1\n",
            "2\n"
          ]
        }
      ]
    },
    {
      "cell_type": "markdown",
      "metadata": {
        "id": "XC1ybZ_bHpYq"
      },
      "source": [
        "### Functions create its own namespaces"
      ]
    },
    {
      "cell_type": "code",
      "metadata": {
        "id": "U4iwOGypHpYq",
        "colab": {
          "base_uri": "https://localhost:8080/"
        },
        "outputId": "5226fbc5-5cbe-4454-fba3-7058b3eca79a"
      },
      "source": [
        "value = 0\n",
        "\n",
        "def foo():\n",
        "    #global value\n",
        "    #print(value)\n",
        "    value = 3\n",
        "    \n",
        "foo()\n",
        "print(value)"
      ],
      "execution_count": 52,
      "outputs": [
        {
          "output_type": "stream",
          "name": "stdout",
          "text": [
            "0\n"
          ]
        }
      ]
    },
    {
      "cell_type": "markdown",
      "metadata": {
        "id": "D7gr4aT3HpYq"
      },
      "source": [
        "### Scopes\n",
        "\n",
        "The LEGB rule:\n",
        "1. Local - names defined inside the function (and not marked with the \"global\" keyword)\n",
        "2. Enclosing-function locals - names defined inside the enclosing functions in decreasing order of depth \n",
        "3. Global - names defined at the module level or marked \"global\"\n",
        "4. Built-in - built-in names (range, open, ...)"
      ]
    },
    {
      "cell_type": "code",
      "metadata": {
        "id": "k0xY864WHpYq",
        "colab": {
          "base_uri": "https://localhost:8080/",
          "height": 363
        },
        "outputId": "7b80a452-35d3-4efd-d148-bfa61e2e8737"
      },
      "source": [
        "value = 1\n",
        "\n",
        "def foo():\n",
        "    value = 2\n",
        "    \n",
        "    def bar():\n",
        "        print(value)\n",
        "        value = 3\n",
        "    \n",
        "    bar()\n",
        "    print('enclosing scope value', value)\n",
        "    \n",
        "foo()\n",
        "print('global value', value)"
      ],
      "execution_count": 53,
      "outputs": [
        {
          "output_type": "error",
          "ename": "UnboundLocalError",
          "evalue": "ignored",
          "traceback": [
            "\u001b[0;31m---------------------------------------------------------------------------\u001b[0m",
            "\u001b[0;31mUnboundLocalError\u001b[0m                         Traceback (most recent call last)",
            "\u001b[0;32m<ipython-input-53-712b7d9d6bb1>\u001b[0m in \u001b[0;36m<module>\u001b[0;34m()\u001b[0m\n\u001b[1;32m     11\u001b[0m     \u001b[0mprint\u001b[0m\u001b[0;34m(\u001b[0m\u001b[0;34m'enclosing scope value'\u001b[0m\u001b[0;34m,\u001b[0m \u001b[0mvalue\u001b[0m\u001b[0;34m)\u001b[0m\u001b[0;34m\u001b[0m\u001b[0;34m\u001b[0m\u001b[0m\n\u001b[1;32m     12\u001b[0m \u001b[0;34m\u001b[0m\u001b[0m\n\u001b[0;32m---> 13\u001b[0;31m \u001b[0mfoo\u001b[0m\u001b[0;34m(\u001b[0m\u001b[0;34m)\u001b[0m\u001b[0;34m\u001b[0m\u001b[0;34m\u001b[0m\u001b[0m\n\u001b[0m\u001b[1;32m     14\u001b[0m \u001b[0mprint\u001b[0m\u001b[0;34m(\u001b[0m\u001b[0;34m'global value'\u001b[0m\u001b[0;34m,\u001b[0m \u001b[0mvalue\u001b[0m\u001b[0;34m)\u001b[0m\u001b[0;34m\u001b[0m\u001b[0;34m\u001b[0m\u001b[0m\n",
            "\u001b[0;32m<ipython-input-53-712b7d9d6bb1>\u001b[0m in \u001b[0;36mfoo\u001b[0;34m()\u001b[0m\n\u001b[1;32m      8\u001b[0m         \u001b[0mvalue\u001b[0m \u001b[0;34m=\u001b[0m \u001b[0;36m3\u001b[0m\u001b[0;34m\u001b[0m\u001b[0;34m\u001b[0m\u001b[0m\n\u001b[1;32m      9\u001b[0m \u001b[0;34m\u001b[0m\u001b[0m\n\u001b[0;32m---> 10\u001b[0;31m     \u001b[0mbar\u001b[0m\u001b[0;34m(\u001b[0m\u001b[0;34m)\u001b[0m\u001b[0;34m\u001b[0m\u001b[0;34m\u001b[0m\u001b[0m\n\u001b[0m\u001b[1;32m     11\u001b[0m     \u001b[0mprint\u001b[0m\u001b[0;34m(\u001b[0m\u001b[0;34m'enclosing scope value'\u001b[0m\u001b[0;34m,\u001b[0m \u001b[0mvalue\u001b[0m\u001b[0;34m)\u001b[0m\u001b[0;34m\u001b[0m\u001b[0;34m\u001b[0m\u001b[0m\n\u001b[1;32m     12\u001b[0m \u001b[0;34m\u001b[0m\u001b[0m\n",
            "\u001b[0;32m<ipython-input-53-712b7d9d6bb1>\u001b[0m in \u001b[0;36mbar\u001b[0;34m()\u001b[0m\n\u001b[1;32m      5\u001b[0m \u001b[0;34m\u001b[0m\u001b[0m\n\u001b[1;32m      6\u001b[0m     \u001b[0;32mdef\u001b[0m \u001b[0mbar\u001b[0m\u001b[0;34m(\u001b[0m\u001b[0;34m)\u001b[0m\u001b[0;34m:\u001b[0m\u001b[0;34m\u001b[0m\u001b[0;34m\u001b[0m\u001b[0m\n\u001b[0;32m----> 7\u001b[0;31m         \u001b[0mprint\u001b[0m\u001b[0;34m(\u001b[0m\u001b[0mvalue\u001b[0m\u001b[0;34m)\u001b[0m\u001b[0;34m\u001b[0m\u001b[0;34m\u001b[0m\u001b[0m\n\u001b[0m\u001b[1;32m      8\u001b[0m         \u001b[0mvalue\u001b[0m \u001b[0;34m=\u001b[0m \u001b[0;36m3\u001b[0m\u001b[0;34m\u001b[0m\u001b[0;34m\u001b[0m\u001b[0m\n\u001b[1;32m      9\u001b[0m \u001b[0;34m\u001b[0m\u001b[0m\n",
            "\u001b[0;31mUnboundLocalError\u001b[0m: local variable 'value' referenced before assignment"
          ]
        }
      ]
    },
    {
      "cell_type": "markdown",
      "metadata": {
        "id": "9BL2AUu2HpYq"
      },
      "source": [
        "### Examples"
      ]
    },
    {
      "cell_type": "code",
      "metadata": {
        "id": "fKJHEQyIHpYq",
        "colab": {
          "base_uri": "https://localhost:8080/"
        },
        "outputId": "62140120-7d88-4e8f-d989-9c91a71f062d"
      },
      "source": [
        "def foo():\n",
        "    def bar():\n",
        "        print('built-in:', range)\n",
        "    bar()\n",
        "foo()\n",
        "\n",
        "range = 'global range'\n",
        "\n",
        "def foo():\n",
        "    def bar():\n",
        "        print('global:', range)\n",
        "    bar()\n",
        "foo()\n",
        "        \n",
        "def foo():\n",
        "    range = 'enclosing-function range'\n",
        "    def bar():\n",
        "        print('enclosing-function:', range)\n",
        "    bar()\n",
        "foo()\n",
        "\n",
        "def foo():\n",
        "    range = 'enclosing-function range'\n",
        "    def bar():\n",
        "        range = 'local range'\n",
        "        print('local:', range)\n",
        "    bar()\n",
        "foo()"
      ],
      "execution_count": 54,
      "outputs": [
        {
          "output_type": "stream",
          "name": "stdout",
          "text": [
            "built-in: <class 'range'>\n",
            "global: global range\n",
            "enclosing-function: enclosing-function range\n",
            "local: local range\n"
          ]
        }
      ]
    },
    {
      "cell_type": "markdown",
      "metadata": {
        "id": "IreJ7Si1HpYr"
      },
      "source": [
        "### \"Global\" keyword"
      ]
    },
    {
      "cell_type": "code",
      "metadata": {
        "colab": {
          "base_uri": "https://localhost:8080/"
        },
        "id": "XplLkM8AHpYr",
        "outputId": "bf78b3e5-174c-4f0e-b9e3-57909fc3fac7"
      },
      "source": [
        "value = 1\n",
        "\n",
        "def foo():\n",
        "    value = 2\n",
        "    \n",
        "    def bar():\n",
        "        global value\n",
        "        value = 3\n",
        "    \n",
        "    bar()\n",
        "    print('enclosing scope value', value)\n",
        "    \n",
        "foo()\n",
        "print('global value', value)"
      ],
      "execution_count": 55,
      "outputs": [
        {
          "output_type": "stream",
          "name": "stdout",
          "text": [
            "enclosing scope value 2\n",
            "global value 3\n"
          ]
        }
      ]
    },
    {
      "cell_type": "markdown",
      "metadata": {
        "id": "p02fXmAKHpYr"
      },
      "source": [
        "### \"Nonlocal\" keyword"
      ]
    },
    {
      "cell_type": "code",
      "metadata": {
        "id": "Z3VzwBZuHpYr",
        "colab": {
          "base_uri": "https://localhost:8080/"
        },
        "outputId": "c25a845c-47ea-45c2-9c8a-cdeb6eaa9adb"
      },
      "source": [
        "value = 1\n",
        "\n",
        "def foo():\n",
        "    value = 2\n",
        "    \n",
        "    def bar():\n",
        "        nonlocal value\n",
        "        value = 3\n",
        "    \n",
        "    bar()\n",
        "    print('enclosing scope value', value)\n",
        "    \n",
        "foo()\n",
        "print('global value', value)"
      ],
      "execution_count": 56,
      "outputs": [
        {
          "output_type": "stream",
          "name": "stdout",
          "text": [
            "enclosing scope value 3\n",
            "global value 1\n"
          ]
        }
      ]
    },
    {
      "cell_type": "markdown",
      "metadata": {
        "id": "kM81H9LRHpYr"
      },
      "source": [
        "It is important to realize that scopes are determined textually: the global scope of a function defined in a module is that module’s namespace, no matter from where or by what alias the function is called. On the other hand, the actual search for names is done dynamically, at run time — however, the language definition is evolving towards static name resolution, at “compile” time, so don’t rely on dynamic name resolution! (In fact, local variables are already determined statically.)\n",
        "\n",
        "* Scope is static\n",
        "* Name resolving is dynamic"
      ]
    },
    {
      "cell_type": "code",
      "metadata": {
        "id": "N-rBMt43HpYr",
        "colab": {
          "base_uri": "https://localhost:8080/",
          "height": 235
        },
        "outputId": "107c7048-0f21-47f8-c126-6e321b1e1b6e"
      },
      "source": [
        "for i in range(10**7):  # we redefined range\n",
        "    \n",
        "    a = i**2\n",
        "    \n",
        "    if i > 9*10**6: \n",
        "        print(4)\n",
        "        break"
      ],
      "execution_count": 57,
      "outputs": [
        {
          "output_type": "error",
          "ename": "TypeError",
          "evalue": "ignored",
          "traceback": [
            "\u001b[0;31m---------------------------------------------------------------------------\u001b[0m",
            "\u001b[0;31mTypeError\u001b[0m                                 Traceback (most recent call last)",
            "\u001b[0;32m<ipython-input-57-4536f524b61e>\u001b[0m in \u001b[0;36m<module>\u001b[0;34m()\u001b[0m\n\u001b[1;32m      1\u001b[0m \u001b[0;34m\u001b[0m\u001b[0m\n\u001b[0;32m----> 2\u001b[0;31m \u001b[0;32mfor\u001b[0m \u001b[0mi\u001b[0m \u001b[0;32min\u001b[0m \u001b[0mrange\u001b[0m\u001b[0;34m(\u001b[0m\u001b[0;36m10\u001b[0m\u001b[0;34m**\u001b[0m\u001b[0;36m7\u001b[0m\u001b[0;34m)\u001b[0m\u001b[0;34m:\u001b[0m\u001b[0;34m\u001b[0m\u001b[0;34m\u001b[0m\u001b[0m\n\u001b[0m\u001b[1;32m      3\u001b[0m \u001b[0;34m\u001b[0m\u001b[0m\n\u001b[1;32m      4\u001b[0m     \u001b[0ma\u001b[0m \u001b[0;34m=\u001b[0m \u001b[0mi\u001b[0m\u001b[0;34m**\u001b[0m\u001b[0;36m2\u001b[0m\u001b[0;34m\u001b[0m\u001b[0;34m\u001b[0m\u001b[0m\n\u001b[1;32m      5\u001b[0m \u001b[0;34m\u001b[0m\u001b[0m\n",
            "\u001b[0;31mTypeError\u001b[0m: 'str' object is not callable"
          ]
        }
      ]
    },
    {
      "cell_type": "markdown",
      "metadata": {
        "id": "jQKz30KqHpYr"
      },
      "source": [
        "# Closures\n",
        "\n",
        "*In computer programming languages, a closure is a function together with a referencing environment of that function. A closure function is any function that uses a variable that is defined in an environment (or scope) that is external to that function, and is accessible within the function when invoked from a scope in which that free variable is not defined.*\n",
        "\n",
        "The existence of closures follows from the LEGB rule, the ability to operate with functions as objects, and the fact that the scope in Python is static."
      ]
    },
    {
      "cell_type": "code",
      "metadata": {
        "id": "Yq_Z-sMrHpYr",
        "colab": {
          "base_uri": "https://localhost:8080/"
        },
        "outputId": "c758104b-3a5a-439c-b9a6-00c56847523b"
      },
      "source": [
        "# What will be printed?\n",
        "del range\n",
        "multipliers = []\n",
        "\n",
        "\n",
        "for m in range(5):\n",
        "    multipliers.append(lambda x: x * m)\n",
        "\n",
        "m = 20\n",
        "print([multipliers[i](5) for i in range(5)])"
      ],
      "execution_count": 60,
      "outputs": [
        {
          "output_type": "stream",
          "name": "stdout",
          "text": [
            "[100, 100, 100, 100, 100]\n"
          ]
        }
      ]
    },
    {
      "cell_type": "code",
      "metadata": {
        "id": "PMG0h0PPHpYr",
        "colab": {
          "base_uri": "https://localhost:8080/"
        },
        "outputId": "74d3de1a-294e-444e-dc1a-a8439ad80b79"
      },
      "source": [
        "\n",
        "#Equivalent\n",
        "\n",
        "multipliers = []\n",
        "\n",
        "def f(x):\n",
        "    return x*m\n",
        "\n",
        "\n",
        "for m in range(5):\n",
        "    multipliers.append(f)\n",
        "\n",
        "m = 20\n",
        "print([multipliers[i](5) for i in range(5)])"
      ],
      "execution_count": 61,
      "outputs": [
        {
          "output_type": "stream",
          "name": "stdout",
          "text": [
            "[100, 100, 100, 100, 100]\n"
          ]
        }
      ]
    },
    {
      "cell_type": "code",
      "metadata": {
        "id": "B_9sckE-HpYr",
        "colab": {
          "base_uri": "https://localhost:8080/"
        },
        "outputId": "5ef8e423-4c60-4a43-88c4-a2944d40b3b3"
      },
      "source": [
        "\n",
        "def foo():\n",
        "    def bar():\n",
        "        print(x)\n",
        "    x = 5\n",
        "    return bar\n",
        "\n",
        "bar2 = foo()\n",
        "bar2()\n",
        "\n",
        "x = 9\n",
        "bar2()"
      ],
      "execution_count": 62,
      "outputs": [
        {
          "output_type": "stream",
          "name": "stdout",
          "text": [
            "5\n",
            "5\n"
          ]
        }
      ]
    },
    {
      "cell_type": "code",
      "metadata": {
        "id": "PHKuo3zfHpYr",
        "colab": {
          "base_uri": "https://localhost:8080/"
        },
        "outputId": "57149262-3c7d-40b5-8d25-6c2bb27ea384"
      },
      "source": [
        "def make_adder(x):\n",
        "    def adder(y):\n",
        "        return x + y\n",
        "    return adder\n",
        "\n",
        "add_two = make_adder(2)\n",
        "add_three = make_adder(3)\n",
        "\n",
        "print(add_two(5))  # 7\n",
        "print(add_two(7))  \n",
        "print(add_three(10))"
      ],
      "execution_count": 63,
      "outputs": [
        {
          "output_type": "stream",
          "name": "stdout",
          "text": [
            "7\n",
            "9\n",
            "13\n"
          ]
        }
      ]
    },
    {
      "cell_type": "markdown",
      "metadata": {
        "id": "-iobggycHpYs"
      },
      "source": [
        "### Functions can close the same variables"
      ]
    },
    {
      "cell_type": "code",
      "metadata": {
        "id": "t0ihcJdNHpYs",
        "colab": {
          "base_uri": "https://localhost:8080/"
        },
        "outputId": "71590924-b46e-4116-f41b-16a89ddd3c5d"
      },
      "source": [
        "def cell(value = 0):\n",
        "    def get():\n",
        "        return value\n",
        "    \n",
        "    def set(new_value):\n",
        "        nonlocal value\n",
        "        value = new_value\n",
        "        return value\n",
        "    \n",
        "    return get, set\n",
        "\n",
        "get_, set_ = cell(10)\n",
        "print(get_())\n",
        "\n",
        "set_(20)\n",
        "print(get_())"
      ],
      "execution_count": 64,
      "outputs": [
        {
          "output_type": "stream",
          "name": "stdout",
          "text": [
            "10\n"
          ]
        },
        {
          "output_type": "execute_result",
          "data": {
            "text/plain": [
              "20"
            ]
          },
          "metadata": {},
          "execution_count": 64
        },
        {
          "output_type": "stream",
          "name": "stdout",
          "text": [
            "20\n"
          ]
        }
      ]
    },
    {
      "cell_type": "markdown",
      "metadata": {
        "id": "gfDTQBsnHpYs"
      },
      "source": [
        "### Let's look under the hood"
      ]
    },
    {
      "cell_type": "code",
      "metadata": {
        "id": "PjDIpVnRHpYs",
        "colab": {
          "base_uri": "https://localhost:8080/"
        },
        "outputId": "ea138d1f-664a-452e-e300-fae3c8c9b7c8"
      },
      "source": [
        "print(get_.__closure__)\n",
        "print(get_.__closure__[0].cell_contents)"
      ],
      "execution_count": 65,
      "outputs": [
        {
          "output_type": "stream",
          "name": "stdout",
          "text": [
            "(<cell at 0x7f81cd865350: int object at 0x5622254f2c60>,)\n",
            "20\n"
          ]
        }
      ]
    },
    {
      "cell_type": "markdown",
      "metadata": {
        "id": "BAlWbPYvHpYs"
      },
      "source": [
        "**\\_\\_closure\\_\\_**  is a list of closed variables.<br>\n",
        "A variable is represented by a class **cell** with the only attribute **cell_contents**"
      ]
    },
    {
      "cell_type": "code",
      "metadata": {
        "id": "RJb7dhXnHpYs",
        "colab": {
          "base_uri": "https://localhost:8080/"
        },
        "outputId": "94f495e0-6a58-4fab-e61e-a8728adc1fe1"
      },
      "source": [
        "print(get_.__closure__ == set_.__closure__)\n",
        "print(get_.__closure__[0] is set_.__closure__[0])"
      ],
      "execution_count": 66,
      "outputs": [
        {
          "output_type": "stream",
          "name": "stdout",
          "text": [
            "True\n",
            "True\n"
          ]
        }
      ]
    },
    {
      "cell_type": "markdown",
      "metadata": {
        "id": "xsmqA964HpYs"
      },
      "source": [
        "# Decorators\n",
        "\n",
        "Closures as a method to easily change function behavior"
      ]
    },
    {
      "cell_type": "code",
      "metadata": {
        "id": "XkLBO71UHpYs",
        "colab": {
          "base_uri": "https://localhost:8080/"
        },
        "outputId": "3918535f-9be6-4afc-d849-870f00a33f5b"
      },
      "source": [
        "import sys\n",
        "\n",
        "def deprecate(func):\n",
        "    def inner(*args, **kwargs):\n",
        "        print('{} is deprecated'.format(func.__name__), file=sys.stderr)\n",
        "        return func(*args, **kwargs)\n",
        "    return inner\n",
        "\n",
        "pprint = deprecate(print)\n",
        "\n",
        "pprint([1, 2, 3])"
      ],
      "execution_count": 67,
      "outputs": [
        {
          "output_type": "stream",
          "name": "stdout",
          "text": [
            "[1, 2, 3]\n"
          ]
        },
        {
          "output_type": "stream",
          "name": "stderr",
          "text": [
            "print is deprecated\n"
          ]
        }
      ]
    },
    {
      "cell_type": "markdown",
      "metadata": {
        "id": "IJOEPL3KHpYs"
      },
      "source": [
        "### Syntax"
      ]
    },
    {
      "cell_type": "code",
      "metadata": {
        "id": "RjUtj1y_HpYs",
        "colab": {
          "base_uri": "https://localhost:8080/"
        },
        "outputId": "337ad77a-d793-4c45-a6a3-dbf48b27b526"
      },
      "source": [
        "import sys\n",
        "\n",
        "def deprecated(func):\n",
        "    def wrapper(*args, **kwargs):\n",
        "        print('{} is deprecated'.format(func.__name__), file=sys.stderr)\n",
        "        return func(*args, **kwargs)\n",
        "    return wrapper\n",
        "\n",
        "\n",
        "@deprecated\n",
        "def show(x):\n",
        "    print(x)\n",
        "   \n",
        "    \n",
        "show([1, 2, 3])"
      ],
      "execution_count": 68,
      "outputs": [
        {
          "output_type": "stream",
          "name": "stdout",
          "text": [
            "[1, 2, 3]\n"
          ]
        },
        {
          "output_type": "stream",
          "name": "stderr",
          "text": [
            "show is deprecated\n"
          ]
        }
      ]
    },
    {
      "cell_type": "markdown",
      "metadata": {
        "id": "KLbBBBXVHpYs"
      },
      "source": [
        "### Difficulty"
      ]
    },
    {
      "cell_type": "code",
      "metadata": {
        "id": "iN7DM4nFHpYt",
        "colab": {
          "base_uri": "https://localhost:8080/"
        },
        "outputId": "323ea6a9-4257-4ac8-aa8c-7108b0f287e3"
      },
      "source": [
        "@deprecated\n",
        "def show(x):\n",
        "    'This is a really nice looking docstring'\n",
        "    print(x)\n",
        "\n",
        "print(show.__name__)\n",
        "print(show.__doc__)"
      ],
      "execution_count": 69,
      "outputs": [
        {
          "output_type": "stream",
          "name": "stdout",
          "text": [
            "wrapper\n",
            "None\n"
          ]
        }
      ]
    },
    {
      "cell_type": "markdown",
      "metadata": {
        "id": "3IX0LxwDHpYt"
      },
      "source": [
        "### Solution 1"
      ]
    },
    {
      "cell_type": "code",
      "metadata": {
        "id": "qos6idumHpYt",
        "colab": {
          "base_uri": "https://localhost:8080/"
        },
        "outputId": "b809cad0-bffe-4494-a6dc-0e8a2d30eed8"
      },
      "source": [
        "def deprecated(func):\n",
        "    def wrapper(*args, **kwargs):\n",
        "        print('{} is deprecated!'.format(func.__name__), file=sys.stderr)\n",
        "        return func(*args, **kwargs)\n",
        "    wrapper.__name__ = func.__name__\n",
        "    wrapper.__doc__ = func.__doc__\n",
        "    wrapper.__module__ = func.__module__\n",
        "    return wrapper\n",
        "\n",
        "@deprecated\n",
        "def show(x):\n",
        "    'This is a really nice looking docstring'\n",
        "    print(x)\n",
        "\n",
        "print(show.__name__)\n",
        "print(show.__doc__)"
      ],
      "execution_count": 70,
      "outputs": [
        {
          "output_type": "stream",
          "name": "stdout",
          "text": [
            "show\n",
            "This is a really nice looking docstring\n"
          ]
        }
      ]
    },
    {
      "cell_type": "markdown",
      "metadata": {
        "id": "0QP0onekHpYt"
      },
      "source": [
        "### Solution 2"
      ]
    },
    {
      "cell_type": "code",
      "metadata": {
        "id": "xyONJ5j4HpYt",
        "colab": {
          "base_uri": "https://localhost:8080/"
        },
        "outputId": "a60c9894-89ba-4fbb-f585-591708cafc3a"
      },
      "source": [
        "import functools\n",
        "\n",
        "def deprecated(func):\n",
        "    @functools.wraps(func) \n",
        "    def wrapper(*args, **kwargs):\n",
        "        print('{} is deprecated!'.format(func.__name__), file=sys.stderr)\n",
        "        return func(*args, **kwargs)\n",
        "    return wrapper\n",
        "\n",
        "@deprecated\n",
        "def show(x):\n",
        "    'This is a really nice looking docstring'\n",
        "    print(x)\n",
        "\n",
        "print(show.__name__)\n",
        "print(show.__doc__)"
      ],
      "execution_count": 71,
      "outputs": [
        {
          "output_type": "stream",
          "name": "stdout",
          "text": [
            "show\n",
            "This is a really nice looking docstring\n"
          ]
        }
      ]
    },
    {
      "cell_type": "markdown",
      "metadata": {
        "id": "-hqxmGPzHpYt"
      },
      "source": [
        "### Decorators with arguments"
      ]
    },
    {
      "cell_type": "code",
      "metadata": {
        "id": "ALFObLylHpYt",
        "colab": {
          "base_uri": "https://localhost:8080/"
        },
        "outputId": "3a1cf8e6-d41f-448c-bc59-2fe0d2f748ae"
      },
      "source": [
        "def trace(dest=sys.stderr):\n",
        "    def wraps(func):\n",
        "        @functools.wraps(func)\n",
        "        def wrapper(*args, **kwargs):\n",
        "            print('{} called with args {}, kwargs {}!'.format(func.__name__, args, kwargs), file = dest)\n",
        "            return func(*args, **kwargs)\n",
        "        return wrapper\n",
        "    return wraps\n",
        "\n",
        "@trace(sys.stdout) \n",
        "def f(x, test):\n",
        "    if test > 1:\n",
        "        return f(x, test / 2)\n",
        "\n",
        "f('Hi!', test=42)"
      ],
      "execution_count": 72,
      "outputs": [
        {
          "output_type": "stream",
          "name": "stdout",
          "text": [
            "f called with args ('Hi!',), kwargs {'test': 42}!\n",
            "f called with args ('Hi!', 21.0), kwargs {}!\n",
            "f called with args ('Hi!', 10.5), kwargs {}!\n",
            "f called with args ('Hi!', 5.25), kwargs {}!\n",
            "f called with args ('Hi!', 2.625), kwargs {}!\n",
            "f called with args ('Hi!', 1.3125), kwargs {}!\n",
            "f called with args ('Hi!', 0.65625), kwargs {}!\n"
          ]
        }
      ]
    },
    {
      "cell_type": "markdown",
      "metadata": {
        "id": "JGqPLoc-HpYt"
      },
      "source": [
        "### A simple task\n",
        "\n",
        "Create a decorator **once(function)** that calls **function** exactly once."
      ]
    },
    {
      "cell_type": "code",
      "metadata": {
        "id": "5e93VdVgHpYt",
        "colab": {
          "base_uri": "https://localhost:8080/"
        },
        "outputId": "bf61008b-97c8-40c8-d2c0-97a2ec38f113"
      },
      "source": [
        "@once\n",
        "def foo():\n",
        "    print('Hi!')\n",
        "\n",
        "foo()\n",
        "foo()"
      ],
      "execution_count": 73,
      "outputs": [
        {
          "output_type": "stream",
          "name": "stdout",
          "text": [
            "Hi!\n"
          ]
        }
      ]
    },
    {
      "cell_type": "code",
      "metadata": {
        "id": "YBKk5kt2HpYt",
        "colab": {
          "base_uri": "https://localhost:8080/"
        },
        "outputId": "539e5420-dae1-41be-dcbe-a311166361e2"
      },
      "source": [
        "def once(func):\n",
        "    def wrapper(*args, **kwargs):\n",
        "        nonlocal called\n",
        "        if not called:\n",
        "            called = True\n",
        "            return func(*args, **kwargs)\n",
        "\n",
        "    called = False\n",
        "    return wrapper\n",
        "\n",
        "@once\n",
        "def f():\n",
        "    print('Hi!')\n",
        "\n",
        "f()\n",
        "f()\n",
        "f()\n",
        "print('---')\n",
        "f()"
      ],
      "execution_count": 74,
      "outputs": [
        {
          "output_type": "stream",
          "name": "stdout",
          "text": [
            "Hi!\n",
            "---\n"
          ]
        }
      ]
    },
    {
      "cell_type": "markdown",
      "metadata": {
        "id": "oPuma_XkHpYu"
      },
      "source": [
        "### Decorators do not have to be functions"
      ]
    },
    {
      "cell_type": "code",
      "metadata": {
        "collapsed": true,
        "id": "wHRhopjeHpYu"
      },
      "source": [
        "from collections import Counter \n",
        "\n",
        "class Register(object):\n",
        "    def __init__(self):\n",
        "        self.stat = Counter()\n",
        "        \n",
        "    def __call__(self, func):\n",
        "        nm = func.__name__\n",
        "        def wrapper(*args, **kwrags):\n",
        "            self.stat[nm] += 1\n",
        "            return func(*args, **kwrags)\n",
        "        return wrapper\n",
        "    \n",
        "    def __str__(self):\n",
        "        result = 'fname\\tcallcount\\n'\n",
        "        for name, count in self.stat.items():\n",
        "            result += '{}:\\t{}\\n'.format(name, count)\n",
        "        return result\n",
        "    \n",
        "register = Register()"
      ],
      "execution_count": 75,
      "outputs": []
    },
    {
      "cell_type": "code",
      "metadata": {
        "id": "M2WrGep5HpYu",
        "colab": {
          "base_uri": "https://localhost:8080/"
        },
        "outputId": "cda466d6-38e6-4b8e-8630-056a2355885c"
      },
      "source": [
        "\n",
        "@register\n",
        "def f(x):\n",
        "    return x \n",
        "\n",
        "@register\n",
        "def q(x):\n",
        "    return q\n",
        "\n",
        "f(1), q(2), q(4)\n",
        "q(2), f(5)\n",
        "print(register)"
      ],
      "execution_count": 76,
      "outputs": [
        {
          "output_type": "execute_result",
          "data": {
            "text/plain": [
              "(1,\n",
              " <function __main__.Register.__call__.<locals>.wrapper>,\n",
              " <function __main__.Register.__call__.<locals>.wrapper>)"
            ]
          },
          "metadata": {},
          "execution_count": 76
        },
        {
          "output_type": "execute_result",
          "data": {
            "text/plain": [
              "(<function __main__.Register.__call__.<locals>.wrapper>, 5)"
            ]
          },
          "metadata": {},
          "execution_count": 76
        },
        {
          "output_type": "stream",
          "name": "stdout",
          "text": [
            "fname\tcallcount\n",
            "f:\t2\n",
            "q:\t3\n",
            "\n"
          ]
        }
      ]
    },
    {
      "cell_type": "code",
      "metadata": {
        "id": "9GNxoat9AIbz"
      },
      "source": [
        ""
      ],
      "execution_count": null,
      "outputs": []
    }
  ]
}