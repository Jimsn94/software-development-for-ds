{
  "nbformat": 4,
  "nbformat_minor": 0,
  "metadata": {
    "celltoolbar": "Slideshow",
    "kernelspec": {
      "display_name": "Python 3",
      "language": "python",
      "name": "python3"
    },
    "language_info": {
      "codemirror_mode": {
        "name": "ipython",
        "version": 3
      },
      "file_extension": ".py",
      "mimetype": "text/x-python",
      "name": "python",
      "nbconvert_exporter": "python",
      "pygments_lexer": "ipython3",
      "version": "3.8.2"
    },
    "colab": {
      "name": "functions_generators_scopes",
      "provenance": []
    }
  },
  "cells": [
    {
      "cell_type": "code",
      "metadata": {
        "id": "Mc_p2kaZHpYe"
      },
      "source": [
        "from IPython.core.interactiveshell import InteractiveShell\n",
        "InteractiveShell.ast_node_interactivity = \"all\""
      ],
      "execution_count": null,
      "outputs": []
    },
    {
      "cell_type": "markdown",
      "metadata": {
        "id": "aKNJtH5THpYf"
      },
      "source": [
        ""
      ]
    },
    {
      "cell_type": "markdown",
      "metadata": {
        "id": "pM3DKVBVHpYg"
      },
      "source": [
        "# Functions, generators, scope, closures, decorators\n",
        "### Contents\n",
        "\n",
        "* Functions basics\n",
        "* Default arguments\n",
        "* Variable number of arguments\n",
        "* Recursion\n",
        "* Generators\n",
        "* Anonymous functions (lambdas)\n",
        "* Attributes\n",
        "* Scope and namespaces\n",
        "* Closures\n",
        "* Decorators"
      ]
    },
    {
      "cell_type": "markdown",
      "metadata": {
        "id": "XfrIECA8HpYg"
      },
      "source": [
        "## Function declaration and calling"
      ]
    },
    {
      "cell_type": "code",
      "metadata": {
        "collapsed": true,
        "id": "tnnwrdtEHpYg"
      },
      "source": [
        "def foo(a, b):\n",
        "    print('a =', a, 'b =', b)\n",
        "    \n",
        "foo(1, 'b')"
      ],
      "execution_count": null,
      "outputs": []
    },
    {
      "cell_type": "markdown",
      "metadata": {
        "id": "1akHbDuRHpYg"
      },
      "source": [
        "### Default arguments"
      ]
    },
    {
      "cell_type": "code",
      "metadata": {
        "collapsed": true,
        "id": "xEoD6SWOHpYh"
      },
      "source": [
        "def foo(a, b, c=0.5, d=(None,)):\n",
        "    print('a =', a, 'b =', b, 'c =', c, 'd =', d)\n",
        "    \n",
        "foo(1, 'b')\n",
        "foo(1, 'b', 0.3)\n",
        "foo(1, 'b', d='d')\n",
        "foo(1, d='d', c=0.3, b='b')"
      ],
      "execution_count": null,
      "outputs": []
    },
    {
      "cell_type": "markdown",
      "metadata": {
        "id": "3kEz-FS0HpYh"
      },
      "source": [
        "### call-by-value (immutable arguments) vs. call-by-reference (mutable arguments)"
      ]
    },
    {
      "cell_type": "code",
      "metadata": {
        "id": "PSWZSyDXHpYh",
        "outputId": "da445883-728f-41b4-b2a6-b59ded69ab69"
      },
      "source": [
        "\n",
        "\n",
        "def get_my_hero_team(team, number):\n",
        "    number = 10\n",
        "    team['Chuck'] = 'Norris'\n",
        "    team['Sylvester'] = 'Stallone'\n",
        "    \n",
        "number = 5\n",
        "hero_team = {'Bruce': 'Willis', 'Chuck': 'Lorre'}\n",
        "get_my_hero_team(hero_team, number)\n",
        "\n",
        "[print(*item) for item in hero_team.items()]\n",
        "print(number)"
      ],
      "execution_count": null,
      "outputs": [
        {
          "name": "stdout",
          "output_type": "stream",
          "text": [
            "Bruce Willis\n",
            "Chuck Norris\n",
            "Sylvester Stallone\n",
            "5\n"
          ]
        }
      ]
    },
    {
      "cell_type": "markdown",
      "metadata": {
        "id": "7z53AGkSHpYi"
      },
      "source": [
        "### Variable number of arguments"
      ]
    },
    {
      "cell_type": "code",
      "metadata": {
        "collapsed": true,
        "id": "v9cQTFRhHpYi"
      },
      "source": [
        "def foo(a, *args):\n",
        "    print('a =', a, 'args =', args)\n",
        "\n",
        "array = [1, 'b'] \n",
        "foo(array) \n",
        "#foo(*array)\n",
        "#foo(1, 'b', 0.5)\n",
        "#foo(*[1, 'b', [1, 2], 0.5])"
      ],
      "execution_count": null,
      "outputs": []
    },
    {
      "cell_type": "code",
      "metadata": {
        "collapsed": true,
        "id": "FY2o9YhVHpYi"
      },
      "source": [
        "def foo(a, *args, b):\n",
        "    print('a =', a, 'b =', b, 'args =', args)\n",
        "    \n",
        "foo(1, [1, 2], 0.5, b = 'b')"
      ],
      "execution_count": null,
      "outputs": []
    },
    {
      "cell_type": "code",
      "metadata": {
        "collapsed": true,
        "id": "I4JnntCrHpYj"
      },
      "source": [
        "def foo(a, b=0.5, **kwargs):\n",
        "    print('a =', a, 'b =', b, 'kwargs =', kwargs)\n",
        "    \n",
        "foo(1, c='c')\n",
        "foo(1, c='c', b='b')\n",
        "foo(1, 'b', c='c', d='d')"
      ],
      "execution_count": null,
      "outputs": []
    },
    {
      "cell_type": "code",
      "metadata": {
        "collapsed": true,
        "id": "PiwY-eOkHpYj"
      },
      "source": [
        "def foo(*args, **kwargs):\n",
        "    print('args =', args, 'kwargs =', kwargs)\n",
        "    \n",
        "foo(1, 'a', x=0.5, y=[3, 4])\n",
        "foo(*[1, 'a'], **{'x' : 0.5, 'y': [3, 4]})"
      ],
      "execution_count": null,
      "outputs": []
    },
    {
      "cell_type": "markdown",
      "metadata": {
        "id": "Tj3I-NV8HpYj"
      },
      "source": [
        "### Recursion"
      ]
    },
    {
      "cell_type": "code",
      "metadata": {
        "collapsed": true,
        "id": "lR49NmkBHpYj"
      },
      "source": [
        "def easy_sort(x):\n",
        "    if not x:\n",
        "        return x\n",
        "    \n",
        "    first = min(x)\n",
        "    x.remove(first)\n",
        "    return [first] + easy_sort(x)\n",
        "    \n",
        "easy_sort([4, 2, 3, 1, 7, 5])"
      ],
      "execution_count": null,
      "outputs": []
    },
    {
      "cell_type": "code",
      "metadata": {
        "collapsed": true,
        "id": "BbI5AbtWHpYj"
      },
      "source": [
        "def ackermann(m, n):\n",
        "    if m == 0:\n",
        "        return n + 1\n",
        "    if n == 0:\n",
        "        return ackermann(m - 1, 1)\n",
        "    return ackermann(m - 1, ackermann(m, n - 1))"
      ],
      "execution_count": null,
      "outputs": []
    },
    {
      "cell_type": "code",
      "metadata": {
        "collapsed": true,
        "id": "PgvqsiiSHpYj"
      },
      "source": [
        "print(ackermann(1, 3))\n",
        "print(ackermann(2, 3))\n",
        "print(ackermann(3, 3))"
      ],
      "execution_count": null,
      "outputs": []
    },
    {
      "cell_type": "markdown",
      "metadata": {
        "id": "QjrbTufiHpYj"
      },
      "source": [
        "## Iterable/Iterator/Generator\n",
        "\n",
        "* **Iterable** is an object with defined **\\_\\_iter\\_\\_** method\n",
        "\n",
        "* **Iterator** is an object with defined **\\_\\_next\\_\\_** method\n",
        "\n",
        "* **Generator** is a special kind of an iterator\n",
        "\n",
        "* **Generator Expression** is a way to define a generator\n",
        "\n",
        "* **Generator function** is a way to define a generator\n"
      ]
    },
    {
      "cell_type": "code",
      "metadata": {
        "collapsed": true,
        "id": "htiGvcxfHpYk"
      },
      "source": [
        "values = ['Hello', 'world!']\n",
        "print(values.__iter__())\n",
        "\n",
        "def foo(x):\n",
        "    print('I am a generator!')\n",
        "    return x.__iter__()\n",
        "\n",
        "for value in foo(values):\n",
        "    print(value, end=' ')"
      ],
      "execution_count": null,
      "outputs": []
    },
    {
      "cell_type": "markdown",
      "metadata": {
        "id": "UbtpwjRAHpYk"
      },
      "source": [
        "### **yield**"
      ]
    },
    {
      "cell_type": "code",
      "metadata": {
        "id": "xML3y6hmHpYk",
        "outputId": "3a259055-089c-475a-dc21-e41e1737f65e"
      },
      "source": [
        "values = ['Hello', 'world!']\n",
        "\n",
        "def foo(x):\n",
        "    print('I am a generator!')\n",
        "    for value in x:\n",
        "        yield value\n",
        "        \n",
        "for value in foo(values):\n",
        "    print(value, end=' ')"
      ],
      "execution_count": null,
      "outputs": [
        {
          "name": "stdout",
          "output_type": "stream",
          "text": [
            "I am a generator!\n",
            "Hello world! "
          ]
        }
      ]
    },
    {
      "cell_type": "markdown",
      "metadata": {
        "id": "7iq1UAS_HpYk"
      },
      "source": [
        "### Cubes "
      ]
    },
    {
      "cell_type": "code",
      "metadata": {
        "collapsed": true,
        "id": "YQCyaczxHpYk"
      },
      "source": [
        "def cubes(x):\n",
        "    for value in x:\n",
        "        yield value ** 3\n",
        "        \n",
        "for value in cubes(range(10)):\n",
        "    print(value, end=' ')"
      ],
      "execution_count": null,
      "outputs": []
    },
    {
      "cell_type": "markdown",
      "metadata": {
        "id": "gXTDvdmRHpYl"
      },
      "source": [
        "Generator can be infinite (endless)"
      ]
    },
    {
      "cell_type": "code",
      "metadata": {
        "collapsed": true,
        "id": "pfHAjk8kHpYl"
      },
      "source": [
        "def cubes():\n",
        "    i = 0\n",
        "    while True:\n",
        "        yield i ** 3\n",
        "        i += 1\n",
        "        \n",
        "for value in cubes():\n",
        "    print(value, end=' ')\n",
        "    \n",
        "    if value > 100:\n",
        "        break\n"
      ],
      "execution_count": null,
      "outputs": []
    },
    {
      "cell_type": "markdown",
      "metadata": {
        "id": "PSq4ap5AHpYl"
      },
      "source": [
        "### Task 1\n",
        "Create a generator **limit(generator, max_count)** that returns not more than **max_count** values of the **generator**."
      ]
    },
    {
      "cell_type": "code",
      "metadata": {
        "id": "bKxMK52cHpYl"
      },
      "source": [
        ""
      ],
      "execution_count": null,
      "outputs": []
    },
    {
      "cell_type": "code",
      "metadata": {
        "id": "HpyiP418HpYl"
      },
      "source": [
        ""
      ],
      "execution_count": null,
      "outputs": []
    },
    {
      "cell_type": "code",
      "metadata": {
        "id": "HvUdRDzyHpYl"
      },
      "source": [
        ""
      ],
      "execution_count": null,
      "outputs": []
    },
    {
      "cell_type": "code",
      "metadata": {
        "id": "3TjHzii9HpYl"
      },
      "source": [
        ""
      ],
      "execution_count": null,
      "outputs": []
    },
    {
      "cell_type": "code",
      "metadata": {
        "id": "cZQmml7GHpYl"
      },
      "source": [
        ""
      ],
      "execution_count": null,
      "outputs": []
    },
    {
      "cell_type": "code",
      "metadata": {
        "collapsed": true,
        "id": "1MMx8XlRHpYl"
      },
      "source": [
        "def limit(gen, lim):\n",
        "    count = 0\n",
        "    for val in gen():\n",
        "        yield val\n",
        "        count += 1\n",
        "        if count >= lim:\n",
        "            break"
      ],
      "execution_count": null,
      "outputs": []
    },
    {
      "cell_type": "code",
      "metadata": {
        "collapsed": true,
        "id": "aKk6KStHHpYl"
      },
      "source": [
        "for value in limit(cubes, 10):\n",
        "    print(value, end=' ')"
      ],
      "execution_count": null,
      "outputs": []
    },
    {
      "cell_type": "markdown",
      "metadata": {
        "id": "jRLfNk1DHpYl"
      },
      "source": [
        "### Task 2\n",
        "Create a generator **all_elements(list)** that returns all the elements of **list** of any nesting."
      ]
    },
    {
      "cell_type": "markdown",
      "metadata": {
        "id": "uIl5aKFFHpYl"
      },
      "source": [
        "Note: to verify that the object is iterable, you can verify that it is inherited from **Iterable**."
      ]
    },
    {
      "cell_type": "code",
      "metadata": {
        "id": "sXZZuA_VHpYm"
      },
      "source": [
        "from collections.abc import Iterable\n",
        "\n",
        "if isinstance(e, Iterable):\n",
        "    # e is iterable"
      ],
      "execution_count": null,
      "outputs": []
    },
    {
      "cell_type": "code",
      "metadata": {
        "id": "Aeq-o8y9HpYm"
      },
      "source": [
        ""
      ],
      "execution_count": null,
      "outputs": []
    },
    {
      "cell_type": "code",
      "metadata": {
        "id": "bHu_h2x9HpYm"
      },
      "source": [
        "values = [1, [2, 3], [4, [5, 6], [[[7]]]], 8]\n",
        "for value in all_elements(values):\n",
        "    print(value, end=' ')"
      ],
      "execution_count": null,
      "outputs": []
    },
    {
      "cell_type": "code",
      "metadata": {
        "id": "UqMJzqkXHpYm"
      },
      "source": [
        ""
      ],
      "execution_count": null,
      "outputs": []
    },
    {
      "cell_type": "code",
      "metadata": {
        "collapsed": true,
        "id": "VBpUVVmqHpYm"
      },
      "source": [
        "from collections.abc import Iterable\n",
        "\n",
        "def all_elements(x):\n",
        "    if not isinstance(x, Iterable):\n",
        "        yield x\n",
        "    else:\n",
        "        for val in x:\n",
        "            for element in all_elements(val):\n",
        "                yield element"
      ],
      "execution_count": null,
      "outputs": []
    },
    {
      "cell_type": "code",
      "metadata": {
        "collapsed": true,
        "id": "f-_g4QD5HpYm"
      },
      "source": [
        "isinstance(list(),Iterable)\n",
        "type(list())"
      ],
      "execution_count": null,
      "outputs": []
    },
    {
      "cell_type": "code",
      "metadata": {
        "collapsed": true,
        "id": "rN_oF_UPHpYm"
      },
      "source": [
        "values = [1, [2, 3], [4, [5, 6], [[[7]]]], 8]\n",
        "for value in all_elements(values):\n",
        "    print(value, end=' ')"
      ],
      "execution_count": null,
      "outputs": []
    },
    {
      "cell_type": "markdown",
      "metadata": {
        "id": "gJVWNIVFHpYm"
      },
      "source": [
        "## Anonymous functions (Lambdas)"
      ]
    },
    {
      "cell_type": "code",
      "metadata": {
        "collapsed": true,
        "id": "KXkLB7fyHpYm"
      },
      "source": [
        "a = lambda x : print(x)\n",
        "a('gergerg')"
      ],
      "execution_count": null,
      "outputs": []
    },
    {
      "cell_type": "code",
      "metadata": {
        "collapsed": true,
        "id": "ZegXAhirHpYm"
      },
      "source": [
        "list(map(lambda x : x ** 2, range(10)))"
      ],
      "execution_count": null,
      "outputs": []
    },
    {
      "cell_type": "code",
      "metadata": {
        "collapsed": true,
        "id": "KmGpbThlHpYm"
      },
      "source": [
        "sorted([1, 2, 3, 4], key = lambda x : 1 / x)"
      ],
      "execution_count": null,
      "outputs": []
    },
    {
      "cell_type": "markdown",
      "metadata": {
        "id": "Q5_AJ5EUHpYm"
      },
      "source": [
        "## Attributes"
      ]
    },
    {
      "cell_type": "code",
      "metadata": {
        "collapsed": true,
        "id": "4YfQo1wHHpYn"
      },
      "source": [
        "def foo(*args, **kwargs):\n",
        "    'Function which prints arguments.'\n",
        "    print('args =', args, 'kwargs =', kwargs)\n",
        "\n",
        "print(dir(foo))\n",
        "print(foo.__name__)\n",
        "print(foo.__doc__)\n",
        "print(foo.__module__)\n"
      ],
      "execution_count": null,
      "outputs": []
    },
    {
      "cell_type": "markdown",
      "metadata": {
        "id": "xxcWzggbHpYn"
      },
      "source": [
        "### You can use attributes as static variables"
      ]
    },
    {
      "cell_type": "code",
      "metadata": {
        "id": "AbGjfILxHpYn",
        "outputId": "1b2bb7de-e6e1-445d-9440-e5b0d3704ce9"
      },
      "source": [
        "def get_next_id():\n",
        "    if not hasattr(get_next_id, 'value'):\n",
        "        get_next_id.value = 0\n",
        "    \n",
        "    get_next_id.value += 1\n",
        "    return get_next_id.value\n",
        "\n",
        "get_next_id()\n",
        "get_next_id()\n",
        "get_next_id()\n",
        "print('get_next_id.value =', get_next_id.value)"
      ],
      "execution_count": null,
      "outputs": [
        {
          "data": {
            "text/plain": [
              "1"
            ]
          },
          "execution_count": 6,
          "metadata": {},
          "output_type": "execute_result"
        },
        {
          "data": {
            "text/plain": [
              "2"
            ]
          },
          "execution_count": 6,
          "metadata": {},
          "output_type": "execute_result"
        },
        {
          "data": {
            "text/plain": [
              "3"
            ]
          },
          "execution_count": 6,
          "metadata": {},
          "output_type": "execute_result"
        },
        {
          "name": "stdout",
          "output_type": "stream",
          "text": [
            "get_next_id.value = 3\n"
          ]
        }
      ]
    },
    {
      "cell_type": "markdown",
      "metadata": {
        "id": "d-QJb74EHpYn"
      },
      "source": [
        "### Where are default arguments stored?"
      ]
    },
    {
      "cell_type": "code",
      "metadata": {
        "collapsed": true,
        "id": "D4w3HK6SHpYn"
      },
      "source": [
        "def foo(a = 'Hello', b = 1):\n",
        "    \n",
        "    print(a, b)\n",
        "\n",
        "print('Defaults: ', foo.__defaults__)\n",
        "foo()\n",
        "\n",
        "foo.__defaults__ = ('Hello', 'world!')\n",
        "print('Defaults: ', foo.__defaults__)\n",
        "foo()"
      ],
      "execution_count": null,
      "outputs": []
    },
    {
      "cell_type": "markdown",
      "metadata": {
        "id": "6tjbrdQYHpYn"
      },
      "source": [
        "### It's a bad idea to use mutable objects as default arguments"
      ]
    },
    {
      "cell_type": "code",
      "metadata": {
        "collapsed": true,
        "id": "VBTzdaSXHpYn"
      },
      "source": [
        "def foo(a, b = []):\n",
        "    b.append(a)\n",
        "    print(*b)\n",
        "    \n",
        "foo('Hello')\n",
        "foo('the')\n",
        "foo('wonderful')\n",
        "foo('world!')"
      ],
      "execution_count": null,
      "outputs": []
    },
    {
      "cell_type": "markdown",
      "metadata": {
        "id": "0Wi1jMkpHpYn"
      },
      "source": [
        "# Namespaces\n",
        "\n",
        "### Namespaces are mappings from variables into objects"
      ]
    },
    {
      "cell_type": "markdown",
      "metadata": {
        "id": "W_5w17nOHpYq"
      },
      "source": [
        "**locals()** - current namespace in the form of dict <br>\n",
        "**globals()** - module's namespace"
      ]
    },
    {
      "cell_type": "code",
      "metadata": {
        "id": "URAq9_Z3HpYq"
      },
      "source": [
        "locals() is globals()\n"
      ],
      "execution_count": null,
      "outputs": []
    },
    {
      "cell_type": "code",
      "metadata": {
        "id": "rpW09siGHpYq"
      },
      "source": [
        "value = 42\n",
        "print(globals()['value'])\n",
        "\n",
        "globals()['value'] = 100500\n",
        "print(value)"
      ],
      "execution_count": null,
      "outputs": []
    },
    {
      "cell_type": "markdown",
      "metadata": {
        "id": "vsXPCfL9HpYq"
      },
      "source": [
        "### Conditions and loops do not create new namespaces"
      ]
    },
    {
      "cell_type": "code",
      "metadata": {
        "id": "57KgUIldHpYq"
      },
      "source": [
        "if True:\n",
        "    value_assigned_in_if = 1\n",
        "    \n",
        "for loop_counter in range(1):\n",
        "    value_assigned_in_for = 2\n",
        "    \n",
        "print(loop_counter)\n",
        "print(value_assigned_in_if)\n",
        "print(value_assigned_in_for)"
      ],
      "execution_count": null,
      "outputs": []
    },
    {
      "cell_type": "markdown",
      "metadata": {
        "id": "XC1ybZ_bHpYq"
      },
      "source": [
        "### Functions create its own namespaces"
      ]
    },
    {
      "cell_type": "code",
      "metadata": {
        "id": "U4iwOGypHpYq"
      },
      "source": [
        "value = 0\n",
        "\n",
        "def foo():\n",
        "    #global value\n",
        "    #print(value)\n",
        "    value = 3\n",
        "    \n",
        "foo()\n",
        "print(value)"
      ],
      "execution_count": null,
      "outputs": []
    },
    {
      "cell_type": "markdown",
      "metadata": {
        "id": "D7gr4aT3HpYq"
      },
      "source": [
        "### Scopes\n",
        "\n",
        "The LEGB rule:\n",
        "1. Local - names defined inside the function (and not marked with the \"global\" keyword)\n",
        "2. Enclosing-function locals - names defined inside the enclosing functions in decreasing order of depth \n",
        "3. Global - names defined at the module level or marked \"global\"\n",
        "4. Built-in - built-in names (range, open, ...)"
      ]
    },
    {
      "cell_type": "code",
      "metadata": {
        "id": "k0xY864WHpYq"
      },
      "source": [
        "value = 1\n",
        "\n",
        "def foo():\n",
        "    value = 2\n",
        "    \n",
        "    def bar():\n",
        "        print(value)\n",
        "        value = 3\n",
        "    \n",
        "    bar()\n",
        "    print('enclosing scope value', value)\n",
        "    \n",
        "foo()\n",
        "print('global value', value)"
      ],
      "execution_count": null,
      "outputs": []
    },
    {
      "cell_type": "markdown",
      "metadata": {
        "id": "9BL2AUu2HpYq"
      },
      "source": [
        "### Examples"
      ]
    },
    {
      "cell_type": "code",
      "metadata": {
        "id": "fKJHEQyIHpYq"
      },
      "source": [
        "def foo():\n",
        "    def bar():\n",
        "        print('built-in:', range)\n",
        "    bar()\n",
        "foo()\n",
        "\n",
        "range = 'global range'\n",
        "\n",
        "def foo():\n",
        "    def bar():\n",
        "        print('global:', range)\n",
        "    bar()\n",
        "foo()\n",
        "        \n",
        "def foo():\n",
        "    range = 'enclosing-function range'\n",
        "    def bar():\n",
        "        print('enclosing-function:', range)\n",
        "    bar()\n",
        "foo()\n",
        "\n",
        "def foo():\n",
        "    range = 'enclosing-function range'\n",
        "    def bar():\n",
        "        range = 'local range'\n",
        "        print('local:', range)\n",
        "    bar()\n",
        "foo()"
      ],
      "execution_count": null,
      "outputs": []
    },
    {
      "cell_type": "markdown",
      "metadata": {
        "id": "IreJ7Si1HpYr"
      },
      "source": [
        "### \"Global\" keyword"
      ]
    },
    {
      "cell_type": "code",
      "metadata": {
        "id": "XplLkM8AHpYr"
      },
      "source": [
        "value = 1\n",
        "\n",
        "def foo():\n",
        "    value = 2\n",
        "    \n",
        "    def bar():\n",
        "        global value\n",
        "        value = 3\n",
        "    \n",
        "    bar()\n",
        "    print('enclosing scope value', value)\n",
        "    \n",
        "foo()\n",
        "print('global value', value)"
      ],
      "execution_count": null,
      "outputs": []
    },
    {
      "cell_type": "markdown",
      "metadata": {
        "id": "p02fXmAKHpYr"
      },
      "source": [
        "### \"Nonlocal\" keyword"
      ]
    },
    {
      "cell_type": "code",
      "metadata": {
        "id": "Z3VzwBZuHpYr"
      },
      "source": [
        "value = 1\n",
        "\n",
        "def foo():\n",
        "    value = 2\n",
        "    \n",
        "    def bar():\n",
        "        nonlocal value\n",
        "        value = 3\n",
        "    \n",
        "    bar()\n",
        "    print('enclosing scope value', value)\n",
        "    \n",
        "foo()\n",
        "print('global value', value)"
      ],
      "execution_count": null,
      "outputs": []
    },
    {
      "cell_type": "markdown",
      "metadata": {
        "id": "kM81H9LRHpYr"
      },
      "source": [
        "It is important to realize that scopes are determined textually: the global scope of a function defined in a module is that module’s namespace, no matter from where or by what alias the function is called. On the other hand, the actual search for names is done dynamically, at run time — however, the language definition is evolving towards static name resolution, at “compile” time, so don’t rely on dynamic name resolution! (In fact, local variables are already determined statically.)\n",
        "\n",
        "* Scope is static\n",
        "* Name resolving is dynamic"
      ]
    },
    {
      "cell_type": "code",
      "metadata": {
        "id": "N-rBMt43HpYr"
      },
      "source": [
        "\n",
        "for i in range(10**7):\n",
        "    \n",
        "    a = i**2\n",
        "    \n",
        "    if i > 9*10**6: \n",
        "        print(4)\n",
        "        break\n",
        "    "
      ],
      "execution_count": null,
      "outputs": []
    },
    {
      "cell_type": "markdown",
      "metadata": {
        "id": "jQKz30KqHpYr"
      },
      "source": [
        "# Closures\n",
        "\n",
        "*In computer programming languages, a closure is a function together with a referencing environment of that function. A closure function is any function that uses a variable that is defined in an environment (or scope) that is external to that function, and is accessible within the function when invoked from a scope in which that free variable is not defined.*\n",
        "\n",
        "The existence of closures follows from the LEGB rule, the ability to operate with functions as objects, and the fact that the scope in Python is static."
      ]
    },
    {
      "cell_type": "code",
      "metadata": {
        "id": "Yq_Z-sMrHpYr"
      },
      "source": [
        "# What will be printed?\n",
        "multipliers = []\n",
        "\n",
        "\n",
        "for m in range(5):\n",
        "    multipliers.append(lambda x: x * m)\n",
        "\n",
        "m = 20\n",
        "print([multipliers[i](5) for i in range(5)])"
      ],
      "execution_count": null,
      "outputs": []
    },
    {
      "cell_type": "code",
      "metadata": {
        "id": "PMG0h0PPHpYr"
      },
      "source": [
        "\n",
        "#Equivalent\n",
        "\n",
        "multipliers = []\n",
        "\n",
        "def f(x):\n",
        "    return x*m\n",
        "\n",
        "\n",
        "for m in range(5):\n",
        "    multipliers.append(f)\n",
        "\n",
        "m = 20\n",
        "print([multipliers[i](5) for i in range(5)])"
      ],
      "execution_count": null,
      "outputs": []
    },
    {
      "cell_type": "code",
      "metadata": {
        "id": "B_9sckE-HpYr"
      },
      "source": [
        "\n",
        "def foo():\n",
        "    def bar():\n",
        "        print(x)\n",
        "    x = 5\n",
        "    return bar\n",
        "\n",
        "bar2 = foo()\n",
        "bar2()\n",
        "\n",
        "x = 9\n",
        "bar2()"
      ],
      "execution_count": null,
      "outputs": []
    },
    {
      "cell_type": "code",
      "metadata": {
        "id": "PHKuo3zfHpYr"
      },
      "source": [
        "def make_adder(x):\n",
        "    def adder(y):\n",
        "        return x + y\n",
        "    return adder\n",
        "\n",
        "add_two = make_adder(2)\n",
        "add_three = make_adder(3)\n",
        "\n",
        "print(add_two(5))\n",
        "print(add_two(7))\n",
        "print(add_three(10))"
      ],
      "execution_count": null,
      "outputs": []
    },
    {
      "cell_type": "markdown",
      "metadata": {
        "id": "-iobggycHpYs"
      },
      "source": [
        "### Functions can close the same variables"
      ]
    },
    {
      "cell_type": "code",
      "metadata": {
        "id": "t0ihcJdNHpYs"
      },
      "source": [
        "def cell(value = 0):\n",
        "    def get():\n",
        "        return value\n",
        "    \n",
        "    def set(new_value):\n",
        "        nonlocal value\n",
        "        value = new_value\n",
        "        return value\n",
        "    \n",
        "    return get, set\n",
        "\n",
        "get_, set_ = cell(10)\n",
        "print(get_())\n",
        "\n",
        "set_(20)\n",
        "print(get_())"
      ],
      "execution_count": null,
      "outputs": []
    },
    {
      "cell_type": "markdown",
      "metadata": {
        "id": "gfDTQBsnHpYs"
      },
      "source": [
        "### Let's look under the hood"
      ]
    },
    {
      "cell_type": "code",
      "metadata": {
        "id": "PjDIpVnRHpYs"
      },
      "source": [
        "print(get_.__closure__)\n",
        "print(get_.__closure__[0].cell_contents)"
      ],
      "execution_count": null,
      "outputs": []
    },
    {
      "cell_type": "markdown",
      "metadata": {
        "id": "BAlWbPYvHpYs"
      },
      "source": [
        "**\\_\\_closure\\_\\_**  is a list of closed variables.<br>\n",
        "A variable is represented by a class **cell** with the only attribute **cell_contents**"
      ]
    },
    {
      "cell_type": "code",
      "metadata": {
        "id": "RJb7dhXnHpYs"
      },
      "source": [
        "print(get_.__closure__ == set_.__closure__)\n",
        "print(get_.__closure__[0] is set_.__closure__[0])"
      ],
      "execution_count": null,
      "outputs": []
    },
    {
      "cell_type": "markdown",
      "metadata": {
        "id": "xsmqA964HpYs"
      },
      "source": [
        "# Decorators\n",
        "\n",
        "Closures as a method to easily change function behavior"
      ]
    },
    {
      "cell_type": "code",
      "metadata": {
        "id": "XkLBO71UHpYs"
      },
      "source": [
        "import sys\n",
        "\n",
        "def deprecate(func):\n",
        "    def inner(*args, **kwargs):\n",
        "        print('{} is deprecated'.format(func.__name__), file=sys.stderr)\n",
        "        return func(*args, **kwargs)\n",
        "    return inner\n",
        "\n",
        "pprint = deprecate(print)\n",
        "\n",
        "pprint([1, 2, 3])"
      ],
      "execution_count": null,
      "outputs": []
    },
    {
      "cell_type": "markdown",
      "metadata": {
        "id": "IJOEPL3KHpYs"
      },
      "source": [
        "### Syntax"
      ]
    },
    {
      "cell_type": "code",
      "metadata": {
        "id": "RjUtj1y_HpYs",
        "outputId": "5cd28546-ad60-40f5-d705-b3689665a731"
      },
      "source": [
        "import sys\n",
        "\n",
        "def deprecated(func):\n",
        "    def wrapper(*args, **kwargs):\n",
        "        print('{} is deprecated'.format(func.__name__), file=sys.stderr)\n",
        "        return func(*args, **kwargs)\n",
        "    return wrapper\n",
        "\n",
        "\n",
        "@deprecated\n",
        "def show(x):\n",
        "    print(x)\n",
        "   \n",
        "    \n",
        "show([1, 2, 3])"
      ],
      "execution_count": null,
      "outputs": [
        {
          "name": "stdout",
          "output_type": "stream",
          "text": [
            "[1, 2, 3]\n"
          ]
        },
        {
          "name": "stderr",
          "output_type": "stream",
          "text": [
            "show is deprecated\n"
          ]
        }
      ]
    },
    {
      "cell_type": "markdown",
      "metadata": {
        "id": "KLbBBBXVHpYs"
      },
      "source": [
        "### Difficulty"
      ]
    },
    {
      "cell_type": "code",
      "metadata": {
        "id": "iN7DM4nFHpYt"
      },
      "source": [
        "@deprecated\n",
        "def show(x):\n",
        "    'This is a really nice looking docstring'\n",
        "    print(x)\n",
        "\n",
        "print(show.__name__)\n",
        "print(show.__doc__)"
      ],
      "execution_count": null,
      "outputs": []
    },
    {
      "cell_type": "markdown",
      "metadata": {
        "id": "3IX0LxwDHpYt"
      },
      "source": [
        "### Solution 1"
      ]
    },
    {
      "cell_type": "code",
      "metadata": {
        "id": "qos6idumHpYt"
      },
      "source": [
        "def deprecated(func):\n",
        "    def wrapper(*args, **kwargs):\n",
        "        print('{} is deprecated!'.format(func.__name__), file=sys.stderr)\n",
        "        return func(*args, **kwargs)\n",
        "    wrapper.__name__ = func.__name__\n",
        "    wrapper.__doc__ = func.__doc__\n",
        "    wrapper.__module__ = func.__module__\n",
        "    return wrapper\n",
        "\n",
        "@deprecated\n",
        "def show(x):\n",
        "    'This is a really nice looking docstring'\n",
        "    print(x)\n",
        "\n",
        "print(show.__name__)\n",
        "print(show.__doc__)"
      ],
      "execution_count": null,
      "outputs": []
    },
    {
      "cell_type": "markdown",
      "metadata": {
        "id": "0QP0onekHpYt"
      },
      "source": [
        "### Solution 2"
      ]
    },
    {
      "cell_type": "code",
      "metadata": {
        "id": "xyONJ5j4HpYt"
      },
      "source": [
        "import functools\n",
        "\n",
        "def deprecated(func):\n",
        "    @functools.wraps(func) \n",
        "    def wrapper(*args, **kwargs):\n",
        "        print('{} is deprecated!'.format(func.__name__), file=sys.stderr)\n",
        "        return func(*args, **kwargs)\n",
        "    return wrapper\n",
        "\n",
        "@deprecated\n",
        "def show(x):\n",
        "    'This is a really nice looking docstring'\n",
        "    print(x)\n",
        "\n",
        "print(show.__name__)\n",
        "print(show.__doc__)"
      ],
      "execution_count": null,
      "outputs": []
    },
    {
      "cell_type": "markdown",
      "metadata": {
        "id": "-hqxmGPzHpYt"
      },
      "source": [
        "### Decorators with arguments"
      ]
    },
    {
      "cell_type": "code",
      "metadata": {
        "id": "ALFObLylHpYt"
      },
      "source": [
        "def trace(dest=sys.stderr):\n",
        "    def wraps(func):\n",
        "        @functools.wraps(func)\n",
        "        def wrapper(*args, **kwargs):\n",
        "            print('{} called with args {}, kwargs {}!'.format(func.__name__, args, kwargs), file = dest)\n",
        "            return func(*args, **kwargs)\n",
        "        return wrapper\n",
        "    return wraps\n",
        "\n",
        "@trace(sys.stdout) \n",
        "def f(x, test):\n",
        "    if test > 1:\n",
        "        return f(x, test / 2)\n",
        "\n",
        "f('Hi!', test=42)"
      ],
      "execution_count": null,
      "outputs": []
    },
    {
      "cell_type": "code",
      "metadata": {
        "collapsed": true,
        "id": "d5sElJ5lHpYt"
      },
      "source": [
        ""
      ],
      "execution_count": null,
      "outputs": []
    },
    {
      "cell_type": "markdown",
      "metadata": {
        "id": "JGqPLoc-HpYt"
      },
      "source": [
        "### A simple task\n",
        "\n",
        "Create a decorator **once(function)** that calls **function** exactly once."
      ]
    },
    {
      "cell_type": "code",
      "metadata": {
        "id": "5e93VdVgHpYt",
        "outputId": "27ec4f49-365e-4f09-ecfe-7a34069ce078"
      },
      "source": [
        "\n",
        "\n",
        "@once\n",
        "def foo():\n",
        "    print('Hi!')\n",
        "\n",
        "foo()\n",
        "foo()"
      ],
      "execution_count": null,
      "outputs": [
        {
          "name": "stdout",
          "output_type": "stream",
          "text": [
            "Hi!\n"
          ]
        }
      ]
    },
    {
      "cell_type": "code",
      "metadata": {
        "id": "JL2xlvmbHpYt"
      },
      "source": [
        ""
      ],
      "execution_count": null,
      "outputs": []
    },
    {
      "cell_type": "code",
      "metadata": {
        "id": "F0tfZLjMHpYt"
      },
      "source": [
        ""
      ],
      "execution_count": null,
      "outputs": []
    },
    {
      "cell_type": "code",
      "metadata": {
        "id": "YBKk5kt2HpYt",
        "outputId": "8fafb867-7e85-4339-9983-d591309e8d93"
      },
      "source": [
        "def once(func):\n",
        "    def wrapper(*args, **kwargs):\n",
        "        nonlocal called\n",
        "        if not called:\n",
        "            called = True\n",
        "            return func(*args, **kwargs)\n",
        "\n",
        "    called = False\n",
        "    return wrapper\n",
        "\n",
        "@once\n",
        "def f():\n",
        "    print('Hi!')\n",
        "\n",
        "f()\n",
        "f()"
      ],
      "execution_count": null,
      "outputs": [
        {
          "name": "stdout",
          "output_type": "stream",
          "text": [
            "Hi!\n"
          ]
        }
      ]
    },
    {
      "cell_type": "markdown",
      "metadata": {
        "id": "oPuma_XkHpYu"
      },
      "source": [
        "### Decorators do not have to be functions"
      ]
    },
    {
      "cell_type": "code",
      "metadata": {
        "collapsed": true,
        "id": "wHRhopjeHpYu"
      },
      "source": [
        "from collections import Counter \n",
        "\n",
        "class Register(object):\n",
        "    def __init__(self):\n",
        "        self.stat = Counter()\n",
        "        \n",
        "    def __call__(self, func):\n",
        "        nm = func.__name__\n",
        "        def wrapper(*args, **kwrags):\n",
        "            self.stat[nm] += 1\n",
        "            return func(*args, **kwrags)\n",
        "        return wrapper\n",
        "    \n",
        "    def __str__(self):\n",
        "        result = 'fname\\tcallcount\\n'\n",
        "        for name, count in self.stat.items():\n",
        "            result += '{}:\\t{}\\n'.format(name, count)\n",
        "        return result\n",
        "    \n",
        "register = Register()"
      ],
      "execution_count": null,
      "outputs": []
    },
    {
      "cell_type": "code",
      "metadata": {
        "id": "M2WrGep5HpYu",
        "outputId": "ceaeb09f-44db-446e-a472-68dfbc6d95cd"
      },
      "source": [
        "\n",
        "@register\n",
        "def f(x):\n",
        "    return x \n",
        "\n",
        "@register\n",
        "def q(x):\n",
        "    return q\n",
        "\n",
        "f(1), q(2), q(4)\n",
        "q(2), f(5)\n",
        "print(register)"
      ],
      "execution_count": null,
      "outputs": [
        {
          "name": "stdout",
          "output_type": "stream",
          "text": [
            "fname\tcallcount\n",
            "f:\t2\n",
            "q:\t3\n",
            "\n"
          ]
        }
      ]
    },
    {
      "cell_type": "code",
      "metadata": {
        "id": "VlTEr0ywHpYu",
        "outputId": "6469d8fb-85f2-47c0-a3dd-7127ff1bf4f6"
      },
      "source": [
        "#Handling exceptions\n",
        "\n",
        "arr = [1,2,3]\n",
        "\n",
        "try:\n",
        "    arr[1] = 0\n",
        "    #arr[3] = 0\n",
        "    #tuple(arr)[1] = 0\n",
        "    \n",
        "except IndexError:\n",
        "    print('except IndexError is executed if IndexError occurs in try')\n",
        "    \n",
        "except:\n",
        "    print('except is executed if not listed error occurs')\n",
        "    \n",
        "else:\n",
        "    print('else is executed if try worked')\n",
        "    \n",
        "finally:\n",
        "    print('finally is always executed')"
      ],
      "execution_count": null,
      "outputs": [
        {
          "name": "stdout",
          "output_type": "stream",
          "text": [
            "else is executed if try worked\n",
            "finally is always executed\n"
          ]
        }
      ]
    },
    {
      "cell_type": "markdown",
      "metadata": {
        "id": "q9-iz-xPHpYu"
      },
      "source": [
        "## Misc useful features"
      ]
    },
    {
      "cell_type": "code",
      "metadata": {
        "id": "lTAcGhX-HpYu",
        "outputId": "3573c8db-6da1-4f31-efd5-0a382d4bb03d"
      },
      "source": [
        "# filter function - returns a filter-object (a generator)\n",
        "res = [y for y in filter(lambda x: x > 0, range(-5,5))]\n",
        "\n",
        "print(res)"
      ],
      "execution_count": null,
      "outputs": [
        {
          "name": "stdout",
          "output_type": "stream",
          "text": [
            "[1, 2, 3, 4]\n"
          ]
        }
      ]
    },
    {
      "cell_type": "code",
      "metadata": {
        "id": "Z2n5-flGHpYv",
        "outputId": "780dd08b-70d7-4443-d38e-1ce148392e06"
      },
      "source": [
        "import functools\n",
        "\n",
        "#help(functools.reduce) # == Apply a function of two arguments cumulatively to the items of a sequence\n",
        "\n",
        "print(functools.reduce(lambda x,y: x*y, res))"
      ],
      "execution_count": null,
      "outputs": [
        {
          "name": "stdout",
          "output_type": "stream",
          "text": [
            "24\n"
          ]
        }
      ]
    },
    {
      "cell_type": "code",
      "metadata": {
        "id": "AvtjnytPHpYv",
        "outputId": "860cea3a-1cf4-4187-de8d-7b097a7c6fd0"
      },
      "source": [
        "# The partial() is used for partial function application which “freezes” some portion of \n",
        "# a function’s arguments and/or keywords resulting in a new object.\n",
        "\n",
        "basetwo = functools.partial(int, base=2)\n",
        "basetwo.__doc__ = 'Convert base 2 string to an int.'\n",
        "basetwo('10010')"
      ],
      "execution_count": null,
      "outputs": [
        {
          "data": {
            "text/plain": [
              "18"
            ]
          },
          "execution_count": 10,
          "metadata": {},
          "output_type": "execute_result"
        }
      ]
    },
    {
      "cell_type": "markdown",
      "metadata": {
        "id": "Xi1B8ohuHpYv"
      },
      "source": [
        "# Asynchronous programming"
      ]
    },
    {
      "cell_type": "code",
      "metadata": {
        "id": "v_qCXgVTHpYv",
        "outputId": "a90f08ba-d46e-47ae-abe4-605b9c09f785"
      },
      "source": [
        "# Coroutines\n",
        "\n",
        "def grep(pattern):\n",
        "    \n",
        "    number = 0\n",
        "    \n",
        "    while True:\n",
        "        line = yield(number)\n",
        "        \n",
        "        number += 1\n",
        "        \n",
        "        if pattern in line:\n",
        "            print(line)\n",
        "            \n",
        "\n",
        "search = grep('cat') # Creating\n",
        "\n",
        "next(search) # Opening (to stop at yield)\n",
        "\n",
        "number1 = search.send(\"he loves only dogs!\")     # Sending\n",
        "number2 = search.send(\"who doesn't love cats??\") # Sending\n",
        "\n",
        "print(number1,number2)\n",
        "\n",
        "search.close() # Закрываем"
      ],
      "execution_count": null,
      "outputs": [
        {
          "data": {
            "text/plain": [
              "0"
            ]
          },
          "execution_count": 11,
          "metadata": {},
          "output_type": "execute_result"
        },
        {
          "name": "stdout",
          "output_type": "stream",
          "text": [
            "who doesn't love cats??\n",
            "1 2\n"
          ]
        }
      ]
    },
    {
      "cell_type": "code",
      "metadata": {
        "id": "46t_DWj0HpYw",
        "outputId": "d0843990-813a-404c-9e85-1073fa9adeda"
      },
      "source": [
        "%%writefile asyncio_example1.py\n",
        "\n",
        "# Библиотека Asyncio, см. https://habr.com/ru/post/337420/\n",
        "import asyncio\n",
        "\n",
        "async def foo():\n",
        "    print('Running in foo')\n",
        "    await asyncio.sleep(0)\n",
        "    print('Explicit context switch to foo again')\n",
        "\n",
        "\n",
        "async def bar():\n",
        "    print('Explicit context to bar')\n",
        "    await asyncio.sleep(0)\n",
        "    print('Implicit context switch back to bar')\n",
        "\n",
        "\n",
        "ioloop = asyncio.get_event_loop()\n",
        "tasks = [ioloop.create_task(foo()), ioloop.create_task(bar())]\n",
        "wait_tasks = asyncio.wait(tasks)\n",
        "ioloop.run_until_complete(wait_tasks)\n",
        "ioloop.close()"
      ],
      "execution_count": null,
      "outputs": [
        {
          "name": "stdout",
          "output_type": "stream",
          "text": [
            "Writing asyncio_example1.py\n"
          ]
        }
      ]
    },
    {
      "cell_type": "code",
      "metadata": {
        "id": "TvndPMQ6HpYw",
        "outputId": "4cab4d97-584e-42b7-cfaf-9137ee6a1c73"
      },
      "source": [
        "!python3 asyncio_example1.py"
      ],
      "execution_count": null,
      "outputs": [
        {
          "name": "stdout",
          "output_type": "stream",
          "text": [
            "Running in foo\r\n",
            "Explicit context to bar\r\n",
            "Explicit context switch to foo again\r\n",
            "Implicit context switch back to bar\r\n"
          ]
        }
      ]
    },
    {
      "cell_type": "code",
      "metadata": {
        "id": "BigaTAhcHpYw",
        "outputId": "d253ac95-aa03-4fe1-89b7-671ebce8217a"
      },
      "source": [
        "%%writefile asyncio_example2.py\n",
        "# Why to bother?? == to optimize I/O calls\n",
        "\n",
        "import time\n",
        "import asyncio\n",
        "\n",
        "start = time.time()\n",
        "\n",
        "\n",
        "def tic():\n",
        "    return 'at %1.1f seconds' % (time.time() - start)\n",
        "\n",
        "\n",
        "async def gr1():\n",
        "    # Busy waits for a second, but we don't want to stick around...\n",
        "    print('gr1 started work: {}'.format(tic()))\n",
        "    await asyncio.sleep(2)\n",
        "    print('gr1 ended work: {}'.format(tic()))\n",
        "\n",
        "\n",
        "async def gr2():\n",
        "    # Busy waits for a second, but we don't want to stick around...\n",
        "    print('gr2 started work: {}'.format(tic()))\n",
        "    await asyncio.sleep(2)\n",
        "    print('gr2 Ended work: {}'.format(tic()))\n",
        "\n",
        "\n",
        "async def gr3():\n",
        "    print(\"Let's do some stuff while the coroutines are blocked, {}\".format(tic()))\n",
        "    await asyncio.sleep(1)\n",
        "    print(\"Done!\")\n",
        "\n",
        "\n",
        "ioloop = asyncio.get_event_loop()\n",
        "tasks = [\n",
        "    ioloop.create_task(gr1()),\n",
        "    ioloop.create_task(gr2()),\n",
        "    ioloop.create_task(gr3())\n",
        "]\n",
        "ioloop.run_until_complete(asyncio.wait(tasks))\n",
        "ioloop.close()"
      ],
      "execution_count": null,
      "outputs": [
        {
          "name": "stdout",
          "output_type": "stream",
          "text": [
            "Writing asyncio_example2.py\n"
          ]
        }
      ]
    },
    {
      "cell_type": "code",
      "metadata": {
        "id": "qz5n4pgCHpYw",
        "outputId": "d5ff025d-1276-4500-9ba4-7156a6885382"
      },
      "source": [
        "!python3 asyncio_example2.py"
      ],
      "execution_count": null,
      "outputs": [
        {
          "name": "stdout",
          "output_type": "stream",
          "text": [
            "gr1 started work: at 0.0 seconds\n",
            "gr2 started work: at 0.0 seconds\n",
            "Let's do some stuff while the coroutines are blocked, at 0.0 seconds\n",
            "Done!\n",
            "gr1 ended work: at 2.0 seconds\n",
            "gr2 Ended work: at 2.0 seconds\n"
          ]
        }
      ]
    },
    {
      "cell_type": "code",
      "metadata": {
        "id": "LxR52qerHpYw"
      },
      "source": [
        ""
      ],
      "execution_count": null,
      "outputs": []
    },
    {
      "cell_type": "code",
      "metadata": {
        "id": "YqylNtfiHpYw"
      },
      "source": [
        ""
      ],
      "execution_count": null,
      "outputs": []
    }
  ]
}