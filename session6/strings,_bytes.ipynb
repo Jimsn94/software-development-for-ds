{
  "nbformat": 4,
  "nbformat_minor": 0,
  "metadata": {
    "celltoolbar": "Slideshow",
    "kernelspec": {
      "display_name": "Python 3",
      "language": "python",
      "name": "python3"
    },
    "language_info": {
      "codemirror_mode": {
        "name": "ipython",
        "version": 3
      },
      "file_extension": ".py",
      "mimetype": "text/x-python",
      "name": "python",
      "nbconvert_exporter": "python",
      "pygments_lexer": "ipython3",
      "version": "3.8.5"
    },
    "colab": {
      "name": "strings, bytes",
      "provenance": []
    }
  },
  "cells": [
    {
      "cell_type": "markdown",
      "metadata": {
        "id": "V6cjyyKB5kTb"
      },
      "source": [
        "# Text, bytes and fun.."
      ]
    },
    {
      "cell_type": "markdown",
      "metadata": {
        "id": "uu6m5owL5kTf"
      },
      "source": [
        "## Functions!\n",
        "\n",
        "Why oh why not again please . . ."
      ]
    },
    {
      "cell_type": "markdown",
      "metadata": {
        "id": "TPNztCga5kTf"
      },
      "source": [
        "Suppose you want to write an open-source library in Python. \n",
        "\n",
        "Consider a piece of very important core code of your library:"
      ]
    },
    {
      "cell_type": "code",
      "metadata": {
        "collapsed": true,
        "id": "UTdJ57eL5kTg"
      },
      "source": [
        "# this is my first open-source library\n",
        "\n",
        "def some_really_complex_function(arg, another_arg, *here_go_more_args, **and_some_kwargs_too):\n",
        "    print('Here I do some really complicated code')\n",
        "    return 42"
      ],
      "execution_count": null,
      "outputs": []
    },
    {
      "cell_type": "code",
      "metadata": {
        "id": "vc7M6rhG5kTh",
        "outputId": "5c4c85b3-e153-46bd-ad73-90a9873c43b2"
      },
      "source": [
        "some_really_complex_function(1, 2)"
      ],
      "execution_count": null,
      "outputs": [
        {
          "name": "stdout",
          "output_type": "stream",
          "text": [
            "Here I do some really complicated code\n"
          ]
        },
        {
          "data": {
            "text/plain": [
              "42"
            ]
          },
          "execution_count": 2,
          "metadata": {},
          "output_type": "execute_result"
        }
      ]
    },
    {
      "cell_type": "markdown",
      "metadata": {
        "id": "POSD6eVt5kTi"
      },
      "source": [
        "How to make this function self-explanatory?\n",
        "\n",
        "You should use docstings!"
      ]
    },
    {
      "cell_type": "code",
      "metadata": {
        "collapsed": true,
        "id": "FL2A5vFO5kTj"
      },
      "source": [
        "def some_really_complex_function_with_docstring(arg, another_arg, *here_go_more_args, **and_some_kwargs_too):\n",
        "    '''\n",
        "    This is a really complex function.\n",
        "    \n",
        "    Args:\n",
        "        arg: some argument\n",
        "        another_arg: some other argument\n",
        "        \n",
        "    (c) Лягушонок Пеп <------- you see that?\n",
        "    '''\n",
        "    print('Here I do some really complicated code')\n",
        "    # Yeah, and returns 42\n",
        "    return 42"
      ],
      "execution_count": null,
      "outputs": []
    },
    {
      "cell_type": "code",
      "metadata": {
        "id": "5HvNZEif5kTk",
        "outputId": "acdff778-4d67-4a30-ce67-df944d7a677f"
      },
      "source": [
        "help(some_really_complex_function_with_docstring)"
      ],
      "execution_count": null,
      "outputs": [
        {
          "name": "stdout",
          "output_type": "stream",
          "text": [
            "Help on function some_really_complex_function_with_docstring in module __main__:\n",
            "\n",
            "some_really_complex_function_with_docstring(arg, another_arg, *here_go_more_args, **and_some_kwargs_too)\n",
            "    This is a really complex function.\n",
            "    \n",
            "    Args:\n",
            "        arg: some argument\n",
            "        another_arg: some other argument\n",
            "        \n",
            "    (c) Лягушонок Пеп <------- you see that?\n",
            "\n"
          ]
        }
      ]
    },
    {
      "cell_type": "markdown",
      "metadata": {
        "id": "ywr_xZSY5kTk"
      },
      "source": [
        "Wait a minute, does Python allow Unicode?"
      ]
    },
    {
      "cell_type": "code",
      "metadata": {
        "id": "ggiv6CVQ5kTl",
        "outputId": "84a1cf83-ccc9-4afd-b5f6-707c431152d2"
      },
      "source": [
        "def дважды_принт(аргумент):\n",
        "    print(аргумент * 2)\n",
        "    \n",
        "дважды_принт(42)"
      ],
      "execution_count": null,
      "outputs": [
        {
          "name": "stdout",
          "output_type": "stream",
          "text": [
            "84\n"
          ]
        }
      ]
    },
    {
      "cell_type": "code",
      "metadata": {
        "id": "bkTGu9rr5kTm",
        "outputId": "04f5c622-2dad-47ab-a08e-20d09b82a2fa"
      },
      "source": [
        "дважды_принт.__name__"
      ],
      "execution_count": null,
      "outputs": [
        {
          "data": {
            "text/plain": [
              "'дважды_принт'"
            ]
          },
          "execution_count": 8,
          "metadata": {},
          "output_type": "execute_result"
        }
      ]
    },
    {
      "cell_type": "markdown",
      "metadata": {
        "id": "RTHJjevV5kTm"
      },
      "source": [
        "0_o with great power comes great responsibility\n",
        "\n",
        "Let's harness it."
      ]
    },
    {
      "cell_type": "markdown",
      "metadata": {
        "id": "sLl2K0qi5kTm"
      },
      "source": [
        "# Today's agenda\n",
        "* Strings in Python 3.x\n",
        "* `str` and `bytes`\n",
        "* < Intermission > : Python's builtin functions\n",
        "* Unicode support: encoding & decoding\n",
        "* Encoding detection\n",
        "* Regular expressions 101"
      ]
    },
    {
      "cell_type": "markdown",
      "metadata": {
        "id": "mvBjs3fd5kTn"
      },
      "source": [
        " ### (not relevant for english-speakers)\n",
        "Rule #0: you shouldn't use cyrillic letters in code. `def дважды_принт():` is unacceptable."
      ]
    },
    {
      "cell_type": "markdown",
      "metadata": {
        "id": "cvkcAec95kTn"
      },
      "source": [
        "## Some simple string methods"
      ]
    },
    {
      "cell_type": "markdown",
      "metadata": {
        "id": "5SdA2Kgd5kTn"
      },
      "source": [
        "* Strings support slices"
      ]
    },
    {
      "cell_type": "code",
      "metadata": {
        "id": "C1cOXWXY5kTn",
        "outputId": "fe4ecca2-ea78-4cf5-8cad-716c2fff7195"
      },
      "source": [
        "s = 'Lorem ipsum dolor sit amet, consectetur adipiscing elit'\n",
        "print(s[10 : 20])\n",
        "print(s[10 : 20 : 3])"
      ],
      "execution_count": null,
      "outputs": [
        {
          "name": "stdout",
          "output_type": "stream",
          "text": [
            "m dolor si\n",
            "mori\n"
          ]
        }
      ]
    },
    {
      "cell_type": "markdown",
      "metadata": {
        "id": "trujvBGK5kTn"
      },
      "source": [
        "* Immutable, support basic maths (addition, multiplication)"
      ]
    },
    {
      "cell_type": "code",
      "metadata": {
        "id": "_S1lUqXv5kTo",
        "outputId": "55c1166b-0391-4b67-ade4-9e30f0e101ce"
      },
      "source": [
        "s += '!' * 2\n",
        "print(s)\n",
        "s[1] = '?'"
      ],
      "execution_count": null,
      "outputs": [
        {
          "name": "stdout",
          "output_type": "stream",
          "text": [
            "Lorem ipsum dolor sit amet, consectetur adipiscing elit!!\n"
          ]
        },
        {
          "ename": "TypeError",
          "evalue": "'str' object does not support item assignment",
          "output_type": "error",
          "traceback": [
            "\u001b[0;31m---------------------------------------------------------------------------\u001b[0m",
            "\u001b[0;31mTypeError\u001b[0m                                 Traceback (most recent call last)",
            "\u001b[0;32m<ipython-input-3-e7aa54b21ecb>\u001b[0m in \u001b[0;36m<module>\u001b[0;34m\u001b[0m\n\u001b[1;32m      1\u001b[0m \u001b[0ms\u001b[0m \u001b[0;34m+=\u001b[0m \u001b[0;34m'!'\u001b[0m \u001b[0;34m*\u001b[0m \u001b[0;36m2\u001b[0m\u001b[0;34m\u001b[0m\u001b[0;34m\u001b[0m\u001b[0m\n\u001b[1;32m      2\u001b[0m \u001b[0mprint\u001b[0m\u001b[0;34m(\u001b[0m\u001b[0ms\u001b[0m\u001b[0;34m)\u001b[0m\u001b[0;34m\u001b[0m\u001b[0;34m\u001b[0m\u001b[0m\n\u001b[0;32m----> 3\u001b[0;31m \u001b[0ms\u001b[0m\u001b[0;34m[\u001b[0m\u001b[0;36m1\u001b[0m\u001b[0;34m]\u001b[0m \u001b[0;34m=\u001b[0m \u001b[0;34m'?'\u001b[0m\u001b[0;34m\u001b[0m\u001b[0;34m\u001b[0m\u001b[0m\n\u001b[0m",
            "\u001b[0;31mTypeError\u001b[0m: 'str' object does not support item assignment"
          ]
        }
      ]
    },
    {
      "cell_type": "markdown",
      "metadata": {
        "id": "YZHGQ1BE5kTo"
      },
      "source": [
        "* String join / split"
      ]
    },
    {
      "cell_type": "code",
      "metadata": {
        "id": "hRCD_4Uq5kTo",
        "outputId": "0c01a991-6032-418a-f110-ccbb0d0dcaf9"
      },
      "source": [
        "print(s.split())\n",
        "print(s.split('sit'))"
      ],
      "execution_count": null,
      "outputs": [
        {
          "name": "stdout",
          "output_type": "stream",
          "text": [
            "['Lorem', 'ipsum', 'dolor', 'sit', 'amet,', 'consectetur', 'adipiscing', 'elit!!']\n",
            "['Lorem ipsum dolor ', ' amet, consectetur adipiscing elit!!']\n"
          ]
        }
      ]
    },
    {
      "cell_type": "code",
      "metadata": {
        "collapsed": true,
        "id": "JPuaChYn5kTo"
      },
      "source": [
        "words = s.split(' ')"
      ],
      "execution_count": null,
      "outputs": []
    },
    {
      "cell_type": "code",
      "metadata": {
        "id": "KnDNI96I5kTo",
        "outputId": "9ab0fa96-7273-4cb7-b966-e9b010f845b2"
      },
      "source": [
        "print(''.join(words))\n",
        "print(' '.join(words))\n",
        "print(' ^_^ '.join(words))"
      ],
      "execution_count": null,
      "outputs": [
        {
          "name": "stdout",
          "output_type": "stream",
          "text": [
            "Loremipsumdolorsitamet,consecteturadipiscingelit!!\n",
            "Lorem ipsum dolor sit amet, consectetur adipiscing elit!!\n",
            "Lorem ^_^ ipsum ^_^ dolor ^_^ sit ^_^ amet, ^_^ consectetur ^_^ adipiscing ^_^ elit!!\n"
          ]
        }
      ]
    },
    {
      "cell_type": "markdown",
      "metadata": {
        "id": "RzUG4kVr5kTp"
      },
      "source": [
        "* Basic transformations: upper, lower"
      ]
    },
    {
      "cell_type": "code",
      "metadata": {
        "id": "aFgfz5jW5kTp",
        "outputId": "3fd763df-3cf6-4dde-d461-3f5334784f08"
      },
      "source": [
        "s.upper()"
      ],
      "execution_count": null,
      "outputs": [
        {
          "data": {
            "text/plain": [
              "'LOREM IPSUM DOLOR SIT AMET, CONSECTETUR ADIPISCING ELIT!!'"
            ]
          },
          "execution_count": 14,
          "metadata": {},
          "output_type": "execute_result"
        }
      ]
    },
    {
      "cell_type": "code",
      "metadata": {
        "id": "kuKFJFsd5kTp",
        "outputId": "c06efd94-d93c-481d-d38a-f8b8ad314130"
      },
      "source": [
        "s.lower()"
      ],
      "execution_count": null,
      "outputs": [
        {
          "data": {
            "text/plain": [
              "'lorem ipsum dolor sit amet, consectetur adipiscing elit!!'"
            ]
          },
          "execution_count": 15,
          "metadata": {},
          "output_type": "execute_result"
        }
      ]
    },
    {
      "cell_type": "code",
      "metadata": {
        "id": "2RGOBYAc5kTp",
        "outputId": "ebaeef3e-e2bc-4083-f273-baa8c8b234d9"
      },
      "source": [
        "s.lower().capitalize()"
      ],
      "execution_count": null,
      "outputs": [
        {
          "data": {
            "text/plain": [
              "'Lorem ipsum dolor sit amet, consectetur adipiscing elit!!'"
            ]
          },
          "execution_count": 16,
          "metadata": {},
          "output_type": "execute_result"
        }
      ]
    },
    {
      "cell_type": "code",
      "metadata": {
        "id": "yxUJdysw5kTq",
        "outputId": "fde9a9fa-f19b-4695-8c77-bc23a3961e1f"
      },
      "source": [
        "s.title()"
      ],
      "execution_count": null,
      "outputs": [
        {
          "data": {
            "text/plain": [
              "'Lorem Ipsum Dolor Sit Amet, Consectetur Adipiscing Elit!!'"
            ]
          },
          "execution_count": 4,
          "metadata": {},
          "output_type": "execute_result"
        }
      ]
    },
    {
      "cell_type": "markdown",
      "metadata": {
        "id": "nqtChZrU5kTq"
      },
      "source": [
        "* Substring search"
      ]
    },
    {
      "cell_type": "code",
      "metadata": {
        "id": "P508eIHL5kTq",
        "outputId": "5eec949e-9093-4c24-bc5c-c05fdbae5927"
      },
      "source": [
        "'lorem' in s, 'lorem' in s.lower()"
      ],
      "execution_count": null,
      "outputs": [
        {
          "data": {
            "text/plain": [
              "(False, True)"
            ]
          },
          "execution_count": 17,
          "metadata": {},
          "output_type": "execute_result"
        }
      ]
    },
    {
      "cell_type": "code",
      "metadata": {
        "id": "FHihoGWN5kTq",
        "outputId": "f7cf0ae9-f3bd-4b7d-ec10-2f5e34facd70"
      },
      "source": [
        "s.find('ipsum') # returns first index"
      ],
      "execution_count": null,
      "outputs": [
        {
          "data": {
            "text/plain": [
              "6"
            ]
          },
          "execution_count": 18,
          "metadata": {},
          "output_type": "execute_result"
        }
      ]
    },
    {
      "cell_type": "code",
      "metadata": {
        "id": "f8SNAjE65kTq",
        "outputId": "c01c79d5-9960-4222-ebe9-8ab1af3dbfc9"
      },
      "source": [
        "s.find('nonexistent') # or -1 "
      ],
      "execution_count": null,
      "outputs": [
        {
          "data": {
            "text/plain": [
              "-1"
            ]
          },
          "execution_count": 19,
          "metadata": {},
          "output_type": "execute_result"
        }
      ]
    },
    {
      "cell_type": "code",
      "metadata": {
        "id": "Dvuz8G4C5kTq"
      },
      "source": [
        "s.index('ipsum')"
      ],
      "execution_count": null,
      "outputs": []
    },
    {
      "cell_type": "code",
      "metadata": {
        "id": "UwAWKnTQ5kTq"
      },
      "source": [
        "s.index('nonexistent')"
      ],
      "execution_count": null,
      "outputs": []
    },
    {
      "cell_type": "markdown",
      "metadata": {
        "id": "48aDwlT15kTq"
      },
      "source": [
        "* String examination: isalpha, isdigit etc"
      ]
    },
    {
      "cell_type": "code",
      "metadata": {
        "id": "lPax7t3G5kTq",
        "outputId": "36c6ceb8-cc3d-4868-ffd1-c88147e33852"
      },
      "source": [
        "strings = ['abc', '2', '   ']\n",
        "\n",
        "print('\\t\\t'.join('string isalpha isdigit isspace'.split()))\n",
        "for s in strings:\n",
        "    print('\"{}\"'.format(s), s.isalpha(), s.isdigit(), s.isspace(), sep='\\t\\t')"
      ],
      "execution_count": null,
      "outputs": [
        {
          "name": "stdout",
          "output_type": "stream",
          "text": [
            "string\t\tisalpha\t\tisdigit\t\tisspace\n",
            "\"abc\"\t\tTrue\t\tFalse\t\tFalse\n",
            "\"2\"\t\tFalse\t\tTrue\t\tFalse\n",
            "\"   \"\t\tFalse\t\tFalse\t\tTrue\n"
          ]
        }
      ]
    },
    {
      "cell_type": "markdown",
      "metadata": {
        "id": "cZwPjMRU5kTr"
      },
      "source": [
        "* Misc: startswith, endswith, strip"
      ]
    },
    {
      "cell_type": "code",
      "metadata": {
        "id": "mSf1T0lK5kTr",
        "outputId": "c02c379c-8114-4ebc-a832-999f1275a45e"
      },
      "source": [
        "'Hello, world!'.startswith('Hel')"
      ],
      "execution_count": null,
      "outputs": [
        {
          "data": {
            "text/plain": [
              "True"
            ]
          },
          "execution_count": 21,
          "metadata": {},
          "output_type": "execute_result"
        }
      ]
    },
    {
      "cell_type": "code",
      "metadata": {
        "id": "reS7Q2Fz5kTr",
        "outputId": "a746769f-abc7-43cf-cb30-f4ad8c89ebe2"
      },
      "source": [
        "'Hello, world!'.endswith('world')"
      ],
      "execution_count": null,
      "outputs": [
        {
          "data": {
            "text/plain": [
              "False"
            ]
          },
          "execution_count": 22,
          "metadata": {},
          "output_type": "execute_result"
        }
      ]
    },
    {
      "cell_type": "code",
      "metadata": {
        "id": "NVnC60oX5kTr",
        "outputId": "0b4667e1-fd8d-42aa-f909-e0003ab4f11e"
      },
      "source": [
        "'    Hello world    '.strip()"
      ],
      "execution_count": null,
      "outputs": [
        {
          "data": {
            "text/plain": [
              "'Hello world'"
            ]
          },
          "execution_count": 23,
          "metadata": {},
          "output_type": "execute_result"
        }
      ]
    },
    {
      "cell_type": "markdown",
      "metadata": {
        "id": "4wMF6q1j5kTr"
      },
      "source": [
        "## String module"
      ]
    },
    {
      "cell_type": "code",
      "metadata": {
        "id": "Uwc-G0_p5kTr",
        "outputId": "aea4c3f6-73e2-44c1-a544-14457e0c85f3"
      },
      "source": [
        "import string\n",
        "\n",
        "print(string.ascii_letters)\n",
        "print(string.ascii_lowercase)\n",
        "print(string.digits)\n",
        "string.whitespace"
      ],
      "execution_count": null,
      "outputs": [
        {
          "name": "stdout",
          "output_type": "stream",
          "text": [
            "abcdefghijklmnopqrstuvwxyzABCDEFGHIJKLMNOPQRSTUVWXYZ\n",
            "abcdefghijklmnopqrstuvwxyz\n",
            "0123456789\n"
          ]
        },
        {
          "data": {
            "text/plain": [
              "' \\t\\n\\r\\x0b\\x0c'"
            ]
          },
          "execution_count": 5,
          "metadata": {},
          "output_type": "execute_result"
        }
      ]
    },
    {
      "cell_type": "markdown",
      "metadata": {
        "id": "W9zo8j_35kTr"
      },
      "source": [
        "### String formatting\n",
        "\n",
        "https://pyformat.info/"
      ]
    },
    {
      "cell_type": "code",
      "metadata": {
        "id": "1jJfU0FX5kTr",
        "outputId": "dab352f2-4076-4bd0-9a17-4c8e79ad1219"
      },
      "source": [
        "# Old style\n",
        "\n",
        "name = 'Bob'\n",
        "'Hello, %s' % name"
      ],
      "execution_count": null,
      "outputs": [
        {
          "data": {
            "text/plain": [
              "'Hello, Bob'"
            ]
          },
          "execution_count": 24,
          "metadata": {},
          "output_type": "execute_result"
        }
      ]
    },
    {
      "cell_type": "code",
      "metadata": {
        "id": "mXlywB875kTr",
        "outputId": "60d2c053-86c1-428d-e0d5-6d945144042f"
      },
      "source": [
        "name = 'Bob'\n",
        "'Hello, %(name)s' % {'name':name} "
      ],
      "execution_count": null,
      "outputs": [
        {
          "data": {
            "text/plain": [
              "'Hello, Bob'"
            ]
          },
          "execution_count": 2,
          "metadata": {},
          "output_type": "execute_result"
        }
      ]
    },
    {
      "cell_type": "code",
      "metadata": {
        "id": "xD5RMFSX5kTs",
        "outputId": "b3023774-fb4b-4f8e-cfeb-225cea9f04e9"
      },
      "source": [
        "# New style\n",
        "name = 'Bob'\n",
        "'Hello, {}'.format(name)"
      ],
      "execution_count": null,
      "outputs": [
        {
          "data": {
            "text/plain": [
              "'Hello, Bob'"
            ]
          },
          "execution_count": 25,
          "metadata": {},
          "output_type": "execute_result"
        }
      ]
    },
    {
      "cell_type": "code",
      "metadata": {
        "id": "AsnK89Bf5kTs",
        "outputId": "1887e752-62b6-4aed-b0f2-a615532bc452"
      },
      "source": [
        "names = ['Bob','Alice']\n",
        "print('Hello, {0}! Hello, {1}! Hello, {0} again!'.format(*names))"
      ],
      "execution_count": null,
      "outputs": [
        {
          "data": {
            "text/plain": [
              "'Hello, Bob! Hello, Alice! Hello, Bob again!'"
            ]
          },
          "execution_count": 4,
          "metadata": {},
          "output_type": "execute_result"
        }
      ]
    },
    {
      "cell_type": "code",
      "metadata": {
        "id": "Jibd9d1J5kTs",
        "outputId": "a740e2eb-2acd-4f72-fa8f-0ceca38f598b"
      },
      "source": [
        "names = {'name1':'Bob','name2':'Alice'}\n",
        "print('Hello, {name1}! Hello, {name2}! Hello, {name1} again!'.format(**names))"
      ],
      "execution_count": null,
      "outputs": [
        {
          "name": "stdout",
          "output_type": "stream",
          "text": [
            "Hello, d! Hello, g! Hello, d again!\n"
          ]
        }
      ]
    },
    {
      "cell_type": "code",
      "metadata": {
        "id": "EVO4C3S-5kTs",
        "outputId": "ddfa99f8-9d37-4182-c311-d1e25e7c63c8"
      },
      "source": [
        "number = 50159747054\n",
        "name = 'Bob'\n",
        "\n",
        "print('Hey {}, I have a decimal number {}!'.format(name, number))\n",
        "\n",
        "# Supports indexes\n",
        "print('Sammy is {} {} {} {}!'.format('a', 'happy', 'blue', 'shark'))\n",
        "print('Sammy is {3} {2} {1} {0}!'.format('a', 'happy', 'blue', 'shark'))\n",
        "print('Sammy is {1} {1} {1} {3}!'.format('a', 'happy', 'blue', 'shark'))\n",
        "\n",
        "# and named args\n",
        "print('Coordinates: {latitude}, {longitude}'.format(latitude=37.24, longitude=-115.81))"
      ],
      "execution_count": null,
      "outputs": [
        {
          "name": "stdout",
          "output_type": "stream",
          "text": [
            "Hey Bob, I have a decimal number 50159747054!\n",
            "Sammy is a happy blue shark!\n",
            "Sammy is shark blue happy a!\n",
            "Sammy is happy happy happy shark!\n",
            "Coordinates: 37.24, -115.81\n"
          ]
        }
      ]
    },
    {
      "cell_type": "code",
      "metadata": {
        "id": "siHwXYh05kTs",
        "outputId": "202d2dbb-43b1-4970-d304-317cd53e6ab8"
      },
      "source": [
        "# f-strings\n",
        "\n",
        "year = 2020\n",
        "season = 4\n",
        "\n",
        "print(f'В {year}-м году состоится {season}-й сезон курса Python 3') # Notice f symbol in front of the string!"
      ],
      "execution_count": null,
      "outputs": [
        {
          "name": "stdout",
          "output_type": "stream",
          "text": [
            "В 2020-м году состоится 4-й сезон курса Python 3\n"
          ]
        }
      ]
    },
    {
      "cell_type": "code",
      "metadata": {
        "id": "ArvxsR_X5kTs"
      },
      "source": [
        ""
      ],
      "execution_count": null,
      "outputs": []
    },
    {
      "cell_type": "code",
      "metadata": {
        "id": "wvn_DKpZ5kTs",
        "outputId": "d3ba131d-75d6-4ce4-cd6e-df35bb9262b7"
      },
      "source": [
        "# f-strings support number formatting\n",
        "\n",
        "year = 2020\n",
        "season = 4\n",
        "\n",
        "# .2f - float with two digits after the decimal point\n",
        "print(f'В {year}-м году состоится {season: .2f}-й сезон курса Python 3')"
      ],
      "execution_count": null,
      "outputs": [
        {
          "name": "stdout",
          "output_type": "stream",
          "text": [
            "В 2020-м году состоится  4.00-й сезон курса Python 3\n"
          ]
        }
      ]
    },
    {
      "cell_type": "code",
      "metadata": {
        "id": "IJVYJfle5kTs",
        "outputId": "f4d07f46-11dd-49a8-8ec5-f616928764fb"
      },
      "source": [
        "# various operations can be performed inside f-strings\n",
        "\n",
        "year = 2020\n",
        "\n",
        "print(f'В {year}-м году состоится {year-2017+1}-й сезон курса Python 3')"
      ],
      "execution_count": null,
      "outputs": [
        {
          "name": "stdout",
          "output_type": "stream",
          "text": [
            "В 2020-м году состоится 4-й сезон курса Python 3\n"
          ]
        }
      ]
    },
    {
      "cell_type": "code",
      "metadata": {
        "id": "P1WFtxkl5kTs",
        "outputId": "4559c7cf-de83-4115-ef1e-82ff2364808e"
      },
      "source": [
        "# you can access list items by index\n",
        "\n",
        "years = [2016, 2017, 2018, 2019, 2020]\n",
        "season = 4\n",
        "\n",
        "print(f'В {years[season]}-м году состоится {season}-й сезон курса Python 3')"
      ],
      "execution_count": null,
      "outputs": [
        {
          "name": "stdout",
          "output_type": "stream",
          "text": [
            "В 2020-м году состоится 4-й сезон курса Python 3\n"
          ]
        }
      ]
    },
    {
      "cell_type": "code",
      "metadata": {
        "id": "FLn6uwDw5kTt",
        "outputId": "9943e322-9a63-4bb3-f81f-4cdc2938d91a"
      },
      "source": [
        "# And even call methods and functions!\n",
        "\n",
        "year = 2020\n",
        "season = 4\n",
        "name = 'Python 3'\n",
        "\n",
        "print(f'В {year}-м году состоится {season}-й сезон {name.upper()}')"
      ],
      "execution_count": null,
      "outputs": [
        {
          "name": "stdout",
          "output_type": "stream",
          "text": [
            "В 2020-м году состоится 4-й сезон PYTHON 3\n"
          ]
        }
      ]
    },
    {
      "cell_type": "markdown",
      "metadata": {
        "id": "OQXqYG4E5kTt"
      },
      "source": [
        "## Symbols & bytes\n",
        "\n",
        "Unicode: symbol identifier (such as `r`, `Я` or `韩`) != byte representation.\n",
        "\n",
        "You can switch between the Unicode symbol (e.g. \"U+1D11E\") and its integer identifier with `ord` and `chr`:"
      ]
    },
    {
      "cell_type": "code",
      "metadata": {
        "id": "xCMgK8x25kTt",
        "outputId": "097de482-9298-41aa-8036-d09e3fcacff7"
      },
      "source": [
        "ord('r')"
      ],
      "execution_count": null,
      "outputs": [
        {
          "data": {
            "text/plain": [
              "114"
            ]
          },
          "execution_count": 31,
          "metadata": {},
          "output_type": "execute_result"
        }
      ]
    },
    {
      "cell_type": "code",
      "metadata": {
        "id": "8AMAhbSD5kTt",
        "outputId": "1f4b6d14-ac01-43c5-d407-abd3edbacdb5"
      },
      "source": [
        "ord('\\U0001D11E'), chr(ord('\\U0001D11E')), chr(119070)"
      ],
      "execution_count": null,
      "outputs": [
        {
          "data": {
            "text/plain": [
              "(119070, '𝄞', '𝄞')"
            ]
          },
          "execution_count": 10,
          "metadata": {},
          "output_type": "execute_result"
        }
      ]
    },
    {
      "cell_type": "code",
      "metadata": {
        "id": "oZlcehzF5kTt",
        "outputId": "47e7f8d6-cf2f-42dd-d770-73e37d6e5057"
      },
      "source": [
        "ord('韩')"
      ],
      "execution_count": null,
      "outputs": [
        {
          "data": {
            "text/plain": [
              "38889"
            ]
          },
          "execution_count": 29,
          "metadata": {},
          "output_type": "execute_result"
        }
      ]
    },
    {
      "cell_type": "code",
      "metadata": {
        "id": "eG4r0MtX5kTt",
        "outputId": "db31b55a-15f4-4c66-b164-eea9f00b96fb"
      },
      "source": [
        "chr(ord('韩')) == '韩'"
      ],
      "execution_count": null,
      "outputs": [
        {
          "data": {
            "text/plain": [
              "True"
            ]
          },
          "execution_count": 30,
          "metadata": {},
          "output_type": "execute_result"
        }
      ]
    },
    {
      "cell_type": "markdown",
      "metadata": {
        "id": "wxWfiQ135kTu"
      },
      "source": [
        "How can we store it in memory?\n",
        "\n",
        "```\n",
        "Encoding: symbols (human-readable) -> bytes \n",
        "Decoding: bytes -> symbols\n",
        "```"
      ]
    },
    {
      "cell_type": "code",
      "metadata": {
        "id": "iaHrWljo5kTu",
        "outputId": "b3c7df05-44f4-4536-e677-45b3ab9def67"
      },
      "source": [
        "s = 'café'\n",
        "len(s)"
      ],
      "execution_count": null,
      "outputs": [
        {
          "data": {
            "text/plain": [
              "4"
            ]
          },
          "execution_count": 16,
          "metadata": {},
          "output_type": "execute_result"
        }
      ]
    },
    {
      "cell_type": "code",
      "metadata": {
        "id": "D3lu_CVc5kTu",
        "outputId": "6d03e22a-6fa6-43b2-de89-dde6d57386f2"
      },
      "source": [
        "b = s.encode('utf8')\n",
        "print(len(b), type(b))\n",
        "print(*b)\n",
        "b # binary representation"
      ],
      "execution_count": null,
      "outputs": [
        {
          "name": "stdout",
          "output_type": "stream",
          "text": [
            "5 <class 'bytes'>\n",
            "99 97 102 195 169\n"
          ]
        },
        {
          "data": {
            "text/plain": [
              "b'caf\\xc3\\xa9'"
            ]
          },
          "execution_count": 23,
          "metadata": {},
          "output_type": "execute_result"
        }
      ]
    },
    {
      "cell_type": "code",
      "metadata": {
        "id": "qRF6O3od5kTu",
        "outputId": "c589fc95-87c0-4501-efdd-62cff628cf9f"
      },
      "source": [
        "b.decode('utf8')"
      ],
      "execution_count": null,
      "outputs": [
        {
          "data": {
            "text/plain": [
              "'café'"
            ]
          },
          "execution_count": 33,
          "metadata": {},
          "output_type": "execute_result"
        }
      ]
    },
    {
      "cell_type": "code",
      "metadata": {
        "id": "TlH7on6T5kTu",
        "outputId": "d61c51ac-9785-4f4e-e0ae-6e8215e6d918"
      },
      "source": [
        "print(b)\n",
        "for byte in b:\n",
        "    print(hex(byte), byte, chr(byte))"
      ],
      "execution_count": null,
      "outputs": [
        {
          "name": "stdout",
          "output_type": "stream",
          "text": [
            "b'caf\\xc3\\xa9'\n",
            "0x63 99 c\n",
            "0x61 97 a\n",
            "0x66 102 f\n",
            "0xc3 195 Ã\n",
            "0xa9 169 ©\n"
          ]
        }
      ]
    },
    {
      "cell_type": "markdown",
      "metadata": {
        "id": "MB_4p_fz5kTu"
      },
      "source": [
        "## < Fun >\n",
        "Let's print the full ASCII table with one print statement"
      ]
    },
    {
      "cell_type": "markdown",
      "metadata": {
        "id": "UqZUuFbL5kTu"
      },
      "source": [
        "### First, some Python built-in functions\n",
        "\n",
        "* `map(function, *iterables)`"
      ]
    },
    {
      "cell_type": "code",
      "metadata": {
        "id": "D3b-mIZP5kTu",
        "outputId": "34da60b6-0217-4d66-cec6-ba94ae47359a"
      },
      "source": [
        "map(chr, range(50, 70))"
      ],
      "execution_count": null,
      "outputs": [
        {
          "data": {
            "text/plain": [
              "<map at 0x7f88270aa940>"
            ]
          },
          "execution_count": 75,
          "metadata": {},
          "output_type": "execute_result"
        }
      ]
    },
    {
      "cell_type": "code",
      "metadata": {
        "id": "AcjxJM0B5kTu",
        "outputId": "c5c20f85-55db-41fd-9b5d-a49687b39c1c"
      },
      "source": [
        "print(list(map(chr, range(50, 70))))"
      ],
      "execution_count": null,
      "outputs": [
        {
          "name": "stdout",
          "output_type": "stream",
          "text": [
            "['2', '3', '4', '5', '6', '7', '8', '9', ':', ';', '<', '=', '>', '?', '@', 'A', 'B', 'C', 'D', 'E']\n"
          ]
        }
      ]
    },
    {
      "cell_type": "code",
      "metadata": {
        "id": "My9eDKPP5kTu",
        "outputId": "a8a81197-c98e-429f-9162-ff495af52ee5"
      },
      "source": [
        "string = '2 3 5 7 11 13' # input()\n",
        "print(string.split())\n",
        "integers = list(map(int, string.split()))\n",
        "integers"
      ],
      "execution_count": null,
      "outputs": [
        {
          "name": "stdout",
          "output_type": "stream",
          "text": [
            "['2', '3', '5', '7', '11', '13']\n"
          ]
        },
        {
          "data": {
            "text/plain": [
              "[2, 3, 5, 7, 11, 13]"
            ]
          },
          "execution_count": 67,
          "metadata": {},
          "output_type": "execute_result"
        }
      ]
    },
    {
      "cell_type": "markdown",
      "metadata": {
        "id": "kQX32gWU5kTu"
      },
      "source": [
        "* `zip(*iterables)`"
      ]
    },
    {
      "cell_type": "code",
      "metadata": {
        "id": "UmcTh13E5kTu",
        "outputId": "d0eb289a-9838-4aab-9db8-5e9d8d54a92b"
      },
      "source": [
        "names = ['Bob', 'Sam']\n",
        "surnames = ['Bronx', 'Jackson']\n",
        "print(zip(names, surnames))\n",
        "print(list(zip(names, surnames)))"
      ],
      "execution_count": null,
      "outputs": [
        {
          "name": "stdout",
          "output_type": "stream",
          "text": [
            "<zip object at 0x7f8827071b88>\n",
            "[('Bob', 'Bronx'), ('Sam', 'Jackson')]\n"
          ]
        }
      ]
    },
    {
      "cell_type": "markdown",
      "metadata": {
        "id": "guHCWKuQ5kTu"
      },
      "source": [
        "### ASCII table"
      ]
    },
    {
      "cell_type": "code",
      "metadata": {
        "id": "NvGuBnuj5kTv",
        "outputId": "85c7a8ab-e8d7-40a1-c32f-6861961067ab"
      },
      "source": [
        "for char_index in range(128):\n",
        "    print('{}\\t||\\t{}\\t||\\t{}'.format(char_index, hex(char_index), chr(char_index)))"
      ],
      "execution_count": null,
      "outputs": [
        {
          "name": "stdout",
          "output_type": "stream",
          "text": [
            "0\t||\t0x0\t||\t\u0000\n",
            "1\t||\t0x1\t||\t\u0001\n",
            "2\t||\t0x2\t||\t\u0002\n",
            "3\t||\t0x3\t||\t\u0003\n",
            "4\t||\t0x4\t||\t\u0004\n",
            "5\t||\t0x5\t||\t\u0005\n",
            "6\t||\t0x6\t||\t\u0006\n",
            "7\t||\t0x7\t||\t\u0007\n",
            "8\t||\t0x8\t||\t\b\n",
            "9\t||\t0x9\t||\t\t\n",
            "10\t||\t0xa\t||\t\n",
            "\n",
            "11\t||\t0xb\t||\t\u000b",
            "\n",
            "12\t||\t0xc\t||\t\f",
            "\n",
            "13\t||\t0xd\t||\t\r\n",
            "14\t||\t0xe\t||\t\u000e\n",
            "15\t||\t0xf\t||\t\u000f\n",
            "16\t||\t0x10\t||\t\u0010\n",
            "17\t||\t0x11\t||\t\u0011\n",
            "18\t||\t0x12\t||\t\u0012\n",
            "19\t||\t0x13\t||\t\u0013\n",
            "20\t||\t0x14\t||\t\u0014\n",
            "21\t||\t0x15\t||\t\u0015\n",
            "22\t||\t0x16\t||\t\u0016\n",
            "23\t||\t0x17\t||\t\u0017\n",
            "24\t||\t0x18\t||\t\u0018\n",
            "25\t||\t0x19\t||\t\u0019\n",
            "26\t||\t0x1a\t||\t\u001a\n",
            "27\t||\t0x1b\t||\t\u001b\n",
            "28\t||\t0x1c\t||\t\u001c",
            "\n",
            "29\t||\t0x1d\t||\t\u001d",
            "\n",
            "30\t||\t0x1e\t||\t\u001e",
            "\n",
            "31\t||\t0x1f\t||\t\u001f\n",
            "32\t||\t0x20\t||\t \n",
            "33\t||\t0x21\t||\t!\n",
            "34\t||\t0x22\t||\t\"\n",
            "35\t||\t0x23\t||\t#\n",
            "36\t||\t0x24\t||\t$\n",
            "37\t||\t0x25\t||\t%\n",
            "38\t||\t0x26\t||\t&\n",
            "39\t||\t0x27\t||\t'\n",
            "40\t||\t0x28\t||\t(\n",
            "41\t||\t0x29\t||\t)\n",
            "42\t||\t0x2a\t||\t*\n",
            "43\t||\t0x2b\t||\t+\n",
            "44\t||\t0x2c\t||\t,\n",
            "45\t||\t0x2d\t||\t-\n",
            "46\t||\t0x2e\t||\t.\n",
            "47\t||\t0x2f\t||\t/\n",
            "48\t||\t0x30\t||\t0\n",
            "49\t||\t0x31\t||\t1\n",
            "50\t||\t0x32\t||\t2\n",
            "51\t||\t0x33\t||\t3\n",
            "52\t||\t0x34\t||\t4\n",
            "53\t||\t0x35\t||\t5\n",
            "54\t||\t0x36\t||\t6\n",
            "55\t||\t0x37\t||\t7\n",
            "56\t||\t0x38\t||\t8\n",
            "57\t||\t0x39\t||\t9\n",
            "58\t||\t0x3a\t||\t:\n",
            "59\t||\t0x3b\t||\t;\n",
            "60\t||\t0x3c\t||\t<\n",
            "61\t||\t0x3d\t||\t=\n",
            "62\t||\t0x3e\t||\t>\n",
            "63\t||\t0x3f\t||\t?\n",
            "64\t||\t0x40\t||\t@\n",
            "65\t||\t0x41\t||\tA\n",
            "66\t||\t0x42\t||\tB\n",
            "67\t||\t0x43\t||\tC\n",
            "68\t||\t0x44\t||\tD\n",
            "69\t||\t0x45\t||\tE\n",
            "70\t||\t0x46\t||\tF\n",
            "71\t||\t0x47\t||\tG\n",
            "72\t||\t0x48\t||\tH\n",
            "73\t||\t0x49\t||\tI\n",
            "74\t||\t0x4a\t||\tJ\n",
            "75\t||\t0x4b\t||\tK\n",
            "76\t||\t0x4c\t||\tL\n",
            "77\t||\t0x4d\t||\tM\n",
            "78\t||\t0x4e\t||\tN\n",
            "79\t||\t0x4f\t||\tO\n",
            "80\t||\t0x50\t||\tP\n",
            "81\t||\t0x51\t||\tQ\n",
            "82\t||\t0x52\t||\tR\n",
            "83\t||\t0x53\t||\tS\n",
            "84\t||\t0x54\t||\tT\n",
            "85\t||\t0x55\t||\tU\n",
            "86\t||\t0x56\t||\tV\n",
            "87\t||\t0x57\t||\tW\n",
            "88\t||\t0x58\t||\tX\n",
            "89\t||\t0x59\t||\tY\n",
            "90\t||\t0x5a\t||\tZ\n",
            "91\t||\t0x5b\t||\t[\n",
            "92\t||\t0x5c\t||\t\\\n",
            "93\t||\t0x5d\t||\t]\n",
            "94\t||\t0x5e\t||\t^\n",
            "95\t||\t0x5f\t||\t_\n",
            "96\t||\t0x60\t||\t`\n",
            "97\t||\t0x61\t||\ta\n",
            "98\t||\t0x62\t||\tb\n",
            "99\t||\t0x63\t||\tc\n",
            "100\t||\t0x64\t||\td\n",
            "101\t||\t0x65\t||\te\n",
            "102\t||\t0x66\t||\tf\n",
            "103\t||\t0x67\t||\tg\n",
            "104\t||\t0x68\t||\th\n",
            "105\t||\t0x69\t||\ti\n",
            "106\t||\t0x6a\t||\tj\n",
            "107\t||\t0x6b\t||\tk\n",
            "108\t||\t0x6c\t||\tl\n",
            "109\t||\t0x6d\t||\tm\n",
            "110\t||\t0x6e\t||\tn\n",
            "111\t||\t0x6f\t||\to\n",
            "112\t||\t0x70\t||\tp\n",
            "113\t||\t0x71\t||\tq\n",
            "114\t||\t0x72\t||\tr\n",
            "115\t||\t0x73\t||\ts\n",
            "116\t||\t0x74\t||\tt\n",
            "117\t||\t0x75\t||\tu\n",
            "118\t||\t0x76\t||\tv\n",
            "119\t||\t0x77\t||\tw\n",
            "120\t||\t0x78\t||\tx\n",
            "121\t||\t0x79\t||\ty\n",
            "122\t||\t0x7a\t||\tz\n",
            "123\t||\t0x7b\t||\t{\n",
            "124\t||\t0x7c\t||\t|\n",
            "125\t||\t0x7d\t||\t}\n",
            "126\t||\t0x7e\t||\t~\n",
            "127\t||\t0x7f\t||\t\n"
          ]
        }
      ]
    },
    {
      "cell_type": "markdown",
      "metadata": {
        "id": "mpDBkqVH5kTv"
      },
      "source": [
        "Can you do this in one line?"
      ]
    },
    {
      "cell_type": "code",
      "metadata": {
        "id": "Y60SBUDu5kTv",
        "outputId": "0a8a1c35-ea45-4a3d-ce64-5c252724f5f9"
      },
      "source": [
        "# ascii_range = range(128)\n",
        "\n",
        "print(*['\\t||\\t'.join(map(str, row)) for row in zip(range(128), map(hex, range(128)), map(chr, range(128)))], sep='\\n')"
      ],
      "execution_count": null,
      "outputs": [
        {
          "name": "stdout",
          "output_type": "stream",
          "text": [
            "0\t||\t0x0\t||\t\u0000\n",
            "1\t||\t0x1\t||\t\u0001\n",
            "2\t||\t0x2\t||\t\u0002\n",
            "3\t||\t0x3\t||\t\u0003\n",
            "4\t||\t0x4\t||\t\u0004\n",
            "5\t||\t0x5\t||\t\u0005\n",
            "6\t||\t0x6\t||\t\u0006\n",
            "7\t||\t0x7\t||\t\u0007\n",
            "8\t||\t0x8\t||\t\b\n",
            "9\t||\t0x9\t||\t\t\n",
            "10\t||\t0xa\t||\t\n",
            "\n",
            "11\t||\t0xb\t||\t\u000b",
            "\n",
            "12\t||\t0xc\t||\t\f",
            "\n",
            "13\t||\t0xd\t||\t\r\n",
            "14\t||\t0xe\t||\t\u000e\n",
            "15\t||\t0xf\t||\t\u000f\n",
            "16\t||\t0x10\t||\t\u0010\n",
            "17\t||\t0x11\t||\t\u0011\n",
            "18\t||\t0x12\t||\t\u0012\n",
            "19\t||\t0x13\t||\t\u0013\n",
            "20\t||\t0x14\t||\t\u0014\n",
            "21\t||\t0x15\t||\t\u0015\n",
            "22\t||\t0x16\t||\t\u0016\n",
            "23\t||\t0x17\t||\t\u0017\n",
            "24\t||\t0x18\t||\t\u0018\n",
            "25\t||\t0x19\t||\t\u0019\n",
            "26\t||\t0x1a\t||\t\u001a\n",
            "27\t||\t0x1b\t||\t\u001b\n",
            "28\t||\t0x1c\t||\t\u001c",
            "\n",
            "29\t||\t0x1d\t||\t\u001d",
            "\n",
            "30\t||\t0x1e\t||\t\u001e",
            "\n",
            "31\t||\t0x1f\t||\t\u001f\n",
            "32\t||\t0x20\t||\t \n",
            "33\t||\t0x21\t||\t!\n",
            "34\t||\t0x22\t||\t\"\n",
            "35\t||\t0x23\t||\t#\n",
            "36\t||\t0x24\t||\t$\n",
            "37\t||\t0x25\t||\t%\n",
            "38\t||\t0x26\t||\t&\n",
            "39\t||\t0x27\t||\t'\n",
            "40\t||\t0x28\t||\t(\n",
            "41\t||\t0x29\t||\t)\n",
            "42\t||\t0x2a\t||\t*\n",
            "43\t||\t0x2b\t||\t+\n",
            "44\t||\t0x2c\t||\t,\n",
            "45\t||\t0x2d\t||\t-\n",
            "46\t||\t0x2e\t||\t.\n",
            "47\t||\t0x2f\t||\t/\n",
            "48\t||\t0x30\t||\t0\n",
            "49\t||\t0x31\t||\t1\n",
            "50\t||\t0x32\t||\t2\n",
            "51\t||\t0x33\t||\t3\n",
            "52\t||\t0x34\t||\t4\n",
            "53\t||\t0x35\t||\t5\n",
            "54\t||\t0x36\t||\t6\n",
            "55\t||\t0x37\t||\t7\n",
            "56\t||\t0x38\t||\t8\n",
            "57\t||\t0x39\t||\t9\n",
            "58\t||\t0x3a\t||\t:\n",
            "59\t||\t0x3b\t||\t;\n",
            "60\t||\t0x3c\t||\t<\n",
            "61\t||\t0x3d\t||\t=\n",
            "62\t||\t0x3e\t||\t>\n",
            "63\t||\t0x3f\t||\t?\n",
            "64\t||\t0x40\t||\t@\n",
            "65\t||\t0x41\t||\tA\n",
            "66\t||\t0x42\t||\tB\n",
            "67\t||\t0x43\t||\tC\n",
            "68\t||\t0x44\t||\tD\n",
            "69\t||\t0x45\t||\tE\n",
            "70\t||\t0x46\t||\tF\n",
            "71\t||\t0x47\t||\tG\n",
            "72\t||\t0x48\t||\tH\n",
            "73\t||\t0x49\t||\tI\n",
            "74\t||\t0x4a\t||\tJ\n",
            "75\t||\t0x4b\t||\tK\n",
            "76\t||\t0x4c\t||\tL\n",
            "77\t||\t0x4d\t||\tM\n",
            "78\t||\t0x4e\t||\tN\n",
            "79\t||\t0x4f\t||\tO\n",
            "80\t||\t0x50\t||\tP\n",
            "81\t||\t0x51\t||\tQ\n",
            "82\t||\t0x52\t||\tR\n",
            "83\t||\t0x53\t||\tS\n",
            "84\t||\t0x54\t||\tT\n",
            "85\t||\t0x55\t||\tU\n",
            "86\t||\t0x56\t||\tV\n",
            "87\t||\t0x57\t||\tW\n",
            "88\t||\t0x58\t||\tX\n",
            "89\t||\t0x59\t||\tY\n",
            "90\t||\t0x5a\t||\tZ\n",
            "91\t||\t0x5b\t||\t[\n",
            "92\t||\t0x5c\t||\t\\\n",
            "93\t||\t0x5d\t||\t]\n",
            "94\t||\t0x5e\t||\t^\n",
            "95\t||\t0x5f\t||\t_\n",
            "96\t||\t0x60\t||\t`\n",
            "97\t||\t0x61\t||\ta\n",
            "98\t||\t0x62\t||\tb\n",
            "99\t||\t0x63\t||\tc\n",
            "100\t||\t0x64\t||\td\n",
            "101\t||\t0x65\t||\te\n",
            "102\t||\t0x66\t||\tf\n",
            "103\t||\t0x67\t||\tg\n",
            "104\t||\t0x68\t||\th\n",
            "105\t||\t0x69\t||\ti\n",
            "106\t||\t0x6a\t||\tj\n",
            "107\t||\t0x6b\t||\tk\n",
            "108\t||\t0x6c\t||\tl\n",
            "109\t||\t0x6d\t||\tm\n",
            "110\t||\t0x6e\t||\tn\n",
            "111\t||\t0x6f\t||\to\n",
            "112\t||\t0x70\t||\tp\n",
            "113\t||\t0x71\t||\tq\n",
            "114\t||\t0x72\t||\tr\n",
            "115\t||\t0x73\t||\ts\n",
            "116\t||\t0x74\t||\tt\n",
            "117\t||\t0x75\t||\tu\n",
            "118\t||\t0x76\t||\tv\n",
            "119\t||\t0x77\t||\tw\n",
            "120\t||\t0x78\t||\tx\n",
            "121\t||\t0x79\t||\ty\n",
            "122\t||\t0x7a\t||\tz\n",
            "123\t||\t0x7b\t||\t{\n",
            "124\t||\t0x7c\t||\t|\n",
            "125\t||\t0x7d\t||\t}\n",
            "126\t||\t0x7e\t||\t~\n",
            "127\t||\t0x7f\t||\t\n"
          ]
        }
      ]
    },
    {
      "cell_type": "markdown",
      "metadata": {
        "id": "f87iVS7K5kTv"
      },
      "source": [
        "## < /Fun >"
      ]
    },
    {
      "cell_type": "markdown",
      "metadata": {
        "id": "YSkgIQOb5kTv"
      },
      "source": [
        "Which encodings can we use? Lots."
      ]
    },
    {
      "cell_type": "code",
      "metadata": {
        "id": "wi0FCHir5kTv",
        "outputId": "5051a213-c2e3-42b4-f2c5-367a56aecbfa"
      },
      "source": [
        "string = 'El Niño'\n",
        "\n",
        "for codec in ['latin_1', 'utf_8', 'utf_16', 'cp437']:\n",
        "    encoded = string.encode(codec)\n",
        "    print(codec, encoded.decode(codec), encoded, sep='\\t\\t')"
      ],
      "execution_count": null,
      "outputs": [
        {
          "name": "stdout",
          "output_type": "stream",
          "text": [
            "latin_1\t\tEl Niño\t\tb'El Ni\\xf1o'\n",
            "utf_8\t\tEl Niño\t\tb'El Ni\\xc3\\xb1o'\n",
            "utf_16\t\tEl Niño\t\tb'\\xff\\xfeE\\x00l\\x00 \\x00N\\x00i\\x00\\xf1\\x00o\\x00'\n",
            "cp437\t\tEl Niño\t\tb'El Ni\\xa4o'\n"
          ]
        }
      ]
    },
    {
      "cell_type": "markdown",
      "metadata": {
        "id": "uoKaaXjX5kTv"
      },
      "source": [
        "Some of them won't work:"
      ]
    },
    {
      "cell_type": "code",
      "metadata": {
        "id": "amGeuOi65kTv",
        "outputId": "59b74b7a-0913-47b8-c0f0-f1f41d60b07a"
      },
      "source": [
        "city = 'São Paulo'\n",
        "print(city.encode('utf_8'))\n",
        "print(city.encode('utf_16'))\n",
        "print(city.encode('iso8859_1'))\n",
        "print(city.encode('cp437'))"
      ],
      "execution_count": null,
      "outputs": [
        {
          "name": "stdout",
          "output_type": "stream",
          "text": [
            "b'S\\xc3\\xa3o Paulo'\n",
            "b'\\xff\\xfeS\\x00\\xe3\\x00o\\x00 \\x00P\\x00a\\x00u\\x00l\\x00o\\x00'\n",
            "b'S\\xe3o Paulo'\n"
          ]
        },
        {
          "ename": "UnicodeEncodeError",
          "evalue": "'charmap' codec can't encode character '\\xe3' in position 1: character maps to <undefined>",
          "output_type": "error",
          "traceback": [
            "\u001b[0;31m---------------------------------------------------------------------------\u001b[0m",
            "\u001b[0;31mUnicodeEncodeError\u001b[0m                        Traceback (most recent call last)",
            "\u001b[0;32m<ipython-input-36-c0871d73a1d9>\u001b[0m in \u001b[0;36m<module>\u001b[0;34m()\u001b[0m\n\u001b[1;32m      3\u001b[0m \u001b[0mprint\u001b[0m\u001b[0;34m(\u001b[0m\u001b[0mcity\u001b[0m\u001b[0;34m.\u001b[0m\u001b[0mencode\u001b[0m\u001b[0;34m(\u001b[0m\u001b[0;34m'utf_16'\u001b[0m\u001b[0;34m)\u001b[0m\u001b[0;34m)\u001b[0m\u001b[0;34m\u001b[0m\u001b[0m\n\u001b[1;32m      4\u001b[0m \u001b[0mprint\u001b[0m\u001b[0;34m(\u001b[0m\u001b[0mcity\u001b[0m\u001b[0;34m.\u001b[0m\u001b[0mencode\u001b[0m\u001b[0;34m(\u001b[0m\u001b[0;34m'iso8859_1'\u001b[0m\u001b[0;34m)\u001b[0m\u001b[0;34m)\u001b[0m\u001b[0;34m\u001b[0m\u001b[0m\n\u001b[0;32m----> 5\u001b[0;31m \u001b[0mprint\u001b[0m\u001b[0;34m(\u001b[0m\u001b[0mcity\u001b[0m\u001b[0;34m.\u001b[0m\u001b[0mencode\u001b[0m\u001b[0;34m(\u001b[0m\u001b[0;34m'cp437'\u001b[0m\u001b[0;34m)\u001b[0m\u001b[0;34m)\u001b[0m\u001b[0;34m\u001b[0m\u001b[0m\n\u001b[0m",
            "\u001b[0;32m~/workspace/shad/lib/python3.5/encodings/cp437.py\u001b[0m in \u001b[0;36mencode\u001b[0;34m(self, input, errors)\u001b[0m\n\u001b[1;32m     10\u001b[0m \u001b[0;34m\u001b[0m\u001b[0m\n\u001b[1;32m     11\u001b[0m     \u001b[0;32mdef\u001b[0m \u001b[0mencode\u001b[0m\u001b[0;34m(\u001b[0m\u001b[0mself\u001b[0m\u001b[0;34m,\u001b[0m\u001b[0minput\u001b[0m\u001b[0;34m,\u001b[0m\u001b[0merrors\u001b[0m\u001b[0;34m=\u001b[0m\u001b[0;34m'strict'\u001b[0m\u001b[0;34m)\u001b[0m\u001b[0;34m:\u001b[0m\u001b[0;34m\u001b[0m\u001b[0m\n\u001b[0;32m---> 12\u001b[0;31m         \u001b[0;32mreturn\u001b[0m \u001b[0mcodecs\u001b[0m\u001b[0;34m.\u001b[0m\u001b[0mcharmap_encode\u001b[0m\u001b[0;34m(\u001b[0m\u001b[0minput\u001b[0m\u001b[0;34m,\u001b[0m\u001b[0merrors\u001b[0m\u001b[0;34m,\u001b[0m\u001b[0mencoding_map\u001b[0m\u001b[0;34m)\u001b[0m\u001b[0;34m\u001b[0m\u001b[0m\n\u001b[0m\u001b[1;32m     13\u001b[0m \u001b[0;34m\u001b[0m\u001b[0m\n\u001b[1;32m     14\u001b[0m     \u001b[0;32mdef\u001b[0m \u001b[0mdecode\u001b[0m\u001b[0;34m(\u001b[0m\u001b[0mself\u001b[0m\u001b[0;34m,\u001b[0m\u001b[0minput\u001b[0m\u001b[0;34m,\u001b[0m\u001b[0merrors\u001b[0m\u001b[0;34m=\u001b[0m\u001b[0;34m'strict'\u001b[0m\u001b[0;34m)\u001b[0m\u001b[0;34m:\u001b[0m\u001b[0;34m\u001b[0m\u001b[0m\n",
            "\u001b[0;31mUnicodeEncodeError\u001b[0m: 'charmap' codec can't encode character '\\xe3' in position 1: character maps to <undefined>"
          ]
        }
      ]
    },
    {
      "cell_type": "markdown",
      "metadata": {
        "id": "2c2jrcim5kTv"
      },
      "source": [
        "Oops!"
      ]
    },
    {
      "cell_type": "code",
      "metadata": {
        "id": "4uKuzUrO5kTv",
        "outputId": "45980605-08b6-484e-90a1-94bc15a3682e"
      },
      "source": [
        "print(city.encode('cp437', errors='ignore')) # bad\n",
        "print(city.encode('cp437', errors='replace')) # better\n",
        "print(city.encode('cp437', errors='xmlcharrefreplace')) # still not perfect"
      ],
      "execution_count": null,
      "outputs": [
        {
          "name": "stdout",
          "output_type": "stream",
          "text": [
            "b'So Paulo'\n",
            "b'S?o Paulo'\n",
            "b'S&#227;o Paulo'\n"
          ]
        }
      ]
    },
    {
      "cell_type": "markdown",
      "metadata": {
        "id": "Ky3lFe6I5kTv"
      },
      "source": [
        "You can also look at the `codecs` module, it was widely used in Python 2 but is obsolete now."
      ]
    },
    {
      "cell_type": "markdown",
      "metadata": {
        "id": "BjJYzJsl5kTv"
      },
      "source": [
        "## Files support"
      ]
    },
    {
      "cell_type": "code",
      "metadata": {
        "collapsed": true,
        "id": "j9XeK_4b5kTv"
      },
      "source": [
        "with open('unicode_file.txt', 'w', encoding='utf-16le') as f:\n",
        "    f.write('韩国烧酒')"
      ],
      "execution_count": null,
      "outputs": []
    },
    {
      "cell_type": "code",
      "metadata": {
        "id": "swjrOchc5kTv",
        "outputId": "7768b201-664c-4773-f1c4-f7986e535c87"
      },
      "source": [
        "with open('unicode_file.txt', 'r') as f:\n",
        "    print(f.read())"
      ],
      "execution_count": null,
      "outputs": [
        {
          "ename": "UnicodeDecodeError",
          "evalue": "'utf-8' codec can't decode bytes in position 0-1: invalid continuation byte",
          "output_type": "error",
          "traceback": [
            "\u001b[0;31m---------------------------------------------------------------------------\u001b[0m",
            "\u001b[0;31mUnicodeDecodeError\u001b[0m                        Traceback (most recent call last)",
            "\u001b[0;32m<ipython-input-36-35fe901e1e13>\u001b[0m in \u001b[0;36m<module>\u001b[0;34m\u001b[0m\n\u001b[1;32m      1\u001b[0m \u001b[0;32mwith\u001b[0m \u001b[0mopen\u001b[0m\u001b[0;34m(\u001b[0m\u001b[0;34m'unicode_file.txt'\u001b[0m\u001b[0;34m,\u001b[0m \u001b[0;34m'r'\u001b[0m\u001b[0;34m)\u001b[0m \u001b[0;32mas\u001b[0m \u001b[0mf\u001b[0m\u001b[0;34m:\u001b[0m\u001b[0;34m\u001b[0m\u001b[0;34m\u001b[0m\u001b[0m\n\u001b[0;32m----> 2\u001b[0;31m     \u001b[0mprint\u001b[0m\u001b[0;34m(\u001b[0m\u001b[0mf\u001b[0m\u001b[0;34m.\u001b[0m\u001b[0mread\u001b[0m\u001b[0;34m(\u001b[0m\u001b[0;34m)\u001b[0m\u001b[0;34m)\u001b[0m\u001b[0;34m\u001b[0m\u001b[0;34m\u001b[0m\u001b[0m\n\u001b[0m",
            "\u001b[0;32m~/anaconda3/lib/python3.7/codecs.py\u001b[0m in \u001b[0;36mdecode\u001b[0;34m(self, input, final)\u001b[0m\n\u001b[1;32m    320\u001b[0m         \u001b[0;31m# decode input (taking the buffer into account)\u001b[0m\u001b[0;34m\u001b[0m\u001b[0;34m\u001b[0m\u001b[0;34m\u001b[0m\u001b[0m\n\u001b[1;32m    321\u001b[0m         \u001b[0mdata\u001b[0m \u001b[0;34m=\u001b[0m \u001b[0mself\u001b[0m\u001b[0;34m.\u001b[0m\u001b[0mbuffer\u001b[0m \u001b[0;34m+\u001b[0m \u001b[0minput\u001b[0m\u001b[0;34m\u001b[0m\u001b[0;34m\u001b[0m\u001b[0m\n\u001b[0;32m--> 322\u001b[0;31m         \u001b[0;34m(\u001b[0m\u001b[0mresult\u001b[0m\u001b[0;34m,\u001b[0m \u001b[0mconsumed\u001b[0m\u001b[0;34m)\u001b[0m \u001b[0;34m=\u001b[0m \u001b[0mself\u001b[0m\u001b[0;34m.\u001b[0m\u001b[0m_buffer_decode\u001b[0m\u001b[0;34m(\u001b[0m\u001b[0mdata\u001b[0m\u001b[0;34m,\u001b[0m \u001b[0mself\u001b[0m\u001b[0;34m.\u001b[0m\u001b[0merrors\u001b[0m\u001b[0;34m,\u001b[0m \u001b[0mfinal\u001b[0m\u001b[0;34m)\u001b[0m\u001b[0;34m\u001b[0m\u001b[0;34m\u001b[0m\u001b[0m\n\u001b[0m\u001b[1;32m    323\u001b[0m         \u001b[0;31m# keep undecoded input until the next call\u001b[0m\u001b[0;34m\u001b[0m\u001b[0;34m\u001b[0m\u001b[0;34m\u001b[0m\u001b[0m\n\u001b[1;32m    324\u001b[0m         \u001b[0mself\u001b[0m\u001b[0;34m.\u001b[0m\u001b[0mbuffer\u001b[0m \u001b[0;34m=\u001b[0m \u001b[0mdata\u001b[0m\u001b[0;34m[\u001b[0m\u001b[0mconsumed\u001b[0m\u001b[0;34m:\u001b[0m\u001b[0;34m]\u001b[0m\u001b[0;34m\u001b[0m\u001b[0;34m\u001b[0m\u001b[0m\n",
            "\u001b[0;31mUnicodeDecodeError\u001b[0m: 'utf-8' codec can't decode bytes in position 0-1: invalid continuation byte"
          ]
        }
      ]
    },
    {
      "cell_type": "code",
      "metadata": {
        "id": "hAkdvReu5kTw",
        "outputId": "846554a8-ecd6-4d5e-f291-a8d6ae0db046"
      },
      "source": [
        "with open('unicode_file.txt', 'r', encoding='utf-16') as f:\n",
        "    print(f.read())"
      ],
      "execution_count": null,
      "outputs": [
        {
          "ename": "UnicodeError",
          "evalue": "UTF-16 stream does not start with BOM",
          "output_type": "error",
          "traceback": [
            "\u001b[0;31m---------------------------------------------------------------------------\u001b[0m",
            "\u001b[0;31mUnicodeError\u001b[0m                              Traceback (most recent call last)",
            "\u001b[0;32m<ipython-input-40-339b00e3c746>\u001b[0m in \u001b[0;36m<module>\u001b[0;34m()\u001b[0m\n\u001b[1;32m      1\u001b[0m \u001b[0;32mwith\u001b[0m \u001b[0mopen\u001b[0m\u001b[0;34m(\u001b[0m\u001b[0;34m'unicode_file.txt'\u001b[0m\u001b[0;34m,\u001b[0m \u001b[0;34m'r'\u001b[0m\u001b[0;34m,\u001b[0m \u001b[0mencoding\u001b[0m\u001b[0;34m=\u001b[0m\u001b[0;34m'utf-16'\u001b[0m\u001b[0;34m)\u001b[0m \u001b[0;32mas\u001b[0m \u001b[0mf\u001b[0m\u001b[0;34m:\u001b[0m\u001b[0;34m\u001b[0m\u001b[0m\n\u001b[0;32m----> 2\u001b[0;31m     \u001b[0mprint\u001b[0m\u001b[0;34m(\u001b[0m\u001b[0mf\u001b[0m\u001b[0;34m.\u001b[0m\u001b[0mread\u001b[0m\u001b[0;34m(\u001b[0m\u001b[0;34m)\u001b[0m\u001b[0;34m)\u001b[0m\u001b[0;34m\u001b[0m\u001b[0m\n\u001b[0m",
            "\u001b[0;32m~/workspace/shad/lib/python3.5/codecs.py\u001b[0m in \u001b[0;36mdecode\u001b[0;34m(self, input, final)\u001b[0m\n\u001b[1;32m    319\u001b[0m         \u001b[0;31m# decode input (taking the buffer into account)\u001b[0m\u001b[0;34m\u001b[0m\u001b[0;34m\u001b[0m\u001b[0m\n\u001b[1;32m    320\u001b[0m         \u001b[0mdata\u001b[0m \u001b[0;34m=\u001b[0m \u001b[0mself\u001b[0m\u001b[0;34m.\u001b[0m\u001b[0mbuffer\u001b[0m \u001b[0;34m+\u001b[0m \u001b[0minput\u001b[0m\u001b[0;34m\u001b[0m\u001b[0m\n\u001b[0;32m--> 321\u001b[0;31m         \u001b[0;34m(\u001b[0m\u001b[0mresult\u001b[0m\u001b[0;34m,\u001b[0m \u001b[0mconsumed\u001b[0m\u001b[0;34m)\u001b[0m \u001b[0;34m=\u001b[0m \u001b[0mself\u001b[0m\u001b[0;34m.\u001b[0m\u001b[0m_buffer_decode\u001b[0m\u001b[0;34m(\u001b[0m\u001b[0mdata\u001b[0m\u001b[0;34m,\u001b[0m \u001b[0mself\u001b[0m\u001b[0;34m.\u001b[0m\u001b[0merrors\u001b[0m\u001b[0;34m,\u001b[0m \u001b[0mfinal\u001b[0m\u001b[0;34m)\u001b[0m\u001b[0;34m\u001b[0m\u001b[0m\n\u001b[0m\u001b[1;32m    322\u001b[0m         \u001b[0;31m# keep undecoded input until the next call\u001b[0m\u001b[0;34m\u001b[0m\u001b[0;34m\u001b[0m\u001b[0m\n\u001b[1;32m    323\u001b[0m         \u001b[0mself\u001b[0m\u001b[0;34m.\u001b[0m\u001b[0mbuffer\u001b[0m \u001b[0;34m=\u001b[0m \u001b[0mdata\u001b[0m\u001b[0;34m[\u001b[0m\u001b[0mconsumed\u001b[0m\u001b[0;34m:\u001b[0m\u001b[0;34m]\u001b[0m\u001b[0;34m\u001b[0m\u001b[0m\n",
            "\u001b[0;32m~/workspace/shad/lib/python3.5/encodings/utf_16.py\u001b[0m in \u001b[0;36m_buffer_decode\u001b[0;34m(self, input, errors, final)\u001b[0m\n\u001b[1;32m     65\u001b[0m                 \u001b[0mself\u001b[0m\u001b[0;34m.\u001b[0m\u001b[0mdecoder\u001b[0m \u001b[0;34m=\u001b[0m \u001b[0mcodecs\u001b[0m\u001b[0;34m.\u001b[0m\u001b[0mutf_16_be_decode\u001b[0m\u001b[0;34m\u001b[0m\u001b[0m\n\u001b[1;32m     66\u001b[0m             \u001b[0;32melif\u001b[0m \u001b[0mconsumed\u001b[0m \u001b[0;34m>=\u001b[0m \u001b[0;36m2\u001b[0m\u001b[0;34m:\u001b[0m\u001b[0;34m\u001b[0m\u001b[0m\n\u001b[0;32m---> 67\u001b[0;31m                 \u001b[0;32mraise\u001b[0m \u001b[0mUnicodeError\u001b[0m\u001b[0;34m(\u001b[0m\u001b[0;34m\"UTF-16 stream does not start with BOM\"\u001b[0m\u001b[0;34m)\u001b[0m\u001b[0;34m\u001b[0m\u001b[0m\n\u001b[0m\u001b[1;32m     68\u001b[0m             \u001b[0;32mreturn\u001b[0m \u001b[0;34m(\u001b[0m\u001b[0moutput\u001b[0m\u001b[0;34m,\u001b[0m \u001b[0mconsumed\u001b[0m\u001b[0;34m)\u001b[0m\u001b[0;34m\u001b[0m\u001b[0m\n\u001b[1;32m     69\u001b[0m         \u001b[0;32mreturn\u001b[0m \u001b[0mself\u001b[0m\u001b[0;34m.\u001b[0m\u001b[0mdecoder\u001b[0m\u001b[0;34m(\u001b[0m\u001b[0minput\u001b[0m\u001b[0;34m,\u001b[0m \u001b[0mself\u001b[0m\u001b[0;34m.\u001b[0m\u001b[0merrors\u001b[0m\u001b[0;34m,\u001b[0m \u001b[0mfinal\u001b[0m\u001b[0;34m)\u001b[0m\u001b[0;34m\u001b[0m\u001b[0m\n",
            "\u001b[0;31mUnicodeError\u001b[0m: UTF-16 stream does not start with BOM"
          ]
        }
      ]
    },
    {
      "cell_type": "code",
      "metadata": {
        "id": "rVyBNJFA5kTw",
        "outputId": "8aa78ff7-e5a3-4dc4-e640-aeedc36e64c4"
      },
      "source": [
        "with open('unicode_file.txt', 'r', encoding='utf-16le') as f:\n",
        "    print(f.read())"
      ],
      "execution_count": null,
      "outputs": [
        {
          "name": "stdout",
          "output_type": "stream",
          "text": [
            "韩国烧酒\n"
          ]
        }
      ]
    },
    {
      "cell_type": "markdown",
      "metadata": {
        "id": "w_nBaUuh5kTw"
      },
      "source": [
        "So far we didn't encounter any **tough** cases.\n",
        "\n",
        "We can handle them with `chardet` and `UnicodeDammit`, which is part of BeautifulSoup package."
      ]
    },
    {
      "cell_type": "markdown",
      "metadata": {
        "id": "Q-EOGKtL5kTw"
      },
      "source": [
        "### chardet"
      ]
    },
    {
      "cell_type": "code",
      "metadata": {
        "collapsed": true,
        "id": "a8sxHZkc5kTw"
      },
      "source": [
        "# !pip install chardet"
      ],
      "execution_count": null,
      "outputs": []
    },
    {
      "cell_type": "code",
      "metadata": {
        "id": "bZwCbecn5kTw",
        "outputId": "febed2bc-1735-45ba-a7e4-f70b27e4aa47"
      },
      "source": [
        "import urllib, chardet\n",
        "\n",
        "rawdata = urllib.request.urlopen('http://yahoo.co.jp/').read()\n",
        "chardet.detect(rawdata)"
      ],
      "execution_count": null,
      "outputs": [
        {
          "data": {
            "text/plain": [
              "{'encoding': 'utf-8', 'confidence': 0.99, 'language': ''}"
            ]
          },
          "execution_count": 39,
          "metadata": {},
          "output_type": "execute_result"
        }
      ]
    },
    {
      "cell_type": "markdown",
      "metadata": {
        "id": "IQ5i31BI5kTw"
      },
      "source": [
        "### UnicodeDammit"
      ]
    },
    {
      "cell_type": "code",
      "metadata": {
        "collapsed": true,
        "id": "sccgyOky5kTw"
      },
      "source": [
        "# !pip install bs4"
      ],
      "execution_count": null,
      "outputs": []
    },
    {
      "cell_type": "code",
      "metadata": {
        "collapsed": true,
        "id": "K9orzvsM5kTw"
      },
      "source": [
        "from bs4 import UnicodeDammit"
      ],
      "execution_count": null,
      "outputs": []
    },
    {
      "cell_type": "markdown",
      "metadata": {
        "id": "LNh2Hk5n5kTw"
      },
      "source": [
        "Let's build a really weird string\n"
      ]
    },
    {
      "cell_type": "code",
      "metadata": {
        "id": "5VKeR5H85kTw",
        "outputId": "e1c0d6bf-079f-45dd-d05a-f602f885519c"
      },
      "source": [
        "snowmen = (u'\\N{SNOWMAN}' * 3)\n",
        "print(snowmen)\n",
        "quote = (u'\\N{LEFT DOUBLE QUOTATION MARK}I like snowmen!\\N{RIGHT DOUBLE QUOTATION MARK}')\n",
        "print(quote)\n",
        "doc = snowmen.encode('utf8') + quote.encode('windows_1252')"
      ],
      "execution_count": null,
      "outputs": [
        {
          "name": "stdout",
          "output_type": "stream",
          "text": [
            "☃☃☃\n",
            "“I like snowmen!”\n"
          ]
        }
      ]
    },
    {
      "cell_type": "code",
      "metadata": {
        "id": "RS_Ij5B95kTw",
        "outputId": "165e2813-fa65-4d61-a2fc-08497ddd0a2e"
      },
      "source": [
        "print(doc)\n",
        "# ☃☃☃�I like snowmen!�\n",
        "\n",
        "print(doc.decode('windows-1252'))\n",
        "# â˜ƒâ˜ƒâ˜ƒ“I like snowmen!”\n",
        "\n",
        "print(doc.decode('utf8'))\n",
        "# ☃☃☃�I like snowmen!�"
      ],
      "execution_count": null,
      "outputs": [
        {
          "name": "stdout",
          "output_type": "stream",
          "text": [
            "b'\\xe2\\x98\\x83\\xe2\\x98\\x83\\xe2\\x98\\x83\\x93I like snowmen!\\x94'\n",
            "â˜ƒâ˜ƒâ˜ƒ“I like snowmen!”\n"
          ]
        },
        {
          "ename": "UnicodeDecodeError",
          "evalue": "'utf-8' codec can't decode byte 0x93 in position 9: invalid start byte",
          "output_type": "error",
          "traceback": [
            "\u001b[0;31m---------------------------------------------------------------------------\u001b[0m",
            "\u001b[0;31mUnicodeDecodeError\u001b[0m                        Traceback (most recent call last)",
            "\u001b[0;32m<ipython-input-42-f5fee7916f51>\u001b[0m in \u001b[0;36m<module>\u001b[0;34m\u001b[0m\n\u001b[1;32m      5\u001b[0m \u001b[0;31m# â˜ƒâ˜ƒâ˜ƒ“I like snowmen!”\u001b[0m\u001b[0;34m\u001b[0m\u001b[0;34m\u001b[0m\u001b[0;34m\u001b[0m\u001b[0m\n\u001b[1;32m      6\u001b[0m \u001b[0;34m\u001b[0m\u001b[0m\n\u001b[0;32m----> 7\u001b[0;31m \u001b[0mprint\u001b[0m\u001b[0;34m(\u001b[0m\u001b[0mdoc\u001b[0m\u001b[0;34m.\u001b[0m\u001b[0mdecode\u001b[0m\u001b[0;34m(\u001b[0m\u001b[0;34m'utf8'\u001b[0m\u001b[0;34m)\u001b[0m\u001b[0;34m)\u001b[0m\u001b[0;34m\u001b[0m\u001b[0;34m\u001b[0m\u001b[0m\n\u001b[0m\u001b[1;32m      8\u001b[0m \u001b[0;31m# ☃☃☃�I like snowmen!�\u001b[0m\u001b[0;34m\u001b[0m\u001b[0;34m\u001b[0m\u001b[0;34m\u001b[0m\u001b[0m\n",
            "\u001b[0;31mUnicodeDecodeError\u001b[0m: 'utf-8' codec can't decode byte 0x93 in position 9: invalid start byte"
          ]
        }
      ]
    },
    {
      "cell_type": "markdown",
      "metadata": {
        "id": "VsyBz3Ly5kTw"
      },
      "source": [
        "UnicodeDammit CAN handle it!"
      ]
    },
    {
      "cell_type": "code",
      "metadata": {
        "id": "TPZZRNTQ5kTw",
        "outputId": "1f3e5140-ab14-4f7b-91ad-9747088a8252"
      },
      "source": [
        "new_doc = UnicodeDammit.detwingle(doc)\n",
        "print(new_doc)\n",
        "print(new_doc.decode('utf8'))\n",
        "# ☃☃☃“I like snowmen!”"
      ],
      "execution_count": null,
      "outputs": [
        {
          "name": "stdout",
          "output_type": "stream",
          "text": [
            "b'\\xe2\\x98\\x83\\xe2\\x98\\x83\\xe2\\x98\\x83\\xe2\\x80\\x9cI like snowmen!\\xe2\\x80\\x9d'\n",
            "☃☃☃“I like snowmen!”\n"
          ]
        }
      ]
    },
    {
      "cell_type": "markdown",
      "metadata": {
        "collapsed": true,
        "id": "WXZwl-E95kTx"
      },
      "source": [
        "## Regular expressions 101\n",
        "\n",
        "Regular expressions debuggins is easy to do with https://regex101.com/\n",
        "\n",
        "Metasymbols: ```. ˆ $ * + ? { } [ ] | ( )```\n",
        "\n",
        "Documentation: https://docs.python.org/3/library/re.html"
      ]
    },
    {
      "cell_type": "code",
      "metadata": {
        "id": "uoVASwvk5kTx",
        "outputId": "53542f9e-a476-4c29-c07a-0143103e07da"
      },
      "source": [
        "import re\n",
        "\n",
        "string = '__abc__acc__abc__a6c__'\n",
        "print(re.findall(r'abc', string))\n",
        "print(re.findall(r'a\\dc', string))\n",
        "print(re.findall(r'a\\wc', string))"
      ],
      "execution_count": null,
      "outputs": [
        {
          "name": "stdout",
          "output_type": "stream",
          "text": [
            "['abc', 'abc']\n",
            "['a6c']\n",
            "['abc', 'acc', 'abc', 'a6c']\n"
          ]
        }
      ]
    },
    {
      "cell_type": "code",
      "metadata": {
        "id": "7AQ_EBww5kTx",
        "outputId": "b0f87dce-5688-4060-e2e1-2404ed6b64a4"
      },
      "source": [
        "print(re.sub(r'a\\wc', '***', string))"
      ],
      "execution_count": null,
      "outputs": [
        {
          "name": "stdout",
          "output_type": "stream",
          "text": [
            "__***__***__***__***__\n"
          ]
        }
      ]
    },
    {
      "cell_type": "code",
      "metadata": {
        "id": "vzSHqbDs5kTx",
        "outputId": "e192694e-9134-4c12-8ebd-3dbd11544cc8"
      },
      "source": [
        "text = u'Français złoty Österreich'\n",
        "pattern = r'\\w+'\n",
        "ascii_pattern = re.compile(pattern, re.ASCII)\n",
        "unicode_pattern = re.compile(pattern)\n",
        "\n",
        "print('Text    :', text)\n",
        "print('Pattern :', pattern)\n",
        "print('ASCII   :', list(ascii_pattern.findall(text)))\n",
        "print('Unicode :', list(unicode_pattern.findall(text)))"
      ],
      "execution_count": null,
      "outputs": [
        {
          "name": "stdout",
          "output_type": "stream",
          "text": [
            "Text    : Français złoty Österreich\n",
            "Pattern : \\w+\n",
            "ASCII   : ['Fran', 'ais', 'z', 'oty', 'sterreich']\n",
            "Unicode : ['Français', 'złoty', 'Österreich']\n"
          ]
        }
      ]
    },
    {
      "cell_type": "markdown",
      "metadata": {
        "id": "7HkddpUK5kTx"
      },
      "source": [
        "## So you want to write an open-source library, remember?\n",
        "### Or just pass your 1st Python review\n",
        "\n",
        "How will you do that? Using Version Control Systems!\n",
        "\n",
        "Git especially. And Github. \n",
        "\n",
        "http://rogerdudler.github.io/git-guide/\n",
        "\n",
        "Don't worry, you'll need only `init`, `clone`, `add`, `commit` and `push` commands. Maybe some more.\n",
        "\n",
        "If you're stuck, just ask for help!"
      ]
    },
    {
      "cell_type": "code",
      "metadata": {
        "collapsed": true,
        "id": "cmkMuj1d5kTx"
      },
      "source": [
        ""
      ],
      "execution_count": null,
      "outputs": []
    }
  ]
}