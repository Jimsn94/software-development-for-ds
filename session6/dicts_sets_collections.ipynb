{
  "nbformat": 4,
  "nbformat_minor": 0,
  "metadata": {
    "celltoolbar": "Slideshow",
    "kernelspec": {
      "display_name": "Python 3",
      "language": "python",
      "name": "python3"
    },
    "language_info": {
      "codemirror_mode": {
        "name": "ipython",
        "version": 3
      },
      "file_extension": ".py",
      "mimetype": "text/x-python",
      "name": "python",
      "nbconvert_exporter": "python",
      "pygments_lexer": "ipython3",
      "version": "3.8.2"
    },
    "colab": {
      "name": "dicts_sets_collections",
      "provenance": []
    }
  },
  "cells": [
    {
      "cell_type": "code",
      "metadata": {
        "id": "L8mE-jZjodnT"
      },
      "source": [
        "from IPython.core.interactiveshell import InteractiveShell\n",
        "InteractiveShell.ast_node_interactivity = \"all\""
      ],
      "execution_count": null,
      "outputs": []
    },
    {
      "cell_type": "markdown",
      "metadata": {
        "id": "o3FRY2d9odnW"
      },
      "source": [
        "## Dictionaries, sets, collections\n",
        "\n"
      ]
    },
    {
      "cell_type": "markdown",
      "metadata": {
        "id": "UycSYRpEodnX"
      },
      "source": [
        "### Creating and deleting\n",
        "\n",
        " \n",
        "- When creating two mutable objects separately, they will be guaranteed to be different. For immutable objects, this is not always true.\n",
        "- You do not need to worry about deleting objects, the interpreter will do everything for you"
      ]
    },
    {
      "cell_type": "markdown",
      "metadata": {
        "id": "VNzxaPpIodnX"
      },
      "source": [
        "## Dictionaries\n",
        "\n",
        "Dictionary is a universal tool for expressing relationships between objects, counting, grouping.\n",
        "\n",
        "They are also called **associative arrays or hash tables**."
      ]
    },
    {
      "cell_type": "code",
      "metadata": {
        "id": "a29qj1aTodnY"
      },
      "source": [
        "a = {'Key1' : 'Value1', 'Key2' : 'Value2'}\n",
        "a"
      ],
      "execution_count": null,
      "outputs": []
    },
    {
      "cell_type": "code",
      "metadata": {
        "id": "vFM74Po2odnY"
      },
      "source": [
        "b = dict([(1, 1), (2, 4), (3, 9)])\n",
        "b"
      ],
      "execution_count": null,
      "outputs": []
    },
    {
      "cell_type": "markdown",
      "metadata": {
        "id": "gKTG1mcCodnZ"
      },
      "source": [
        "- Any hashable object can be a key. (mutable == not hashable)\n",
        "\n",
        "The defnition of hashable from Python documentation:\n",
        "\n",
        "An object is hashable if it has a hash value which never changes during its lifetime (it needs a __hash__() method), and can be compared to other objects (it needs an __eq__() method). Hashable objects which compare equal must have the same hash value.\n",
        "\n",
        "Hashability makes an object usable as a dictionary key and a set member, because these data structures use the hash value internally.\n",
        "\n",
        "Most of Python’s immutable built-in objects are hashable; mutable containers (such as lists or dictionaries) are not; immutable containers (such as tuples and frozensets) are only hashable if their elements are hashable. Objects which are instances of user-defined classes are hashable by default. They all compare unequal (except with themselves), and their hash value is derived from their id().\n",
        "\n",
        "- In short, the object must have the `__hash __ ()` method defined correctly."
      ]
    },
    {
      "cell_type": "markdown",
      "metadata": {
        "id": "XMp38rl2odna"
      },
      "source": [
        "hash(integer1) == integer1"
      ]
    },
    {
      "cell_type": "code",
      "metadata": {
        "id": "pB06CpEIodna"
      },
      "source": [
        "hash(343)\n",
        "hash(True)\n",
        "hash('hello')"
      ],
      "execution_count": null,
      "outputs": []
    },
    {
      "cell_type": "code",
      "metadata": {
        "id": "r0S-M1ibodnb"
      },
      "source": [
        "hash(6.5) # it's tricky to hash floats because of accuracy of float number representations\n",
        "          # message: you better be careful with hashing floats or even avoid it at all\n",
        "hash(round(6.50443,2)) # or at least you better use round() for hashing float"
      ],
      "execution_count": null,
      "outputs": []
    },
    {
      "cell_type": "code",
      "metadata": {
        "id": "dNkiMtX9odnb"
      },
      "source": [
        "print(hash('aaa'))\n",
        "print(hash('aab'))"
      ],
      "execution_count": null,
      "outputs": []
    },
    {
      "cell_type": "markdown",
      "metadata": {
        "id": "XHMDnAMIodnc"
      },
      "source": [
        "#### Note: after restarting the interpreter, complex objects (for example, strings) will have a different hash value"
      ]
    },
    {
      "cell_type": "markdown",
      "metadata": {
        "id": "UPuEoIlwodnc"
      },
      "source": [
        "lists in Python are not hashable"
      ]
    },
    {
      "cell_type": "code",
      "metadata": {
        "id": "lBDFH0unodnc"
      },
      "source": [
        "[1].__hash__ is None  # __hash__ method is not defined for list"
      ],
      "execution_count": null,
      "outputs": []
    },
    {
      "cell_type": "markdown",
      "metadata": {
        "id": "dFaM_mb_odnc"
      },
      "source": [
        "Can I use dict as a key for another dict?"
      ]
    },
    {
      "cell_type": "code",
      "metadata": {
        "id": "onG-B8M0odnc"
      },
      "source": [
        "d1 = {1: 'b'}\n",
        "d2 = {d1: 'abc'}"
      ],
      "execution_count": null,
      "outputs": []
    },
    {
      "cell_type": "code",
      "metadata": {
        "id": "EVSht7rFodnd"
      },
      "source": [
        "{1: 'b'}.__hash__ is None  # dict is also not hashable"
      ],
      "execution_count": null,
      "outputs": []
    },
    {
      "cell_type": "markdown",
      "metadata": {
        "id": "5Ph0z-sdodnd"
      },
      "source": [
        "You can iterate through the dictionary, both by key and by value."
      ]
    },
    {
      "cell_type": "code",
      "metadata": {
        "id": "vspkjSXCodnd"
      },
      "source": [
        "# iterating\n",
        "dictionary = {'a': 1, 'b': 2, 'c': 3}\n",
        "   \n",
        "for k in dictionary.keys():\n",
        "    print(k)\n",
        "    \n",
        "print()\n",
        "    \n",
        "for k in dictionary:  # equivalent to iterating by keys but Python Zen says explicit is better than implicit\n",
        "    print(k)          # that's why it's better to add \".keys()\" in order to improve your code readability\n",
        "                      # too readable code hasn’t hurt anyone yet\n",
        "        \n",
        "# always keep order in mind!"
      ],
      "execution_count": null,
      "outputs": []
    },
    {
      "cell_type": "code",
      "metadata": {
        "id": "pbtPh4Y0odnd"
      },
      "source": [
        "for v in dictionary.values(): # iterating by values\n",
        "    print(v)"
      ],
      "execution_count": null,
      "outputs": []
    },
    {
      "cell_type": "code",
      "metadata": {
        "id": "N6KK9axDodne"
      },
      "source": [
        "for pair in dictionary.items(): # iterating by key-value pairs\n",
        "    print(pair)\n",
        "    \n",
        "    \n",
        "for key, value in dictionary.items(): # iterating by key-value pairs\n",
        "    print(key, value)"
      ],
      "execution_count": null,
      "outputs": []
    },
    {
      "cell_type": "code",
      "metadata": {
        "id": "fdalVW7sodne"
      },
      "source": [
        "# constructors:\n",
        "a = dict(a=1, b=2, c=3)\n",
        "a\n",
        "keys = [\"Petya\", \"Vasya\", \"Masha\"]\n",
        "values = [20, 21, 22]\n",
        "\n",
        "dictionary = dict(zip(keys, values)) # probably the most convenient way to create a dict from two lists \n",
        "                                     # we will talk about zip() function later\n",
        "dictionary"
      ],
      "execution_count": null,
      "outputs": []
    },
    {
      "cell_type": "code",
      "metadata": {
        "id": "zyL8g5icodne"
      },
      "source": [
        "print(list(a.keys()))\n",
        "print(list(a.values()))\n",
        "print(list(a.items()))"
      ],
      "execution_count": null,
      "outputs": []
    },
    {
      "cell_type": "code",
      "metadata": {
        "id": "PqgnS1uOodne"
      },
      "source": [
        "del dictionary['Vasya']\n",
        "dictionary"
      ],
      "execution_count": null,
      "outputs": []
    },
    {
      "cell_type": "code",
      "metadata": {
        "id": "4w5z6h0Nodne"
      },
      "source": [
        "a.update(dictionary)  # union of two dicts\n",
        "a"
      ],
      "execution_count": null,
      "outputs": []
    },
    {
      "cell_type": "code",
      "metadata": {
        "id": "SuRlgrtiodne"
      },
      "source": [
        "a[('Composite', 'Key')] = [1, 2, 3]   # only immutable objects could be keys in dicts\n",
        "a"
      ],
      "execution_count": null,
      "outputs": []
    },
    {
      "cell_type": "markdown",
      "metadata": {
        "id": "jCdXI73Wodne"
      },
      "source": [
        "## 5 minutes task\n",
        "### Use the new knowledge on dictionary iteration to reverse a dictionary, i.e. to create a dictionary with inverse pairs (value: key). Believe that in the original dictionary the values are also hashable."
      ]
    },
    {
      "cell_type": "markdown",
      "metadata": {
        "id": "TvT9Iovyodne"
      },
      "source": [
        "### Remember list comprehensions? There are also dict comprehensions!"
      ]
    },
    {
      "cell_type": "code",
      "metadata": {
        "id": "EErcS51_odne"
      },
      "source": [
        "dct = {i : i ** 3 for i in range(5)}\n",
        "dct"
      ],
      "execution_count": null,
      "outputs": []
    },
    {
      "cell_type": "code",
      "metadata": {
        "id": "IODWwEhgodne",
        "outputId": "854b9d4b-32d6-46c7-a4be-7a77273e4ed3"
      },
      "source": [
        "# Handling the unknown carefully\n",
        "\n",
        "dct = {1:2,3:4}\n",
        "\n",
        "key = 5\n",
        "\n",
        "res1 = dct.get(key,'not found')\n",
        "res2 = dct.setdefault(key, 'default')\n",
        "\n",
        "print(res1, res2)\n",
        "\n",
        "dct = {1:2,3:4,5:6}\n",
        "\n",
        "res1 = dct.get(key,'not found')\n",
        "res2 = dct.setdefault(key, 'default')\n",
        "\n",
        "print(res1, res2)"
      ],
      "execution_count": null,
      "outputs": [
        {
          "name": "stdout",
          "output_type": "stream",
          "text": [
            "not found default\n",
            "6 6\n"
          ]
        }
      ]
    },
    {
      "cell_type": "markdown",
      "metadata": {
        "id": "W3xvkh7Jodnf"
      },
      "source": [
        "### Sets\n",
        "Sets are also based on hash-tables"
      ]
    },
    {
      "cell_type": "code",
      "metadata": {
        "id": "CP1VRTykodnf",
        "outputId": "04970ab5-2fc4-4b55-d58c-595caad67611"
      },
      "source": [
        "a = {1, 2, 3}\n",
        "b = set([2, 3, 4])\n",
        "\n",
        "a.add(5)\n",
        "b.update({5, 6}) # update b with an argument set (union of b and an argument, the result is stored in b)\n",
        "a, b"
      ],
      "execution_count": null,
      "outputs": [
        {
          "data": {
            "text/plain": [
              "({1, 2, 3, 5}, {2, 3, 4, 5, 6})"
            ]
          },
          "execution_count": 1,
          "metadata": {},
          "output_type": "execute_result"
        }
      ]
    },
    {
      "cell_type": "code",
      "metadata": {
        "id": "6vr3QvZeodnf"
      },
      "source": [
        "x in s\n",
        "x not in s\n",
        "s.issubset(t)   #equivalent to s <= t\n",
        "s.issuperset(t) #equivalent to s >= t"
      ],
      "execution_count": null,
      "outputs": []
    },
    {
      "cell_type": "code",
      "metadata": {
        "id": "Cd2YGQlAodnf"
      },
      "source": [
        "print(a - b)\n",
        "print(b - a)\n",
        "print(a | b) # union\n",
        "print(a & b) # intersection\n",
        "print(a ^ b) # ~ XOR"
      ],
      "execution_count": null,
      "outputs": []
    },
    {
      "cell_type": "code",
      "metadata": {
        "id": "lw3i6_Ovodnf"
      },
      "source": [
        "a.difference(b)             # a - b\n",
        "a.union(b)                  # a | b\n",
        "a.intersection(b)           # a & b\n",
        "a.symmetric_difference(b)   # a ^ b\n",
        "\n",
        "a.difference_update(b)            # a -= b\n",
        "a.update(b)                       # a |= b\n",
        "a.intersection_update(b)          # a &= b\n",
        "a.symmetric_difference_update(b)  # a ^= b"
      ],
      "execution_count": null,
      "outputs": []
    },
    {
      "cell_type": "code",
      "metadata": {
        "id": "4lCAn1gUodnf",
        "outputId": "831c8b52-ca9b-49b1-ceac-3e80ce66b254"
      },
      "source": [
        "a = {1,2,3}\n",
        "a.remove(3)\n",
        "a.remove(3)"
      ],
      "execution_count": null,
      "outputs": [
        {
          "ename": "KeyError",
          "evalue": "3",
          "output_type": "error",
          "traceback": [
            "\u001b[0;31m---------------------------------------------------------------------------\u001b[0m",
            "\u001b[0;31mKeyError\u001b[0m                                  Traceback (most recent call last)",
            "\u001b[0;32m<ipython-input-2-9767a89ad8f0>\u001b[0m in \u001b[0;36m<module>\u001b[0;34m\u001b[0m\n\u001b[1;32m      1\u001b[0m \u001b[0ma\u001b[0m \u001b[0;34m=\u001b[0m \u001b[0;34m{\u001b[0m\u001b[0;36m1\u001b[0m\u001b[0;34m,\u001b[0m\u001b[0;36m2\u001b[0m\u001b[0;34m,\u001b[0m\u001b[0;36m3\u001b[0m\u001b[0;34m}\u001b[0m\u001b[0;34m\u001b[0m\u001b[0;34m\u001b[0m\u001b[0m\n\u001b[1;32m      2\u001b[0m \u001b[0ma\u001b[0m\u001b[0;34m.\u001b[0m\u001b[0mremove\u001b[0m\u001b[0;34m(\u001b[0m\u001b[0;36m3\u001b[0m\u001b[0;34m)\u001b[0m\u001b[0;34m\u001b[0m\u001b[0;34m\u001b[0m\u001b[0m\n\u001b[0;32m----> 3\u001b[0;31m \u001b[0ma\u001b[0m\u001b[0;34m.\u001b[0m\u001b[0mremove\u001b[0m\u001b[0;34m(\u001b[0m\u001b[0;36m3\u001b[0m\u001b[0;34m)\u001b[0m\u001b[0;34m\u001b[0m\u001b[0;34m\u001b[0m\u001b[0m\n\u001b[0m",
            "\u001b[0;31mKeyError\u001b[0m: 3"
          ]
        }
      ]
    },
    {
      "cell_type": "code",
      "metadata": {
        "id": "YL4mj3Iqodng",
        "outputId": "7c2cee1d-0d03-42ba-eb4b-74d3f98198cd"
      },
      "source": [
        "a = {1,2,3}\n",
        "a.discard(3)\n",
        "a.discard(3)\n",
        "a"
      ],
      "execution_count": null,
      "outputs": [
        {
          "data": {
            "text/plain": [
              "{1, 2}"
            ]
          },
          "execution_count": 3,
          "metadata": {},
          "output_type": "execute_result"
        }
      ]
    },
    {
      "cell_type": "markdown",
      "metadata": {
        "id": "o7NLJMoEodng"
      },
      "source": [
        "There are also set comprehensions"
      ]
    },
    {
      "cell_type": "code",
      "metadata": {
        "id": "ZqOQKnLBodng"
      },
      "source": [
        "st = {i for i in range(10) if not i % 3}\n",
        "st"
      ],
      "execution_count": null,
      "outputs": []
    },
    {
      "cell_type": "code",
      "metadata": {
        "id": "7-zacSgLodng"
      },
      "source": [
        "d = {st: 1} # sets are also not hashable"
      ],
      "execution_count": null,
      "outputs": []
    },
    {
      "cell_type": "code",
      "metadata": {
        "id": "Xr7mL2NZodng"
      },
      "source": [
        "d = {frozenset(st): 6}  # but there is a type frozenset that you actually can hash (because it's immutable!)\n",
        "d"
      ],
      "execution_count": null,
      "outputs": []
    },
    {
      "cell_type": "markdown",
      "metadata": {
        "id": "bVGZQOPKodng"
      },
      "source": [
        "# When to use dict and set?\n",
        "\n",
        "### Establishing a one to one correspondence among two sets of objects (e.g. it is convenient to implement a dictionary for translation from one language to another)\n",
        "\n",
        "### Counting unique elements\n",
        "\n",
        "### Fast checking an element for occurence (a key search in dict and set is performed in O (1) (on average): a hash is calculated from the object and it is checked whether there is such a hash in the container)\n"
      ]
    },
    {
      "cell_type": "code",
      "metadata": {
        "id": "PhFHyB3Podng"
      },
      "source": [
        "2 in a     # O(1)"
      ],
      "execution_count": null,
      "outputs": []
    },
    {
      "cell_type": "markdown",
      "metadata": {
        "id": "ol0jRWGModng"
      },
      "source": [
        "### \"Interview tasks\"\n",
        "\n",
        "Given two sorted lists with numbers (not necessarily the same length). Print all the numbers that are in the first list, but not in the second"
      ]
    },
    {
      "cell_type": "code",
      "metadata": {
        "id": "0Ed9Og0-odng"
      },
      "source": [
        "lst1 = [1, 2, 8]\n",
        "lst2 = [2, 6]"
      ],
      "execution_count": null,
      "outputs": []
    },
    {
      "cell_type": "markdown",
      "metadata": {
        "id": "DUNaj6zWodng"
      },
      "source": [
        "#### method 1: using set"
      ]
    },
    {
      "cell_type": "code",
      "metadata": {
        "id": "1CuqaqvFodng"
      },
      "source": [
        "# способ 1\n",
        "set(lst1) - set(lst2) "
      ],
      "execution_count": null,
      "outputs": []
    },
    {
      "cell_type": "markdown",
      "metadata": {
        "id": "TmP5dcSWodng"
      },
      "source": [
        "formally for O (n) in time (O (n) takes to create a set, but with a considerable constant), but requires additional memory, and sorted property is not used"
      ]
    },
    {
      "cell_type": "markdown",
      "metadata": {
        "id": "0cUXcWEQodng"
      },
      "source": [
        "#### method 2: let's think how to do it in O(n) time but without additional memory"
      ]
    },
    {
      "cell_type": "code",
      "metadata": {
        "id": "RO0ZN5KZodng"
      },
      "source": [
        "lst1 = [1, 2, 8]\n",
        "lst2 = [2, 6]"
      ],
      "execution_count": null,
      "outputs": []
    },
    {
      "cell_type": "code",
      "metadata": {
        "id": "8Q8yMS0Lodnh"
      },
      "source": [
        "i, j = 0, 0\n",
        "\n",
        "while i < len(lst1):\n",
        "\n",
        "    if j >= len(lst2) or lst1[i] < lst2[j]: \n",
        "        \n",
        "        print(lst1[i])\n",
        "        i += 1\n",
        "   \n",
        "    elif lst1[i] == lst2[j]:\n",
        "        \n",
        "        i += 1\n",
        "        j += 1\n",
        "    \n",
        "    else:\n",
        "        \n",
        "        j += 1"
      ],
      "execution_count": null,
      "outputs": []
    },
    {
      "cell_type": "markdown",
      "metadata": {
        "id": "9vZPJy4bodnh"
      },
      "source": [
        "### collections\n",
        "\n",
        "The objects in Collections are dictionaries modified for different needs and some other convenient data structures.\n",
        "\n",
        "A good overview of the collections module can be read [here](https://pythonworld.ru/moduli/modul-collections.html) "
      ]
    },
    {
      "cell_type": "code",
      "metadata": {
        "id": "F3LVIE2yodnh"
      },
      "source": [
        "from collections import defaultdict\n",
        "dct = defaultdict(float)\n",
        "\n",
        "print(dct[2]) # if a key is not in dict, it creates a pair {a key: default value} instead of raising an error\n",
        "print(dct)"
      ],
      "execution_count": null,
      "outputs": []
    },
    {
      "cell_type": "code",
      "metadata": {
        "id": "N5HCJ26aodnh"
      },
      "source": [
        "from collections import deque\n",
        "q = deque()\n",
        "\n",
        "for i in range(10):\n",
        "    q.append(i)\n",
        "\n",
        "while len(q) > 5: \n",
        "    print(q.pop(), q) # O(1)\n",
        "\n",
        "print()\n",
        "    \n",
        "while len(q):  # while deque is not empty\n",
        "    print(q.popleft(), q) # O(1)"
      ],
      "execution_count": null,
      "outputs": []
    },
    {
      "cell_type": "code",
      "metadata": {
        "id": "NZjYpY9iodnh"
      },
      "source": [
        "from collections import OrderedDict # remembers the order in which the keys were created\n",
        "\n",
        "# Since version 3.7, order preservation is guaranteed for dict as well, but:\n",
        "# Comparisons for regular dicts still do not respect order, unlike OrderedDict\n",
        "# OrderedDict also has a move_to_end method (move an existing element to the end), which is absent in the dict\n",
        "\n",
        "data = [(1, 'a'), (3, 'c'), (2, 'b')]\n",
        "\n",
        "print(dict(data))\n",
        "print(OrderedDict(data))"
      ],
      "execution_count": null,
      "outputs": []
    },
    {
      "cell_type": "markdown",
      "metadata": {
        "id": "Z7XbPW70odnh"
      },
      "source": [
        "## Exercise - Input == a list; Output == the largest element of the list that occurs more often than others"
      ]
    },
    {
      "cell_type": "code",
      "metadata": {
        "id": "dbjR1otqodnh"
      },
      "source": [
        "# see Counter from collections, it can do this:\n",
        "# Counter(lst).most_common(2) # что обозначает двойка предлагается выяснить самостоятельно"
      ],
      "execution_count": null,
      "outputs": []
    }
  ]
}