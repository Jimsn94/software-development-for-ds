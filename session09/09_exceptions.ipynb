{
  "nbformat": 4,
  "nbformat_minor": 0,
  "metadata": {
    "kernelspec": {
      "display_name": "Python 3",
      "language": "python",
      "name": "python3"
    },
    "language_info": {
      "codemirror_mode": {
        "name": "ipython",
        "version": 3
      },
      "file_extension": ".py",
      "mimetype": "text/x-python",
      "name": "python",
      "nbconvert_exporter": "python",
      "pygments_lexer": "ipython3",
      "version": "3.6.1"
    },
    "colab": {
      "name": "09_exceptions",
      "provenance": []
    }
  },
  "cells": [
    {
      "cell_type": "markdown",
      "metadata": {
        "deletable": true,
        "editable": true,
        "id": "4bb5y-_Jflf7"
      },
      "source": [
        "# Exceptions\n",
        "\n",
        "Any illegal operations such as division by 0 or opening a non-existent file will throw exceptions."
      ]
    },
    {
      "cell_type": "code",
      "metadata": {
        "deletable": true,
        "editable": true,
        "id": "T8guz-7Nflf9",
        "colab": {
          "base_uri": "https://localhost:8080/",
          "height": 201
        },
        "outputId": "680400fc-7c3c-4642-bb17-fbf83c3b6a48"
      },
      "source": [
        "1 / 0"
      ],
      "execution_count": 1,
      "outputs": [
        {
          "output_type": "error",
          "ename": "ZeroDivisionError",
          "evalue": "ignored",
          "traceback": [
            "\u001b[0;31m---------------------------------------------------------------------------\u001b[0m",
            "\u001b[0;31mZeroDivisionError\u001b[0m                         Traceback (most recent call last)",
            "\u001b[0;32m<ipython-input-1-bc757c3fda29>\u001b[0m in \u001b[0;36m<module>\u001b[0;34m()\u001b[0m\n\u001b[0;32m----> 1\u001b[0;31m \u001b[0;36m1\u001b[0m \u001b[0;34m/\u001b[0m \u001b[0;36m0\u001b[0m\u001b[0;34m\u001b[0m\u001b[0;34m\u001b[0m\u001b[0m\n\u001b[0m",
            "\u001b[0;31mZeroDivisionError\u001b[0m: division by zero"
          ]
        }
      ]
    },
    {
      "cell_type": "markdown",
      "metadata": {
        "deletable": true,
        "editable": true,
        "id": "WR6Ak6IRflf-"
      },
      "source": [
        "Exceptions can be caught, and if they occur, some corrective code can be executed."
      ]
    },
    {
      "cell_type": "code",
      "metadata": {
        "collapsed": true,
        "deletable": true,
        "editable": true,
        "id": "I0JtRWl7flf-"
      },
      "source": [
        "try:\n",
        "    x = 0\n",
        "    x = 1 / x\n",
        "except ZeroDivisionError:\n",
        "    x = 5"
      ],
      "execution_count": 2,
      "outputs": []
    },
    {
      "cell_type": "code",
      "metadata": {
        "deletable": true,
        "editable": true,
        "id": "mSnH9FVfflf-",
        "colab": {
          "base_uri": "https://localhost:8080/"
        },
        "outputId": "facd5f17-aca5-4aa3-995c-7c3a110aca3a"
      },
      "source": [
        "x"
      ],
      "execution_count": 3,
      "outputs": [
        {
          "output_type": "execute_result",
          "data": {
            "text/plain": [
              "5"
            ]
          },
          "metadata": {},
          "execution_count": 3
        }
      ]
    },
    {
      "cell_type": "code",
      "metadata": {
        "deletable": true,
        "editable": true,
        "id": "a66WtP1uflf_",
        "colab": {
          "base_uri": "https://localhost:8080/"
        },
        "outputId": "688952d2-3779-40dd-fc4f-95992ea76994"
      },
      "source": [
        "try:\n",
        "    s = 'xyzzy'\n",
        "    f = open(s)\n",
        "except IOError:\n",
        "    print('cannot open ' + s)"
      ],
      "execution_count": 4,
      "outputs": [
        {
          "output_type": "stream",
          "name": "stdout",
          "text": [
            "cannot open xyzzy\n"
          ]
        }
      ]
    },
    {
      "cell_type": "markdown",
      "metadata": {
        "deletable": true,
        "editable": true,
        "id": "xlNUfXLIflf_"
      },
      "source": [
        "Exceptions are objects. The `Exception` class is the root of the exception class tree. This object can be caught and examined."
      ]
    },
    {
      "cell_type": "code",
      "metadata": {
        "deletable": true,
        "editable": true,
        "id": "VVD2OQcKflf_",
        "colab": {
          "base_uri": "https://localhost:8080/"
        },
        "outputId": "de3c7592-1311-40a8-b37a-59cda18df2ca"
      },
      "source": [
        "try:\n",
        "    x = 1 / 0\n",
        "except Exception as err:\n",
        "    print(type(err))\n",
        "    print(err)\n",
        "    print(repr(err))\n",
        "    print(err.args)"
      ],
      "execution_count": 5,
      "outputs": [
        {
          "output_type": "stream",
          "name": "stdout",
          "text": [
            "<class 'ZeroDivisionError'>\n",
            "division by zero\n",
            "ZeroDivisionError('division by zero')\n",
            "('division by zero',)\n"
          ]
        }
      ]
    },
    {
      "cell_type": "markdown",
      "metadata": {
        "deletable": true,
        "editable": true,
        "id": "dZ_GGMW0flf_"
      },
      "source": [
        "If an unacceptable situation occurs in your code, you need to raise an exception with the `raise` kw."
      ]
    },
    {
      "cell_type": "code",
      "metadata": {
        "deletable": true,
        "editable": true,
        "id": "Bp4Y2MlMflgA",
        "colab": {
          "base_uri": "https://localhost:8080/",
          "height": 201
        },
        "outputId": "143877ca-26cf-470e-e353-cfabb7a647a6"
      },
      "source": [
        "raise NameError('Hi there')"
      ],
      "execution_count": 7,
      "outputs": [
        {
          "output_type": "error",
          "ename": "NameError",
          "evalue": "ignored",
          "traceback": [
            "\u001b[0;31m---------------------------------------------------------------------------\u001b[0m",
            "\u001b[0;31mNameError\u001b[0m                                 Traceback (most recent call last)",
            "\u001b[0;32m<ipython-input-7-8d5113bf2eff>\u001b[0m in \u001b[0;36m<module>\u001b[0;34m()\u001b[0m\n\u001b[0;32m----> 1\u001b[0;31m \u001b[0;32mraise\u001b[0m \u001b[0mNameError\u001b[0m\u001b[0;34m(\u001b[0m\u001b[0;34m'Hi there'\u001b[0m\u001b[0;34m)\u001b[0m\u001b[0;34m\u001b[0m\u001b[0;34m\u001b[0m\u001b[0m\n\u001b[0m",
            "\u001b[0;31mNameError\u001b[0m: Hi there"
          ]
        }
      ]
    },
    {
      "cell_type": "markdown",
      "metadata": {
        "deletable": true,
        "editable": true,
        "id": "kJaOqFmXflgA"
      },
      "source": [
        "Here's a more helpful example."
      ]
    },
    {
      "cell_type": "code",
      "metadata": {
        "collapsed": true,
        "deletable": true,
        "editable": true,
        "id": "8I3rpN0rflgA"
      },
      "source": [
        "def f(x):\n",
        "    if x == 0:\n",
        "        raise ValueError('x should not be 0')\n",
        "    return x"
      ],
      "execution_count": 8,
      "outputs": []
    },
    {
      "cell_type": "code",
      "metadata": {
        "deletable": true,
        "editable": true,
        "id": "QRDmxCulflgA",
        "colab": {
          "base_uri": "https://localhost:8080/"
        },
        "outputId": "d012bf31-1a05-4633-fe39-0e2170f60a39"
      },
      "source": [
        "try:\n",
        "    x = f(1)\n",
        "    x = f(0)\n",
        "except ValueError as err:\n",
        "    print(repr(err))"
      ],
      "execution_count": 9,
      "outputs": [
        {
          "output_type": "stream",
          "name": "stdout",
          "text": [
            "ValueError('x should not be 0')\n"
          ]
        }
      ]
    },
    {
      "cell_type": "markdown",
      "metadata": {
        "deletable": true,
        "editable": true,
        "id": "1PCLc3wmflgB"
      },
      "source": [
        "Naturally, you can define your own exception classes by inheriting from `Exception` or from some of its descendants that are suitable in meaning. This is exactly what you need to do so that your exceptions are not confused with system exceptions."
      ]
    },
    {
      "cell_type": "code",
      "metadata": {
        "collapsed": true,
        "deletable": true,
        "editable": true,
        "id": "Mw7yyPOTflgB"
      },
      "source": [
        "class MyError(Exception):\n",
        "    \n",
        "    def __init__(self,value):\n",
        "        self.value=value\n",
        "        \n",
        "    def __str__(self):\n",
        "        return str(self.value)"
      ],
      "execution_count": 11,
      "outputs": []
    },
    {
      "cell_type": "code",
      "metadata": {
        "collapsed": true,
        "deletable": true,
        "editable": true,
        "id": "qlSnH1s_flgB"
      },
      "source": [
        "def f(x):\n",
        "    if x < 0:\n",
        "        raise MyError(x)\n",
        "    else:\n",
        "        return x"
      ],
      "execution_count": 12,
      "outputs": []
    },
    {
      "cell_type": "code",
      "metadata": {
        "deletable": true,
        "editable": true,
        "id": "VhB7lx_BflgB",
        "colab": {
          "base_uri": "https://localhost:8080/"
        },
        "outputId": "5b82e870-8077-4e8d-9121-5f44b1ecd18b"
      },
      "source": [
        "try:\n",
        "    x = f(2)\n",
        "    x = f(-2)\n",
        "except MyError as err:\n",
        "    print(err)"
      ],
      "execution_count": 13,
      "outputs": [
        {
          "output_type": "stream",
          "name": "stdout",
          "text": [
            "-2\n"
          ]
        }
      ]
    },
    {
      "cell_type": "code",
      "metadata": {
        "deletable": true,
        "editable": true,
        "id": "cujqHjjFflgB",
        "colab": {
          "base_uri": "https://localhost:8080/"
        },
        "outputId": "ed9c356b-eaa1-4f78-e99b-02391de0d390"
      },
      "source": [
        "x"
      ],
      "execution_count": 14,
      "outputs": [
        {
          "output_type": "execute_result",
          "data": {
            "text/plain": [
              "2"
            ]
          },
          "metadata": {},
          "execution_count": 14
        }
      ]
    }
  ]
}