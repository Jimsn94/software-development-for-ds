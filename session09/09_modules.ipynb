{
  "nbformat": 4,
  "nbformat_minor": 0,
  "metadata": {
    "kernelspec": {
      "display_name": "Python 3",
      "language": "python3.6",
      "name": "python3"
    },
    "language_info": {
      "codemirror_mode": {
        "name": "ipython",
        "version": 3
      },
      "file_extension": ".py",
      "mimetype": "text/x-python",
      "name": "python",
      "nbconvert_exporter": "python",
      "pygments_lexer": "ipython3",
      "version": "3.6.1"
    },
    "colab": {
      "name": "09_modules",
      "provenance": [],
      "collapsed_sections": [
        "7J5r-UJCgvJO"
      ]
    }
  },
  "cells": [
    {
      "cell_type": "markdown",
      "metadata": {
        "id": "pqzO1tVEfgcw"
      },
      "source": [
        "# Modules\n",
        "\n",
        "A module is simply a `.py` file containing a sequence of python statements. It can be used in two ways: either run it as a program, or import it into another module to make available the functions and variables defined there. When imported, all the statements of a module are executed from start to finish, including function and class definitions and variable assignments. However, on re-import, the module is not executed. If you have changed it and want to import the changed version, you need to make special efforts."
      ]
    },
    {
      "cell_type": "code",
      "metadata": {
        "id": "vzs88oi3fgcx"
      },
      "source": [
        "import math\n",
        "math, type(math)"
      ],
      "execution_count": null,
      "outputs": []
    },
    {
      "cell_type": "markdown",
      "metadata": {
        "id": "DnPof33vfgcz"
      },
      "source": [
        "The module has its own namespace. The `import math` statement introduces * an object of type module *` math` into the current namespace. The names defined in the module do not appear in the current namespace - they must be used as `math.what_that`. The dir function returns a list of names in a module (as in a class or object)."
      ]
    },
    {
      "cell_type": "code",
      "metadata": {
        "colab": {
          "base_uri": "https://localhost:8080/",
          "height": 201
        },
        "id": "kf2cg9hlfgcz",
        "outputId": "3e460cb8-03e4-4857-c5a4-63f06334755a"
      },
      "source": [
        "print(dir(math))"
      ],
      "execution_count": 1,
      "outputs": [
        {
          "output_type": "error",
          "ename": "NameError",
          "evalue": "ignored",
          "traceback": [
            "\u001b[0;31m---------------------------------------------------------------------------\u001b[0m",
            "\u001b[0;31mNameError\u001b[0m                                 Traceback (most recent call last)",
            "\u001b[0;32m<ipython-input-1-d121256e9997>\u001b[0m in \u001b[0;36m<module>\u001b[0;34m()\u001b[0m\n\u001b[0;32m----> 1\u001b[0;31m \u001b[0mprint\u001b[0m\u001b[0;34m(\u001b[0m\u001b[0mdir\u001b[0m\u001b[0;34m(\u001b[0m\u001b[0mmath\u001b[0m\u001b[0;34m)\u001b[0m\u001b[0;34m)\u001b[0m\u001b[0;34m\u001b[0m\u001b[0;34m\u001b[0m\u001b[0m\n\u001b[0m",
            "\u001b[0;31mNameError\u001b[0m: name 'math' is not defined"
          ]
        }
      ]
    },
    {
      "cell_type": "code",
      "metadata": {
        "colab": {
          "base_uri": "https://localhost:8080/",
          "height": 72
        },
        "id": "Y0outPX4fgc0",
        "outputId": "85d01079-e554-4671-d0f7-a65de2510e6b"
      },
      "source": [
        "math.__doc__"
      ],
      "execution_count": null,
      "outputs": [
        {
          "output_type": "execute_result",
          "data": {
            "application/vnd.google.colaboratory.intrinsic+json": {
              "type": "string"
            },
            "text/plain": [
              "'This module provides access to the mathematical functions\\ndefined by the C standard.'"
            ]
          },
          "metadata": {
            "tags": []
          },
          "execution_count": 55
        }
      ]
    },
    {
      "cell_type": "code",
      "metadata": {
        "colab": {
          "base_uri": "https://localhost:8080/"
        },
        "id": "oiteU4B4fgc0",
        "outputId": "e9f326ce-469d-4ef3-f066-3a3822466ad9"
      },
      "source": [
        "math.pi, math.exp"
      ],
      "execution_count": null,
      "outputs": [
        {
          "output_type": "execute_result",
          "data": {
            "text/plain": [
              "(3.141592653589793, <function math.exp>)"
            ]
          },
          "metadata": {
            "tags": []
          },
          "execution_count": 56
        }
      ]
    },
    {
      "cell_type": "code",
      "metadata": {
        "colab": {
          "base_uri": "https://localhost:8080/"
        },
        "id": "r4mOwF9gfgc1",
        "outputId": "9c19677d-1c89-4191-edd2-531a786a674a"
      },
      "source": [
        "math.exp(math.pi)"
      ],
      "execution_count": null,
      "outputs": [
        {
          "output_type": "execute_result",
          "data": {
            "text/plain": [
              "23.140692632779267"
            ]
          },
          "metadata": {
            "tags": []
          },
          "execution_count": 57
        }
      ]
    },
    {
      "cell_type": "markdown",
      "metadata": {
        "id": "KmnQZnLgfgc2"
      },
      "source": [
        "Built-in functions, classes, etc. of the Python language live in the `builtins` module."
      ]
    },
    {
      "cell_type": "code",
      "metadata": {
        "colab": {
          "base_uri": "https://localhost:8080/"
        },
        "id": "qWyz1p7Nfgc2",
        "outputId": "1cafb2fc-c746-4a2a-9c70-d2ca6ffc0bf9"
      },
      "source": [
        "import builtins\n",
        "dir(builtins)"
      ],
      "execution_count": null,
      "outputs": [
        {
          "output_type": "execute_result",
          "data": {
            "text/plain": [
              "['ArithmeticError',\n",
              " 'AssertionError',\n",
              " 'AttributeError',\n",
              " 'BaseException',\n",
              " 'BlockingIOError',\n",
              " 'BrokenPipeError',\n",
              " 'BufferError',\n",
              " 'BytesWarning',\n",
              " 'ChildProcessError',\n",
              " 'ConnectionAbortedError',\n",
              " 'ConnectionError',\n",
              " 'ConnectionRefusedError',\n",
              " 'ConnectionResetError',\n",
              " 'DeprecationWarning',\n",
              " 'EOFError',\n",
              " 'Ellipsis',\n",
              " 'EnvironmentError',\n",
              " 'Exception',\n",
              " 'False',\n",
              " 'FileExistsError',\n",
              " 'FileNotFoundError',\n",
              " 'FloatingPointError',\n",
              " 'FutureWarning',\n",
              " 'GeneratorExit',\n",
              " 'IOError',\n",
              " 'ImportError',\n",
              " 'ImportWarning',\n",
              " 'IndentationError',\n",
              " 'IndexError',\n",
              " 'InterruptedError',\n",
              " 'IsADirectoryError',\n",
              " 'KeyError',\n",
              " 'KeyboardInterrupt',\n",
              " 'LookupError',\n",
              " 'MemoryError',\n",
              " 'ModuleNotFoundError',\n",
              " 'NameError',\n",
              " 'None',\n",
              " 'NotADirectoryError',\n",
              " 'NotImplemented',\n",
              " 'NotImplementedError',\n",
              " 'OSError',\n",
              " 'OverflowError',\n",
              " 'PendingDeprecationWarning',\n",
              " 'PermissionError',\n",
              " 'ProcessLookupError',\n",
              " 'RecursionError',\n",
              " 'ReferenceError',\n",
              " 'ResourceWarning',\n",
              " 'RuntimeError',\n",
              " 'RuntimeWarning',\n",
              " 'StopAsyncIteration',\n",
              " 'StopIteration',\n",
              " 'SyntaxError',\n",
              " 'SyntaxWarning',\n",
              " 'SystemError',\n",
              " 'SystemExit',\n",
              " 'TabError',\n",
              " 'TimeoutError',\n",
              " 'True',\n",
              " 'TypeError',\n",
              " 'UnboundLocalError',\n",
              " 'UnicodeDecodeError',\n",
              " 'UnicodeEncodeError',\n",
              " 'UnicodeError',\n",
              " 'UnicodeTranslateError',\n",
              " 'UnicodeWarning',\n",
              " 'UserWarning',\n",
              " 'ValueError',\n",
              " 'Warning',\n",
              " 'ZeroDivisionError',\n",
              " '__IPYTHON__',\n",
              " '__build_class__',\n",
              " '__debug__',\n",
              " '__doc__',\n",
              " '__import__',\n",
              " '__loader__',\n",
              " '__name__',\n",
              " '__package__',\n",
              " '__spec__',\n",
              " 'abs',\n",
              " 'all',\n",
              " 'any',\n",
              " 'ascii',\n",
              " 'bin',\n",
              " 'bool',\n",
              " 'breakpoint',\n",
              " 'bytearray',\n",
              " 'bytes',\n",
              " 'callable',\n",
              " 'chr',\n",
              " 'classmethod',\n",
              " 'compile',\n",
              " 'complex',\n",
              " 'copyright',\n",
              " 'credits',\n",
              " 'delattr',\n",
              " 'dict',\n",
              " 'dir',\n",
              " 'display',\n",
              " 'divmod',\n",
              " 'dreload',\n",
              " 'enumerate',\n",
              " 'eval',\n",
              " 'exec',\n",
              " 'execfile',\n",
              " 'filter',\n",
              " 'float',\n",
              " 'format',\n",
              " 'frozenset',\n",
              " 'get_ipython',\n",
              " 'getattr',\n",
              " 'globals',\n",
              " 'hasattr',\n",
              " 'hash',\n",
              " 'help',\n",
              " 'hex',\n",
              " 'id',\n",
              " 'input',\n",
              " 'int',\n",
              " 'isinstance',\n",
              " 'issubclass',\n",
              " 'iter',\n",
              " 'len',\n",
              " 'license',\n",
              " 'list',\n",
              " 'locals',\n",
              " 'map',\n",
              " 'max',\n",
              " 'memoryview',\n",
              " 'min',\n",
              " 'next',\n",
              " 'object',\n",
              " 'oct',\n",
              " 'open',\n",
              " 'ord',\n",
              " 'pow',\n",
              " 'print',\n",
              " 'property',\n",
              " 'range',\n",
              " 'repr',\n",
              " 'reversed',\n",
              " 'round',\n",
              " 'runfile',\n",
              " 'set',\n",
              " 'setattr',\n",
              " 'slice',\n",
              " 'sorted',\n",
              " 'staticmethod',\n",
              " 'str',\n",
              " 'sum',\n",
              " 'super',\n",
              " 'tuple',\n",
              " 'type',\n",
              " 'vars',\n",
              " 'zip']"
            ]
          },
          "metadata": {
            "tags": []
          },
          "execution_count": 58
        }
      ]
    },
    {
      "cell_type": "markdown",
      "metadata": {
        "id": "hQZ-6E2ufgc3"
      },
      "source": [
        "You can specify a short module name using the `as` operator"
      ]
    },
    {
      "cell_type": "code",
      "metadata": {
        "colab": {
          "base_uri": "https://localhost:8080/"
        },
        "id": "GQ5tZOvKfgc4",
        "outputId": "a00b79f3-4e25-4386-e97a-cf2db2ef0631"
      },
      "source": [
        "import random as r\n",
        "r"
      ],
      "execution_count": null,
      "outputs": [
        {
          "output_type": "execute_result",
          "data": {
            "text/plain": [
              "<module 'random' from '/usr/lib/python3.7/random.py'>"
            ]
          },
          "metadata": {
            "tags": []
          },
          "execution_count": 59
        }
      ]
    },
    {
      "cell_type": "code",
      "metadata": {
        "colab": {
          "base_uri": "https://localhost:8080/"
        },
        "id": "r3YQGUESfgc4",
        "outputId": "dba23f3a-ae80-49be-c849-85f1e52be79c"
      },
      "source": [
        "dir(r)"
      ],
      "execution_count": null,
      "outputs": [
        {
          "output_type": "execute_result",
          "data": {
            "text/plain": [
              "['BPF',\n",
              " 'LOG4',\n",
              " 'NV_MAGICCONST',\n",
              " 'RECIP_BPF',\n",
              " 'Random',\n",
              " 'SG_MAGICCONST',\n",
              " 'SystemRandom',\n",
              " 'TWOPI',\n",
              " '_BuiltinMethodType',\n",
              " '_MethodType',\n",
              " '_Sequence',\n",
              " '_Set',\n",
              " '__all__',\n",
              " '__builtins__',\n",
              " '__cached__',\n",
              " '__doc__',\n",
              " '__file__',\n",
              " '__loader__',\n",
              " '__name__',\n",
              " '__package__',\n",
              " '__spec__',\n",
              " '_acos',\n",
              " '_bisect',\n",
              " '_ceil',\n",
              " '_cos',\n",
              " '_e',\n",
              " '_exp',\n",
              " '_inst',\n",
              " '_itertools',\n",
              " '_log',\n",
              " '_os',\n",
              " '_pi',\n",
              " '_random',\n",
              " '_sha512',\n",
              " '_sin',\n",
              " '_sqrt',\n",
              " '_test',\n",
              " '_test_generator',\n",
              " '_urandom',\n",
              " '_warn',\n",
              " 'betavariate',\n",
              " 'choice',\n",
              " 'choices',\n",
              " 'expovariate',\n",
              " 'gammavariate',\n",
              " 'gauss',\n",
              " 'getrandbits',\n",
              " 'getstate',\n",
              " 'lognormvariate',\n",
              " 'normalvariate',\n",
              " 'paretovariate',\n",
              " 'randint',\n",
              " 'random',\n",
              " 'randrange',\n",
              " 'sample',\n",
              " 'seed',\n",
              " 'setstate',\n",
              " 'shuffle',\n",
              " 'triangular',\n",
              " 'uniform',\n",
              " 'vonmisesvariate',\n",
              " 'weibullvariate']"
            ]
          },
          "metadata": {
            "tags": []
          },
          "execution_count": 60
        }
      ]
    },
    {
      "cell_type": "code",
      "metadata": {
        "colab": {
          "base_uri": "https://localhost:8080/"
        },
        "id": "tqrj87Upfgc5",
        "outputId": "0c8e819e-1441-4d9e-fa4c-1083df35558d"
      },
      "source": [
        "[r.random() for i in range(10)]"
      ],
      "execution_count": null,
      "outputs": [
        {
          "output_type": "execute_result",
          "data": {
            "text/plain": [
              "[0.6864555473503953,\n",
              " 0.6676124975266172,\n",
              " 0.8058085469826993,\n",
              " 0.3911629427737414,\n",
              " 0.9926173815823791,\n",
              " 0.9746265659135733,\n",
              " 0.2851964401416166,\n",
              " 0.951101906447488,\n",
              " 0.755225547265528,\n",
              " 0.1623447867070753]"
            ]
          },
          "metadata": {
            "tags": []
          },
          "execution_count": 61
        }
      ]
    },
    {
      "cell_type": "markdown",
      "metadata": {
        "id": "e5X4XvKSfgc5"
      },
      "source": [
        "This form of the import statement introduces the listed names (functions, variables, classes) from the module into the current namespace. Better to import only the functions and classes you need. In this case, you do not need to write the module name in front of each."
      ]
    },
    {
      "cell_type": "code",
      "metadata": {
        "collapsed": true,
        "id": "ri4xg164fgc6"
      },
      "source": [
        "from sys import path"
      ],
      "execution_count": null,
      "outputs": []
    },
    {
      "cell_type": "markdown",
      "metadata": {
        "id": "ywZeVxZHfgc6"
      },
      "source": [
        "The variable `path` is a list of directory names in which the` import` statement looks for modules. At the beginning, it includes `` '' - the directory in which the current program is located (or the current directory in the case of an interactive session); directories listed in the `PYTHONPATH` environment variable (if there is such a variable); and standard directories for this version of python. But this is a normal list, it can be changed using standard language tools. For example, it is dangerous to include the current directory in `path` - if someone slips a malicious version of` math.py` into his directory, and the user program executes `import math`, then this module will be executed, and may, say, delete all files of this user. But you can do `path = path [1:]`."
      ]
    },
    {
      "cell_type": "code",
      "metadata": {
        "colab": {
          "base_uri": "https://localhost:8080/"
        },
        "id": "HDxhuXGcfgc7",
        "outputId": "12e1377f-7d04-4e1b-cfe2-2bb22f67e8e1"
      },
      "source": [
        "path"
      ],
      "execution_count": null,
      "outputs": [
        {
          "output_type": "execute_result",
          "data": {
            "text/plain": [
              "['',\n",
              " '/content',\n",
              " '/env/python',\n",
              " '/usr/lib/python37.zip',\n",
              " '/usr/lib/python3.7',\n",
              " '/usr/lib/python3.7/lib-dynload',\n",
              " '/usr/local/lib/python3.7/dist-packages',\n",
              " '/usr/lib/python3/dist-packages',\n",
              " '/usr/local/lib/python3.7/dist-packages/IPython/extensions',\n",
              " '/root/.ipython']"
            ]
          },
          "metadata": {
            "tags": []
          },
          "execution_count": 65
        }
      ]
    },
    {
      "cell_type": "code",
      "metadata": {
        "colab": {
          "base_uri": "https://localhost:8080/"
        },
        "id": "ZMLaXUsDfgc7",
        "outputId": "ad712a12-47a4-451f-9fc4-6bf3b7e46ca5"
      },
      "source": [
        "path.append('/content/dir_name/one_more_dir_name')\n",
        "path"
      ],
      "execution_count": null,
      "outputs": [
        {
          "output_type": "execute_result",
          "data": {
            "text/plain": [
              "['',\n",
              " '/content',\n",
              " '/env/python',\n",
              " '/usr/lib/python37.zip',\n",
              " '/usr/lib/python3.7',\n",
              " '/usr/lib/python3.7/lib-dynload',\n",
              " '/usr/local/lib/python3.7/dist-packages',\n",
              " '/usr/lib/python3/dist-packages',\n",
              " '/usr/local/lib/python3.7/dist-packages/IPython/extensions',\n",
              " '/root/.ipython',\n",
              " '/content/dir_name/one_more_dir_name']"
            ]
          },
          "metadata": {
            "tags": []
          },
          "execution_count": 66
        }
      ]
    },
    {
      "cell_type": "markdown",
      "metadata": {
        "id": "gS_InhfLfgc8"
      },
      "source": [
        "In python, everything is an object that we can give our own names to."
      ]
    },
    {
      "cell_type": "code",
      "metadata": {
        "collapsed": true,
        "id": "BHcjcZeIfgc8"
      },
      "source": [
        "from math import factorial as f"
      ],
      "execution_count": null,
      "outputs": []
    },
    {
      "cell_type": "code",
      "metadata": {
        "colab": {
          "base_uri": "https://localhost:8080/"
        },
        "id": "v96QcNlvfgc8",
        "outputId": "c7bf1312-8c8a-4fe2-fc13-5a85999c41c2"
      },
      "source": [
        "f(100)"
      ],
      "execution_count": null,
      "outputs": [
        {
          "output_type": "execute_result",
          "data": {
            "text/plain": [
              "158"
            ]
          },
          "metadata": {
            "tags": []
          },
          "execution_count": 69
        }
      ]
    },
    {
      "cell_type": "markdown",
      "metadata": {
        "id": "O_fmL_Hmfgc8"
      },
      "source": [
        "There is also a `from ... import *` statement, which imports into the current namespace all names defined in the module. This is usually a bad idea.\n",
        "\n",
        "For example, the current directory contains the file `fact.py`. We are working in `ipython`, which provides all sorts of facilities for interactive work. For example, you can execute a `shell` command if you put`! `At the beginning of a line (just don't try this in a regular python interpreter). So it's easy to print this file. It defines one function `fact`."
      ]
    },
    {
      "cell_type": "code",
      "metadata": {
        "colab": {
          "base_uri": "https://localhost:8080/"
        },
        "id": "vpbxR1G6fgc9",
        "outputId": "a58b59b7-250c-4d4d-af34-0e308d34086f"
      },
      "source": [
        "!cat fact.py"
      ],
      "execution_count": null,
      "outputs": [
        {
          "output_type": "stream",
          "text": [
            "#!/usr/bin/env python3\n",
            "'В этом модуле определена функция fact'\n",
            "\n",
            "def fact(n):\n",
            "    'calculate factorial of n'\n",
            "    assert type(n) is int and n >= 0\n",
            "    r = 1\n",
            "    for i in range(2, n + 1):\n",
            "        r *= i\n",
            "    return r\n",
            "\n",
            "if __name__ == '__main__':\n",
            "    from sys import argv, exit\n",
            "    if len(argv) != 2:\n",
            "        print('usage: ./fact.py n')\n",
            "        exit(1)\n",
            "    print(fact(int(argv[1])))\n"
          ],
          "name": "stdout"
        }
      ]
    },
    {
      "cell_type": "code",
      "metadata": {
        "colab": {
          "base_uri": "https://localhost:8080/",
          "height": 35
        },
        "id": "gjYLyUUQ057F",
        "outputId": "92f74d7c-dd62-4eab-ac77-e66a5a3914d5"
      },
      "source": [
        "fact.__doc__"
      ],
      "execution_count": null,
      "outputs": [
        {
          "output_type": "execute_result",
          "data": {
            "application/vnd.google.colaboratory.intrinsic+json": {
              "type": "string"
            },
            "text/plain": [
              "'calculate factorial of n'"
            ]
          },
          "metadata": {
            "tags": []
          },
          "execution_count": 72
        }
      ]
    },
    {
      "cell_type": "code",
      "metadata": {
        "id": "hhJE7a8SzoNJ"
      },
      "source": [
        "# python file.py arg1 arg2"
      ],
      "execution_count": null,
      "outputs": []
    },
    {
      "cell_type": "code",
      "metadata": {
        "colab": {
          "base_uri": "https://localhost:8080/"
        },
        "id": "6fWaVLfqfgc9",
        "outputId": "4a2a686b-c8ec-441c-c87c-18f1705eb525"
      },
      "source": [
        "from fact import *\n",
        "fact(10)"
      ],
      "execution_count": null,
      "outputs": [
        {
          "output_type": "execute_result",
          "data": {
            "text/plain": [
              "3628800"
            ]
          },
          "metadata": {
            "tags": []
          },
          "execution_count": 71
        }
      ]
    },
    {
      "cell_type": "markdown",
      "metadata": {
        "id": "jHaGBg_ffgc-"
      },
      "source": [
        "There is also a `from ... import *` statement, which imports into the current namespace all names defined in the module. This is usually a bad idea.\n",
        "\n",
        "The file `fact.py` shows the typical structure of any python file."
      ]
    },
    {
      "cell_type": "code",
      "metadata": {
        "colab": {
          "base_uri": "https://localhost:8080/",
          "height": 392
        },
        "id": "J1EB9A16fgc-",
        "outputId": "7dfc3d70-c1f5-4fd1-bdb8-3517a1556ece"
      },
      "source": [
        "import fact\n",
        "fact.__doc__"
      ],
      "execution_count": 2,
      "outputs": [
        {
          "output_type": "error",
          "ename": "ModuleNotFoundError",
          "evalue": "ignored",
          "traceback": [
            "\u001b[0;31m---------------------------------------------------------------------------\u001b[0m",
            "\u001b[0;31mModuleNotFoundError\u001b[0m                       Traceback (most recent call last)",
            "\u001b[0;32m<ipython-input-2-b69c3aa50a1e>\u001b[0m in \u001b[0;36m<module>\u001b[0;34m()\u001b[0m\n\u001b[0;32m----> 1\u001b[0;31m \u001b[0;32mimport\u001b[0m \u001b[0mfact\u001b[0m\u001b[0;34m\u001b[0m\u001b[0;34m\u001b[0m\u001b[0m\n\u001b[0m\u001b[1;32m      2\u001b[0m \u001b[0mfact\u001b[0m\u001b[0;34m.\u001b[0m\u001b[0m__doc__\u001b[0m\u001b[0;34m\u001b[0m\u001b[0;34m\u001b[0m\u001b[0m\n",
            "\u001b[0;31mModuleNotFoundError\u001b[0m: No module named 'fact'",
            "",
            "\u001b[0;31m---------------------------------------------------------------------------\u001b[0;32m\nNOTE: If your import is failing due to a missing package, you can\nmanually install dependencies using either !pip or !apt.\n\nTo view examples of installing some common dependencies, click the\n\"Open Examples\" button below.\n\u001b[0;31m---------------------------------------------------------------------------\u001b[0m\n"
          ],
          "errorDetails": {
            "actions": [
              {
                "action": "open_url",
                "actionText": "Open Examples",
                "url": "/notebooks/snippets/importing_libraries.ipynb"
              }
            ]
          }
        }
      ]
    },
    {
      "cell_type": "code",
      "metadata": {
        "colab": {
          "base_uri": "https://localhost:8080/"
        },
        "id": "UkOa27KUfgc_",
        "outputId": "0b2f0cdf-1ef0-4787-fffb-0dc0c4bc0531"
      },
      "source": [
        "help(fact)"
      ],
      "execution_count": null,
      "outputs": [
        {
          "output_type": "stream",
          "text": [
            "Help on module fact:\n",
            "\n",
            "NAME\n",
            "    fact - В этом модуле определена функция fact\n",
            "\n",
            "FUNCTIONS\n",
            "    fact(n)\n",
            "        calculate factorial of n\n",
            "\n",
            "FILE\n",
            "    /content/fact.py\n",
            "\n",
            "\n"
          ],
          "name": "stdout"
        }
      ]
    },
    {
      "cell_type": "markdown",
      "metadata": {
        "id": "90Zv497Jfgc_"
      },
      "source": [
        "The dir function without an argument returns a list of names in the current namespace. Many of the names in this list are defined by `ipython`; in a session with a regular python interpreter, they would not exist."
      ]
    },
    {
      "cell_type": "markdown",
      "metadata": {
        "id": "Gx60skxJfgdA"
      },
      "source": [
        "В локальном пространстве имён этой функции два имени."
      ]
    },
    {
      "cell_type": "code",
      "metadata": {
        "collapsed": true,
        "id": "2e9JQH6VfgdA"
      },
      "source": [
        "def f(x):\n",
        "    y = 0\n",
        "    print(dir())"
      ],
      "execution_count": null,
      "outputs": []
    },
    {
      "cell_type": "code",
      "metadata": {
        "colab": {
          "base_uri": "https://localhost:8080/"
        },
        "id": "ZY80abtcfgdA",
        "outputId": "df1c9958-b17c-44d4-a984-df2053c13437"
      },
      "source": [
        "f(0)"
      ],
      "execution_count": null,
      "outputs": [
        {
          "output_type": "stream",
          "text": [
            "['x', 'y']\n"
          ],
          "name": "stdout"
        }
      ]
    },
    {
      "cell_type": "markdown",
      "metadata": {
        "id": "smzn0pBJfgdA"
      },
      "source": [
        "Each module has a string variable `__name__`, it contains the name of the module. The main program (or interactive session) is also a module, its name is `__main__`. This explains the form of the `if` statement, which appears at the end of the file` fact.py`."
      ]
    },
    {
      "cell_type": "code",
      "metadata": {
        "colab": {
          "base_uri": "https://localhost:8080/",
          "height": 35
        },
        "id": "CTwDqKc5fgdA",
        "outputId": "bd6caf06-543c-40c9-a3e0-dabf7a54e7a7"
      },
      "source": [
        "__name__"
      ],
      "execution_count": null,
      "outputs": [
        {
          "output_type": "execute_result",
          "data": {
            "application/vnd.google.colaboratory.intrinsic+json": {
              "type": "string"
            },
            "text/plain": [
              "'__main__'"
            ]
          },
          "metadata": {
            "tags": []
          },
          "execution_count": 79
        }
      ]
    },
    {
      "cell_type": "code",
      "metadata": {
        "colab": {
          "base_uri": "https://localhost:8080/",
          "height": 35
        },
        "id": "v-r87EbSfgdB",
        "outputId": "463267d4-3821-431b-d2eb-057ae5f3015d"
      },
      "source": [
        "r.__name__"
      ],
      "execution_count": null,
      "outputs": [
        {
          "output_type": "execute_result",
          "data": {
            "application/vnd.google.colaboratory.intrinsic+json": {
              "type": "string"
            },
            "text/plain": [
              "'random'"
            ]
          },
          "metadata": {
            "tags": []
          },
          "execution_count": 80
        }
      ]
    },
    {
      "cell_type": "code",
      "metadata": {
        "id": "S0MCz_332sJy"
      },
      "source": [
        "# sys.path"
      ],
      "execution_count": null,
      "outputs": []
    },
    {
      "cell_type": "markdown",
      "metadata": {
        "id": "EgfrY4QSfgdB"
      },
      "source": [
        "Modules do not have to be located directly in some directory from `sys.path`; they can be in a subdirectory. For example, in the current directory (included in `path`) there is a subdirectory` d1`, within which there is a subdirectory `d2`."
      ]
    },
    {
      "cell_type": "code",
      "metadata": {
        "colab": {
          "base_uri": "https://localhost:8080/"
        },
        "id": "cwZ1qy-_fgdB",
        "outputId": "af563dd2-8ffa-489c-ed8a-7e8455e319dc"
      },
      "source": [
        "!ls"
      ],
      "execution_count": null,
      "outputs": [
        {
          "output_type": "stream",
          "text": [
            "d1  fact.py  p1  sample_data\n"
          ],
          "name": "stdout"
        }
      ]
    },
    {
      "cell_type": "code",
      "metadata": {
        "colab": {
          "base_uri": "https://localhost:8080/"
        },
        "id": "7ZCbGub5fgdC",
        "outputId": "9525c4ce-7c64-4907-c670-3b0b6ab768cc"
      },
      "source": [
        "!ls sample_data"
      ],
      "execution_count": null,
      "outputs": [
        {
          "output_type": "stream",
          "text": [
            "anscombe.json\t\t      mnist_test.csv\n",
            "california_housing_test.csv   mnist_train_small.csv\n",
            "california_housing_train.csv  README.md\n"
          ],
          "name": "stdout"
        }
      ]
    },
    {
      "cell_type": "code",
      "metadata": {
        "colab": {
          "base_uri": "https://localhost:8080/"
        },
        "id": "4eqqAPPK6ts8",
        "outputId": "7b947a64-b6a1-4ba1-db9c-1b67e916e41e"
      },
      "source": [
        "!ls d1"
      ],
      "execution_count": null,
      "outputs": [
        {
          "output_type": "stream",
          "text": [
            "d2  m1.py\n"
          ],
          "name": "stdout"
        }
      ]
    },
    {
      "cell_type": "code",
      "metadata": {
        "id": "KXmXhuRF6zc5"
      },
      "source": [
        "!rm -r d1/d2/__pycache__/"
      ],
      "execution_count": null,
      "outputs": []
    },
    {
      "cell_type": "code",
      "metadata": {
        "id": "GkA_LeKp7F82"
      },
      "source": [
        "!ls d1"
      ],
      "execution_count": null,
      "outputs": []
    },
    {
      "cell_type": "code",
      "metadata": {
        "colab": {
          "base_uri": "https://localhost:8080/"
        },
        "id": "Y8zYXfpS7HSh",
        "outputId": "8edabeb3-ed01-4330-b936-1e380ac06638"
      },
      "source": [
        "ls d1/d2"
      ],
      "execution_count": null,
      "outputs": [
        {
          "output_type": "stream",
          "text": [
            "m2.py\n"
          ],
          "name": "stdout"
        }
      ]
    },
    {
      "cell_type": "code",
      "metadata": {
        "colab": {
          "base_uri": "https://localhost:8080/"
        },
        "id": "024H6gw27eE_",
        "outputId": "035714c7-e2c1-410e-a295-18ba672aeb08"
      },
      "source": [
        "ls d1"
      ],
      "execution_count": null,
      "outputs": [
        {
          "output_type": "stream",
          "text": [
            "\u001b[0m\u001b[01;34md2\u001b[0m/  m1.py\n"
          ],
          "name": "stdout"
        }
      ]
    },
    {
      "cell_type": "markdown",
      "metadata": {
        "id": "FakUiMd5fgdC"
      },
      "source": [
        "We can import the modules `m1` and` m2` like this."
      ]
    },
    {
      "cell_type": "code",
      "metadata": {
        "id": "yYcxulNb7kzr"
      },
      "source": [
        ""
      ],
      "execution_count": null,
      "outputs": []
    },
    {
      "cell_type": "code",
      "metadata": {
        "colab": {
          "base_uri": "https://localhost:8080/"
        },
        "id": "W6b_jWUJfgdC",
        "outputId": "e5533020-47f0-4622-a4fb-d035c1bb6910"
      },
      "source": [
        "import d1.m1\n",
        "d1.m1.f1()"
      ],
      "execution_count": null,
      "outputs": [
        {
          "output_type": "execute_result",
          "data": {
            "text/plain": [
              "1"
            ]
          },
          "metadata": {
            "tags": []
          },
          "execution_count": 94
        }
      ]
    },
    {
      "cell_type": "code",
      "metadata": {
        "colab": {
          "base_uri": "https://localhost:8080/"
        },
        "id": "EyFeongofgdD",
        "outputId": "37cb0483-2c50-4dbf-80c4-05557038c23a"
      },
      "source": [
        "import d1.d2.m2\n",
        "d1.d2.m2.f2()"
      ],
      "execution_count": null,
      "outputs": [
        {
          "output_type": "execute_result",
          "data": {
            "text/plain": [
              "2"
            ]
          },
          "metadata": {
            "tags": []
          },
          "execution_count": 95
        }
      ]
    },
    {
      "cell_type": "markdown",
      "metadata": {
        "id": "9rzcrJl8fgdD"
      },
      "source": [
        "This subtree of directories with modules can be turned into a package that looks like a single module from the user's point of view. To do this, add the file `__init __. Py`. Here is another subtree with the same files `m1.py` and` m2.py`."
      ]
    },
    {
      "cell_type": "code",
      "metadata": {
        "colab": {
          "base_uri": "https://localhost:8080/"
        },
        "id": "Uuo6LeKXfgdD",
        "outputId": "f48afc2c-cce4-4a64-884c-0857f851a09a"
      },
      "source": [
        "!ls p1"
      ],
      "execution_count": null,
      "outputs": [
        {
          "output_type": "stream",
          "text": [
            "__init__.py  m1.py  p2\t__pycache__\n"
          ],
          "name": "stdout"
        }
      ]
    },
    {
      "cell_type": "code",
      "metadata": {
        "colab": {
          "base_uri": "https://localhost:8080/"
        },
        "id": "cQZ-NIf1fgdD",
        "outputId": "390ff7ec-ef04-4cd4-d221-b0e111b778bc"
      },
      "source": [
        "!ls p1/p2"
      ],
      "execution_count": null,
      "outputs": [
        {
          "output_type": "stream",
          "text": [
            "m2.py  __pycache__\n"
          ],
          "name": "stdout"
        }
      ]
    },
    {
      "cell_type": "code",
      "metadata": {
        "id": "CmUkAJD68bWE"
      },
      "source": [
        "!rm -r p1/p2/__pycache__/"
      ],
      "execution_count": null,
      "outputs": []
    },
    {
      "cell_type": "markdown",
      "metadata": {
        "id": "WUkj347IfgdE"
      },
      "source": [
        "Only added file `__init __.py`."
      ]
    },
    {
      "cell_type": "code",
      "metadata": {
        "colab": {
          "base_uri": "https://localhost:8080/"
        },
        "id": "G8ah-sftfgdE",
        "outputId": "20962a34-7e91-4beb-9dde-eb337f432994"
      },
      "source": [
        "!cat p1/__init__.py"
      ],
      "execution_count": null,
      "outputs": [
        {
          "output_type": "stream",
          "text": [
            "'Пакет, экспортирующий f1 из модуля m1 и f2 из модуля m2'\n",
            "from p1.m1 import f1\n",
            "from p1.p2.m2 import f2\n"
          ],
          "name": "stdout"
        }
      ]
    },
    {
      "cell_type": "markdown",
      "metadata": {
        "id": "eIfJo0cxfgdE"
      },
      "source": [
        "We can now import this package."
      ]
    },
    {
      "cell_type": "code",
      "metadata": {
        "collapsed": true,
        "id": "6rKC0_fvfgdE"
      },
      "source": [
        "import p1"
      ],
      "execution_count": null,
      "outputs": []
    },
    {
      "cell_type": "markdown",
      "metadata": {
        "id": "hoCvmUuEfgdE"
      },
      "source": [
        "Python finds in `sys.path` the directory` p1` containing `__init __. Py` and interprets it as a package. On import, this `__init __. Py` file is executed to initialize the package. All functions, variables, etc., defined in this file (directly or through import) become symbols of this package. `__init __. py` may not include all functions from modules in this directory tree (and not even all modules); symbols not defined in `__init __. py` are not available after importing the package (of course, the user can always import any module directly and access all of its symbols)."
      ]
    },
    {
      "cell_type": "code",
      "metadata": {
        "colab": {
          "base_uri": "https://localhost:8080/",
          "height": 35
        },
        "id": "_R4KNaNWfgdF",
        "outputId": "6593a959-b46e-4e5e-f655-e0270f0cb6fe"
      },
      "source": [
        "p1.__doc__"
      ],
      "execution_count": null,
      "outputs": [
        {
          "output_type": "execute_result",
          "data": {
            "application/vnd.google.colaboratory.intrinsic+json": {
              "type": "string"
            },
            "text/plain": [
              "'Пакет, экспортирующий f1 из модуля m1 и f2 из модуля m2'"
            ]
          },
          "metadata": {
            "tags": []
          },
          "execution_count": 102
        }
      ]
    },
    {
      "cell_type": "code",
      "metadata": {
        "colab": {
          "base_uri": "https://localhost:8080/"
        },
        "id": "F-sGUTrpfgdF",
        "outputId": "adb3fdb8-4c76-45f9-b3a5-5fa057d5b7a6"
      },
      "source": [
        "p1.f1(), p1.f2()"
      ],
      "execution_count": null,
      "outputs": [
        {
          "output_type": "execute_result",
          "data": {
            "text/plain": [
              "(1, 2)"
            ]
          },
          "metadata": {
            "tags": []
          },
          "execution_count": 104
        }
      ]
    }
  ]
}