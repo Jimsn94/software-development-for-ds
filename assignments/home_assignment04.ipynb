{
  "cells": [
    {
      "cell_type": "markdown",
      "metadata": {
        "id": "hia1cPPnbt-6"
      },
      "source": [
        "## Exercise 0\n",
        "\n",
        "Write your own simple function with simple documentation and all types of arguments (positional, positional with defaults, arbitrary args, keyword args, arbitrary keyword args)"
      ]
    },
    {
      "cell_type": "code",
      "execution_count": 12,
      "metadata": {
        "id": "82YW6fgZbppO"
      },
      "outputs": [],
      "source": [
        "# your code here\n",
        "def my_function(a,b=5,*args,d,**kwargs ):\n",
        "  '''\n",
        "  A basic function\n",
        "  '''\n",
        "  pass\n",
        "    "
      ]
    },
    {
      "cell_type": "markdown",
      "metadata": {
        "id": "HYhlKVnwTYzD"
      },
      "source": [
        "## Exercise 1\n"
      ]
    },
    {
      "cell_type": "code",
      "execution_count": 22,
      "metadata": {
        "id": "gv_TvLaHTXh8"
      },
      "outputs": [],
      "source": [
        "from math import sqrt\n",
        "def is_prime(n):\n",
        "    \"\"\"\n",
        "    Check if the number is prime or not.\n",
        "    \"\"\"\n",
        "    k =0\n",
        "    if n>1:\n",
        "      for i in range(2,int(sqrt(n))+1):\n",
        "        if (n%i==0):\n",
        "          k+=1\n",
        "          break\n",
        "      if k == 0:\n",
        "        return(f\"{n} is prime\")\n",
        "      else: return(f\"{n} is not prime\")\n",
        "    else: return f\"{n} is not prime\"\n"
      ]
    },
    {
      "cell_type": "markdown",
      "metadata": {
        "id": "1FXsMX-RKOBG"
      },
      "source": [
        "## Exercise 2\n",
        "\n",
        "[Inspect](https://docs.python.org/3.7/library/inspect.html) will help you. Use `my_function` for tests.\n",
        "\n"
      ]
    },
    {
      "cell_type": "code",
      "execution_count": 109,
      "metadata": {
        "id": "g68Y9DfNQcYD"
      },
      "outputs": [],
      "source": [
        "import inspect\n",
        "\n",
        "def inspect_function(func):\n",
        "    \"\"\"\n",
        "    Takes another function as an argument (but not built-in) \n",
        "    and print the following data: \n",
        "    the name of the analyzed function, \n",
        "    the name of all the arguments it takes \n",
        "    and their types (positional, keyword, etc.)\n",
        "    \"\"\"\n",
        "    # your code here\n",
        "    print(inspect.getfullargspec(func))\n",
        "    \n",
        "    "
      ]
    },
    {
      "cell_type": "code",
      "source": [
        "inspect_function(my_function)"
      ],
      "metadata": {
        "colab": {
          "base_uri": "https://localhost:8080/"
        },
        "id": "aPw8cltsiPqD",
        "outputId": "2cd58315-02a7-4741-dc34-a9fb7e3ae39f"
      },
      "execution_count": 110,
      "outputs": [
        {
          "output_type": "stream",
          "name": "stdout",
          "text": [
            "FullArgSpec(args=['a', 'b'], varargs='args', varkw='kwargs', defaults=(5,), kwonlyargs=['d'], kwonlydefaults=None, annotations={})\n"
          ]
        }
      ]
    },
    {
      "cell_type": "markdown",
      "metadata": {
        "id": "oRaKEc0ZIgNs"
      },
      "source": [
        "## Exercise 3"
      ]
    },
    {
      "cell_type": "markdown",
      "metadata": {
        "id": "xmdOYiCrGpUd"
      },
      "source": [
        "The `my_time_now` function is not working correctly. Correct it so that it displays the current time with a message. "
      ]
    },
    {
      "cell_type": "code",
      "execution_count": 116,
      "metadata": {
        "id": "645BoTXIGnHr"
      },
      "outputs": [],
      "source": [
        "from datetime import datetime\n",
        "from time import sleep\n",
        "import pytz\n",
        "# wrong function\n",
        "def my_time_now(msg, *, dt=datetime.now(tz = pytz.timezone('Asia/Bangkok'))):\n",
        "    print(msg, dt)\n",
        " \n"
      ]
    },
    {
      "cell_type": "code",
      "execution_count": 118,
      "metadata": {
        "id": "3NeyF9UJHeyd",
        "colab": {
          "base_uri": "https://localhost:8080/"
        },
        "outputId": "56bc72f6-47a3-43e6-ef19-4999678f212e"
      },
      "outputs": [
        {
          "output_type": "stream",
          "name": "stdout",
          "text": [
            "The time is now:  2022-10-09 19:45:14.611054+07:00\n",
            "The time is now:  2022-10-09 19:45:14.611054+07:00\n",
            "The time is now:  2022-10-09 19:45:14.611054+07:00\n"
          ]
        }
      ],
      "source": [
        "# simple tests :)\n",
        "my_time_now('The time is now: ')\n",
        "sleep(1)\n",
        "my_time_now('The time is now: ')\n",
        "sleep(1)\n",
        "my_time_now('The time is now: ')"
      ]
    },
    {
      "cell_type": "markdown",
      "metadata": {
        "id": "Qap8_Jb2ENra"
      },
      "source": [
        "## Exercise 4"
      ]
    },
    {
      "cell_type": "code",
      "execution_count": 163,
      "metadata": {
        "id": "JBwZGo84EMW1"
      },
      "outputs": [],
      "source": [
        "def limit(input_generator, max_count):\n",
        "    \"\"\"\n",
        "    Generator that returns not more than max_count values of the input_generator.\n",
        "    \"\"\"\n",
        "    k=0\n",
        "    for val in input_generator():\n",
        "      yield val\n",
        "      k+=1\n",
        "      if k> max_count:\n",
        "        break\n",
        "    # your code here    \n"
      ]
    },
    {
      "cell_type": "markdown",
      "metadata": {
        "id": "BvwCKaOxRQ3N"
      },
      "source": [
        "## Exercise 5\n",
        "\n",
        "Write a generator for an infinite sequence of numbers from the Pascal's triangle. The sequence look like this:\n",
        "`1 1 1 1 2 1 1 3 3 1 1 4 6 4 1 1 5 10 10 5 1 1 6 15 20 15 6 1 1 7 21 35 35 21 7 1 1 8 28 56 70 56 28 8 1 1 9 36 84 126 126 84 36 9 1 ... '\n",
        "\n",
        "Test it with a generator from the previous task)"
      ]
    },
    {
      "cell_type": "code",
      "execution_count": 164,
      "metadata": {
        "id": "EBNNXBUYUqKJ"
      },
      "outputs": [],
      "source": [
        "def pascal_triangle_generator():\n",
        "    la=[1]\n",
        "    while True:\n",
        "        for i in la:\n",
        "            yield i\n",
        "        \n",
        "        lb=[1]\n",
        "        lb.extend(i+j for i, j in zip(la[:-1], la[1:]))\n",
        "        lb.append(1)\n",
        "        la=lb"
      ]
    },
    {
      "cell_type": "code",
      "source": [
        "for val in limit(pascal_triangle_generator,100):\n",
        "  print(val,end =' ')"
      ],
      "metadata": {
        "colab": {
          "base_uri": "https://localhost:8080/"
        },
        "id": "tSgxb9m06zAJ",
        "outputId": "bd4a1a30-6142-4bee-ae66-58a81dfcd65c"
      },
      "execution_count": 165,
      "outputs": [
        {
          "output_type": "stream",
          "name": "stdout",
          "text": [
            "1 1 1 1 2 1 1 3 3 1 1 4 6 4 1 1 5 10 10 5 1 1 6 15 20 15 6 1 1 7 21 35 35 21 7 1 1 8 28 56 70 56 28 8 1 1 9 36 84 126 126 84 36 9 1 1 10 45 120 210 252 210 120 45 10 1 1 11 55 165 330 462 462 330 165 55 11 1 1 12 66 220 495 792 924 792 495 220 66 12 1 1 13 78 286 715 1287 1716 1716 1287 715 "
          ]
        }
      ]
    },
    {
      "cell_type": "markdown",
      "metadata": {
        "id": "vUiY14pIEiNC"
      },
      "source": [
        "## Exercise 6\n"
      ]
    },
    {
      "cell_type": "code",
      "execution_count": null,
      "metadata": {
        "id": "eGLSDqNHGFYn"
      },
      "outputs": [],
      "source": [
        "import pathlib  # can change to os module if you want\n",
        "import sys\n",
        "import glob\n",
        "import os\n",
        "\n",
        "def files_sorted_by_size(path_to_dir):\n",
        "    \"\"\"\n",
        "    Return a list of files in path_to_dir sorted by size.\n",
        "    The same size files sorted alphabetically\n",
        "    \"\"\"\n",
        "    # your code here\n",
        "    list_of_files = filter( os.path.isfile,\n",
        "                            glob.glob(path_to_dir + '*') )\n",
        "    list_of_files = sorted( list_of_files,\n",
        "                            key =  lambda x: os.stat(x).st_size)"
      ]
    },
    {
      "cell_type": "markdown",
      "metadata": {
        "id": "43eeoixHSa9Y"
      },
      "source": [
        "## Exercise 7\n",
        "\n",
        "Write a `merge_sorter` generator that merges sorted sequences of integers.\n",
        "\n",
        "The generator takes an arbitrary number of arguments. The argument can be any iterable, including another generator. It is guaranteed that each argument is a sequence of integers, sorted in non-decreasing order."
      ]
    },
    {
      "cell_type": "code",
      "execution_count": null,
      "metadata": {
        "id": "VHmnqHVaScox"
      },
      "outputs": [],
      "source": [
        "def merge_sorter(*args):\n",
        "    # your code here\n",
        "    for val in merge_sorter:\n",
        "      "
      ]
    },
    {
      "cell_type": "markdown",
      "metadata": {
        "id": "7AF_IQRQVQ-k"
      },
      "source": [
        "## Exercise 8\n",
        "\n",
        "Write the decorator `proﬁler`, which, when calling a function, will store in its attributes (not to be confused with arguments) the time of its execution (in seconds, it can be fractional) and the number of recursive calls that occurred during execution. Name the attributes `last_time_taken` and `calls`.\n",
        "It is forbidden to use global variables.\n",
        "The decorator must behave in a decent manner, that is, it must not overwrite the function's documentation.\n",
        "\n",
        "For tests write [Ackermann function](https://en.wikipedia.org/wiki/Ackermann_function)"
      ]
    },
    {
      "cell_type": "code",
      "execution_count": null,
      "metadata": {
        "id": "WyJ02jbTVQiu"
      },
      "outputs": [],
      "source": [
        "def profiler():\n",
        "    # your code here\n",
        "    raise NotImplementedError\n",
        "\n",
        "def ackermann(n, m):\n",
        "    # your code here\n",
        "    raise NotImplementedError"
      ]
    },
    {
      "cell_type": "markdown",
      "metadata": {
        "id": "QcjAealUfs2Q"
      },
      "source": [
        "## Exercise 9\n",
        "\n",
        "Write the function `encode` that implements [run-length encoding](https://en.wikipedia.org/wiki/Run-length_encoding) algorithm"
      ]
    },
    {
      "cell_type": "code",
      "execution_count": null,
      "metadata": {
        "id": "tBhwbMm9fsMv"
      },
      "outputs": [],
      "source": [
        "def encode(sequence):\n",
        "    # your code here\n",
        "    raise NotImplementedError"
      ]
    }
  ],
  "metadata": {
    "colab": {
      "collapsed_sections": [],
      "name": "home-assignment04",
      "provenance": []
    },
    "kernelspec": {
      "display_name": "Python 3 (ipykernel)",
      "language": "python",
      "name": "python3"
    },
    "language_info": {
      "codemirror_mode": {
        "name": "ipython",
        "version": 3
      },
      "file_extension": ".py",
      "mimetype": "text/x-python",
      "name": "python",
      "nbconvert_exporter": "python",
      "pygments_lexer": "ipython3",
      "version": "3.8.12"
    }
  },
  "nbformat": 4,
  "nbformat_minor": 0
}