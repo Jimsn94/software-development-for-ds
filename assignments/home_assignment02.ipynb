{
 "cells": [
  {
   "cell_type": "markdown",
   "metadata": {
    "id": "_9j_aLkqSrBi"
   },
   "source": [
    "To generate random data in Python using a [random](https://pynative.com/python/random/) module "
   ]
  },
  {
   "cell_type": "code",
   "execution_count": null,
   "metadata": {
    "id": "xMl6GayDUCB4"
   },
   "outputs": [],
   "source": [
    "import random\n",
    "import math"
   ]
  },
  {
   "cell_type": "markdown",
   "metadata": {
    "id": "QMlUzOq0oAI5"
   },
   "source": [
    "### Exercise 1\n",
    "You have a list a = [1, 1, 2, 3, 5, 6, 13, 21, 34, 55, 89].\n",
    "\n",
    "Print all even elements and sum."
   ]
  },
  {
   "cell_type": "code",
   "execution_count": null,
   "metadata": {
    "id": "rwJIfKOdnfGW"
   },
   "outputs": [],
   "source": [
    "a = [1, 1, 2, 3, 5, 6, 13, 21, 34, 55, 89]\n",
    "# your code here\n"
   ]
  },
  {
   "cell_type": "markdown",
   "metadata": {
    "id": "0PxuwdtZoB9-"
   },
   "source": [
    "### Exercise 2\n",
    "Print a list that consists of the common elements of the two lists."
   ]
  },
  {
   "cell_type": "code",
   "execution_count": null,
   "metadata": {
    "id": "9T9ue6_h-RA0"
   },
   "outputs": [],
   "source": [
    "a = [1, 1, 2, 3, 5, 6, 13, 21, 34, 55, 89]\n",
    "b = [1, 2, 3, 4, 5, 6, 7, 8, 9, 10, 11, 12, 13]\n",
    "# your code here"
   ]
  },
  {
   "cell_type": "markdown",
   "metadata": {
    "id": "D-7vU_xMoGXW"
   },
   "source": [
    "### Exercise 3\n",
    "Print the first n lines of [Pascal's triangle](https://en.wikipedia.org/wiki/Pascal%27s_triangle). The view can be not formatted, that is, just print lines from Pascal's triangle."
   ]
  },
  {
   "cell_type": "code",
   "execution_count": null,
   "metadata": {
    "id": "ORxlMF5XoHaf"
   },
   "outputs": [],
   "source": [
    "n = int(input('Enter the number of lines: '))\n",
    "# your code here"
   ]
  },
  {
   "cell_type": "markdown",
   "metadata": {
    "id": "LZFh27IYoH-M"
   },
   "source": [
    "### Exercise 4\n",
    "Check if the string is a palindrome."
   ]
  },
  {
   "cell_type": "code",
   "execution_count": null,
   "metadata": {
    "id": "dbmC6TJNTERJ"
   },
   "outputs": [],
   "source": [
    "string = input('Enter the string: ')\n",
    "# your code here"
   ]
  },
  {
   "cell_type": "markdown",
   "metadata": {
    "id": "0dG5QsDnoJw4"
   },
   "source": [
    "### Exercise 5\n",
    "Convert seconds to days:hours:minutes:seconds (without using datetime)"
   ]
  },
  {
   "cell_type": "code",
   "execution_count": null,
   "metadata": {
    "id": "riZL3l86TJ2Z"
   },
   "outputs": [],
   "source": [
    "seconds = int(input(\"Number of seconds: \"))\n",
    "# your code here"
   ]
  },
  {
   "cell_type": "code",
   "execution_count": null,
   "metadata": {
    "id": "hZ9eY7HsoKyd"
   },
   "outputs": [],
   "source": []
  },
  {
   "cell_type": "markdown",
   "metadata": {
    "id": "nBVW10zzoLN-"
   },
   "source": [
    "### Exercise 6\n",
    "You accept a comma-separated sequence of numbers from the user. Make a list and tuple of these numbers."
   ]
  },
  {
   "cell_type": "code",
   "execution_count": null,
   "metadata": {
    "id": "x--lqdQOoMSG"
   },
   "outputs": [],
   "source": [
    "sequence = input(\"Enter the sequence: \")\n",
    "# your code here\n"
   ]
  },
  {
   "cell_type": "markdown",
   "metadata": {
    "id": "LX80ZS4VoMt_"
   },
   "source": [
    "### Exercise 7\n",
    "Print the first and last element of a list filled with N random integers."
   ]
  },
  {
   "cell_type": "code",
   "execution_count": null,
   "metadata": {
    "id": "O16WVyH2TfRO"
   },
   "outputs": [],
   "source": [
    "N = int(input())\n",
    "# your code here\n"
   ]
  },
  {
   "cell_type": "markdown",
   "metadata": {
    "id": "RONwF247oOGw"
   },
   "source": [
    "### Exercise 8\n",
    "Print the file extension. If it cannot be determined, print \"no extension\"."
   ]
  },
  {
   "cell_type": "code",
   "execution_count": null,
   "metadata": {
    "id": "zXm-h5SlUPlF"
   },
   "outputs": [],
   "source": [
    "filename = input('File name: \\n')\n",
    "# your code here"
   ]
  },
  {
   "cell_type": "markdown",
   "metadata": {
    "id": "Imewfx3UphZG"
   },
   "source": [
    "### Exercise 9\n",
    "Add up the digits of the given integer."
   ]
  },
  {
   "cell_type": "code",
   "execution_count": null,
   "metadata": {
    "id": "S0prYFkypjMD"
   },
   "outputs": [],
   "source": [
    "x = 12345\n",
    "# your code here\n"
   ]
  },
  {
   "cell_type": "markdown",
   "metadata": {
    "id": "tx0wApZupk05"
   },
   "source": [
    "### Exercise 10\n",
    "Сreate two lists of size 20 containing random integers from the segment [0, 30], prints them to the screen and all elements of the first that are not in the second."
   ]
  },
  {
   "cell_type": "code",
   "execution_count": null,
   "metadata": {
    "id": "MkC_sLdRpoG7"
   },
   "outputs": [],
   "source": [
    "# your code here\n",
    "# lst1 = \n",
    "# lst2 = \n",
    "   "
   ]
  },
  {
   "cell_type": "markdown",
   "metadata": {
    "id": "PO9NF3IBpoxz"
   },
   "source": [
    "### Exercise 11\n",
    "Find the number of divisors of a given integer."
   ]
  },
  {
   "cell_type": "code",
   "execution_count": null,
   "metadata": {
    "executionInfo": {
     "elapsed": 299,
     "status": "ok",
     "timestamp": 1636697358832,
     "user": {
      "displayName": "Илья Склонин",
      "photoUrl": "https://lh3.googleusercontent.com/a-/AOh14GhUvANVFromlHIqSQCbXd0ZcDr9JIJjbuaZr1Zlig=s64",
      "userId": "11017978408778967846"
     },
     "user_tz": -180
    },
    "id": "6pqgc99LprzC"
   },
   "outputs": [],
   "source": [
    "integer = int(input())\n",
    "# your code here\n"
   ]
  },
  {
   "cell_type": "markdown",
   "metadata": {
    "id": "0lMCVueRpsae"
   },
   "source": [
    "### Exercise 12\n",
    "Count input letter in the input string."
   ]
  },
  {
   "cell_type": "code",
   "execution_count": null,
   "metadata": {
    "id": "u-x80kjLQIVg"
   },
   "outputs": [],
   "source": [
    "string = input('string: ')\n",
    "letter = input('letter: ')\n",
    "# your code here\n"
   ]
  },
  {
   "cell_type": "markdown",
   "metadata": {
    "id": "FF0C3-cTp0uy"
   },
   "source": [
    "### Exercise 13\n",
    "Swap the values "
   ]
  },
  {
   "cell_type": "code",
   "execution_count": null,
   "metadata": {
    "id": "KRHJfO1dcwNr"
   },
   "outputs": [],
   "source": [
    "var1 = input()\n",
    "var2 = input()\n",
    "# your code here\n"
   ]
  },
  {
   "cell_type": "markdown",
   "metadata": {
    "id": "I2x5B2_Np9kO"
   },
   "source": [
    "### Exercise 14\n",
    "You need to check if all the numbers in the sequence are unique. The sequence consists of integers entered from the keyboard. The end of the input is the `'#'` symbol."
   ]
  },
  {
   "cell_type": "code",
   "execution_count": null,
   "metadata": {
    "id": "gsiB8H61p_Bb"
   },
   "outputs": [],
   "source": [
    "# your code here\n"
   ]
  },
  {
   "cell_type": "markdown",
   "metadata": {
    "id": "hiPumXgoZtPS"
   },
   "source": [
    "### Exercise 15\n",
    "\n",
    "Create two built-in frozenset objects from strings `'reversed question'` and `'answer'`, and try to make them keys in the dct dictionary for the strings `'? Tesnezorf dna tes neewteb ecnereffid niam eht si tahw'` and **`'<your answer to the question>'`**, respectively. There is no need to reverse the answer. Finally, print out the dct dictionary."
   ]
  },
  {
   "cell_type": "code",
   "execution_count": null,
   "metadata": {
    "id": "raWWJ0h_77_B"
   },
   "outputs": [],
   "source": [
    "dct = {}"
   ]
  },
  {
   "cell_type": "code",
   "execution_count": null,
   "metadata": {
    "id": "1Jp2fm0jaChM"
   },
   "outputs": [],
   "source": [
    "# your code here\n"
   ]
  },
  {
   "cell_type": "markdown",
   "metadata": {
    "id": "wIXXdtGdaMhF"
   },
   "source": [
    "### Exercise 16\n",
    "\n",
    "Find the area of a circle. You can use const `'pi'` from `'math'` module "
   ]
  },
  {
   "cell_type": "code",
   "execution_count": null,
   "metadata": {
    "id": "QGSPfMB-anqX"
   },
   "outputs": [],
   "source": [
    "r = float(input())\n",
    "# your code here\n"
   ]
  },
  {
   "cell_type": "markdown",
   "metadata": {
    "id": "Dj3SgDdLahaZ"
   },
   "source": [
    "### Exercise 17\n",
    "\n",
    "Swap keys and values."
   ]
  },
  {
   "cell_type": "code",
   "execution_count": null,
   "metadata": {
    "colab": {
     "base_uri": "https://localhost:8080/"
    },
    "executionInfo": {
     "elapsed": 234,
     "status": "ok",
     "timestamp": 1636699521235,
     "user": {
      "displayName": "Илья Склонин",
      "photoUrl": "https://lh3.googleusercontent.com/a-/AOh14GhUvANVFromlHIqSQCbXd0ZcDr9JIJjbuaZr1Zlig=s64",
      "userId": "11017978408778967846"
     },
     "user_tz": -180
    },
    "id": "jVi685NrawKc",
    "outputId": "bd0912e5-7e38-4ecc-981a-cc6242cdb5b0"
   },
   "outputs": [],
   "source": [
    "dct = {x: x ** 2 for x in range(10)}\n",
    "dct\n",
    "# your code here\n"
   ]
  },
  {
   "cell_type": "markdown",
   "metadata": {
    "id": "bSkROdzbbDPT"
   },
   "source": [
    "### Exercise 18\n",
    "\n",
    "Create a variable that stores the description of this task as a string, separate the words, and convert to LOWERCASE."
   ]
  },
  {
   "cell_type": "code",
   "execution_count": null,
   "metadata": {
    "id": "QLQuRJ5fbHyG"
   },
   "outputs": [],
   "source": [
    "# your code here\n"
   ]
  },
  {
   "cell_type": "markdown",
   "metadata": {
    "id": "xDwSLToobQIJ"
   },
   "source": [
    "### Exercise 19\n",
    "Print the sorted words from the previous exercise in reverse lexicographical order."
   ]
  },
  {
   "cell_type": "code",
   "execution_count": null,
   "metadata": {
    "id": "QqEMRS9NbST0"
   },
   "outputs": [],
   "source": [
    "# your code here\n"
   ]
  },
  {
   "cell_type": "markdown",
   "metadata": {
    "id": "rO-Amdrhbfc5"
   },
   "source": [
    "### Exercise 20\n",
    "\n",
    "Write code that reverses all odd-numbered elements of lst in reverse order.\n",
    "\n",
    "That is, if lst = [0, 1, 2, 3, 4, 5, 6, 7, 8, 9], then you should get [0, 9, 2, 7, 4, 5, 6, 3, 8, 1]"
   ]
  },
  {
   "cell_type": "code",
   "execution_count": null,
   "metadata": {
    "id": "e3SdQqGLbnI9"
   },
   "outputs": [],
   "source": [
    "# your code here\n"
   ]
  }
 ],
 "metadata": {
  "colab": {
   "collapsed_sections": [],
   "name": "home_assignment_02",
   "provenance": [
    {
     "file_id": "1Xrp3JxkheLxkAY5f7xZ1U90RtnexICQU",
     "timestamp": 1636693755902
    },
    {
     "file_id": "18bbmK2TYy_r3K1Frc9wOVpGv_ZNAImO2",
     "timestamp": 1636476683698
    },
    {
     "file_id": "1v-rKLwgo02lZQEOi3hGw01NFnxA0pSmF",
     "timestamp": 1625665244599
    },
    {
     "file_id": "1aUZJff9pPV4ntzeJ3_GXZtawvMaCPW-V",
     "timestamp": 1609226955665
    }
   ],
   "toc_visible": true
  },
  "kernelspec": {
   "display_name": "Python 3 (ipykernel)",
   "language": "python",
   "name": "python3"
  },
  "language_info": {
   "codemirror_mode": {
    "name": "ipython",
    "version": 3
   },
   "file_extension": ".py",
   "mimetype": "text/x-python",
   "name": "python",
   "nbconvert_exporter": "python",
   "pygments_lexer": "ipython3",
   "version": "3.8.12"
  }
 },
 "nbformat": 4,
 "nbformat_minor": 1
}
