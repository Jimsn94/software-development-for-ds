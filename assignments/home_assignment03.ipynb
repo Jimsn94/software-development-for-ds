{
  "nbformat": 4,
  "nbformat_minor": 0,
  "metadata": {
    "colab": {
      "name": "home-assignment03",
      "provenance": []
    },
    "kernelspec": {
      "name": "python3",
      "display_name": "Python 3"
    },
    "language_info": {
      "name": "python"
    }
  },
  "cells": [
    {
      "cell_type": "markdown",
      "metadata": {
        "id": "Qscqa3B6KDFl"
      },
      "source": [
        "## Content\n",
        "\n",
        "1. <A HREF=\"https://docs.python.org/3/tutorial/datastructures.html#more-on-lists\"> List </A>\n",
        "2. <A HREF=\"https://docs.python.org/3/tutorial/datastructures.html#tuples-and-sequences\"> Tuple </A>\n",
        "3. <A HREF=\"https://docs.python.org/3/tutorial/datastructures.html#dictionaries\"> Dictionary </A>\n",
        "4. <A HREF=\"https://docs.python.org/3/tutorial/datastructures.html#sets\"> Set </A>\n",
        "5. <A HREF=\"https://realpython.com/python-counter/\"> Counter </A>\n",
        "\n",
        "\n"
      ]
    },
    {
      "cell_type": "markdown",
      "metadata": {
        "id": "7LF38xA7LIlT"
      },
      "source": [
        "## <font color=\"green\">1. List</font>"
      ]
    },
    {
      "cell_type": "markdown",
      "metadata": {
        "id": "8-MFZQ3xLIlU"
      },
      "source": [
        "### Exercise 1.1\n",
        "\n",
        "Create `cleared_python_text` by removing all non-letter symbols from the given string `python_text`. Convert to lower case. Create a list of words `python_words`. Print the length of the list.\n",
        "\n",
        "Hints: str.split, str.replace"
      ]
    },
    {
      "cell_type": "code",
      "metadata": {
        "id": "CF2q1lHnLIlU"
      },
      "source": [
        "python_text = \"\"\"\n",
        "Python is an interpreted high-level general-purpose programming language. Python's design \n",
        "philosophy emphasizes code readability with its notable use of significant indentation. Its \n",
        "language constructs as well as its object-oriented approach aim to help programmers write clear, \n",
        "logical code for small and large-scale projects. Python is dynamically-typed and \n",
        "garbage-collected. It supports multiple programming paradigms, including structured (particularly, \n",
        "procedural), object-oriented and functional programming. Python is often described as a \"batteries \n",
        "included\" language due to its comprehensive standard library. Guido van Rossum began working on \n",
        "Python in the late 1980s, as a successor to the ABC programming language, and first released it in \n",
        "1991 as Python 0.9.0. Python 2.0 was released in 2000 and introduced new features, such as list \n",
        "comprehensions and a garbage collection system using reference counting. Python 3.0 was released in \n",
        "2008 and was a major revision of the language that is not completely backward-compatible and much \n",
        "Python 2 code does not run unmodified on Python 3. Python 2 was discontinued with version 2.7.18 in \n",
        "2020. Python consistently ranks as one of the most popular programming \n",
        "languages.\n",
        "\"\"\""
      ],
      "execution_count": null,
      "outputs": []
    },
    {
      "cell_type": "code",
      "metadata": {
        "id": "ymxoyv2ZLIlV"
      },
      "source": [
        "# your code here"
      ],
      "execution_count": null,
      "outputs": []
    },
    {
      "cell_type": "markdown",
      "metadata": {
        "id": "79-KQTeBLIlV"
      },
      "source": [
        "### Exercise 1.2\n",
        "\n",
        "Print all sublists of the list `nucleotides`. Note: [a, c] is a sublist for [a, b, c].\n",
        "\n",
        "Sample input: `[0, 1]`\n",
        "\n",
        "Sample output:\n",
        "*   []\n",
        "*   [0]\n",
        "*   [1]\n",
        "*   [0, 1]\n"
      ]
    },
    {
      "cell_type": "code",
      "metadata": {
        "id": "ucN2IaC0LIlV"
      },
      "source": [
        "nucleotides = ['A', 'T', 'G', 'C']"
      ],
      "execution_count": null,
      "outputs": []
    },
    {
      "cell_type": "code",
      "metadata": {
        "id": "4Idmfd_lLIlV"
      },
      "source": [
        "# your code here"
      ],
      "execution_count": null,
      "outputs": []
    },
    {
      "cell_type": "markdown",
      "metadata": {
        "id": "Pn0BHR1SLIlW"
      },
      "source": [
        "### Exercise 1.3\n",
        "\n",
        "With list comprehensions create matrix $N \\times N$ containing squares of integers starting from $0$. First the first column is filled, then the second, and so on."
      ]
    },
    {
      "cell_type": "code",
      "metadata": {
        "id": "l3V2rBUxLIlW"
      },
      "source": [
        "# your code here"
      ],
      "execution_count": null,
      "outputs": []
    },
    {
      "cell_type": "code",
      "metadata": {
        "id": "9nVsbrfbLIlW"
      },
      "source": [
        "# sample output\n",
        "# [[0, 9, 36]\n",
        "# [1, 16, 49]\n",
        "# [4, 25, 64]]"
      ],
      "execution_count": null,
      "outputs": []
    },
    {
      "cell_type": "markdown",
      "metadata": {
        "id": "wS1oIF_JLIlW"
      },
      "source": [
        "### Exercise 1.4\n",
        "\n",
        "Create 'decoded' list from 'encoded'\n",
        "\n",
        "Example: \n",
        "\n",
        "```encode_list = [0, [1, 2], 4, [1, 0, 3]]```\n",
        "\n",
        "```decode_list = [0, 1, 2, 4, 1, 0, 3]```\n",
        "\n"
      ]
    },
    {
      "cell_type": "code",
      "metadata": {
        "id": "EIGg_nXqLIlW"
      },
      "source": [
        "# your code here"
      ],
      "execution_count": null,
      "outputs": []
    },
    {
      "cell_type": "markdown",
      "metadata": {
        "id": "k0bMk_8KLIlW"
      },
      "source": [
        "## <font color=\"green\">2. Tuple</font>"
      ]
    },
    {
      "cell_type": "markdown",
      "metadata": {
        "id": "_YACckMiLIlW"
      },
      "source": [
        "### Exercise 2.1\n",
        "\n",
        "Convert string to tuple"
      ]
    },
    {
      "cell_type": "code",
      "metadata": {
        "id": "13sUrNX-LIlX"
      },
      "source": [
        "input_str = input('Input string: ')\n",
        "# your code here"
      ],
      "execution_count": null,
      "outputs": []
    },
    {
      "cell_type": "markdown",
      "metadata": {
        "id": "EAMK_9rYLIlX"
      },
      "source": [
        "### Exercise 2.2\n",
        "\n",
        "Calculate the sum and average for each tuple in the given list. Return a list of `(sum, mean)` tuples"
      ]
    },
    {
      "cell_type": "code",
      "metadata": {
        "id": "5iFmMzuELIlX"
      },
      "source": [
        "list_of_tuples = [(1, 2, 6), (2, 3, -6), (3, 4), (2, 2, 2, 2)]\n",
        "# your code here"
      ],
      "execution_count": null,
      "outputs": []
    },
    {
      "cell_type": "markdown",
      "metadata": {
        "id": "6Au2odgSLIlX"
      },
      "source": [
        "### Exercise 2.3\n",
        "\n",
        "Given a list (create one for tests) with strings \"name number\". Return a tuple of tuples (\"name\", number) sorted in decreasing order by number. For same numbers sort alphabetically."
      ]
    },
    {
      "cell_type": "code",
      "metadata": {
        "id": "GtBGv1BlLIlX"
      },
      "source": [
        "# your code here"
      ],
      "execution_count": null,
      "outputs": []
    },
    {
      "cell_type": "markdown",
      "metadata": {
        "id": "ATgzZd6WLIlX"
      },
      "source": [
        "### Exercise 2.4\n",
        "\n",
        "Generate a list with equal length tuples with numbers. Return tuple with element-wise sums.\n",
        "\n",
        "\n",
        "Sample input: ```[(1, 5), (1, 7), (2, 8)]```\n",
        "\n",
        "Sample output: ```(4, 20)```"
      ]
    },
    {
      "cell_type": "code",
      "metadata": {
        "id": "-Tipld8kLIlX"
      },
      "source": [
        "# your code here"
      ],
      "execution_count": null,
      "outputs": []
    },
    {
      "cell_type": "markdown",
      "metadata": {
        "id": "enlKIJDkLIlX"
      },
      "source": [
        "## <font color=\"green\">3. Dictionary</font>"
      ]
    },
    {
      "cell_type": "markdown",
      "metadata": {
        "id": "coPqGYSBLIlX"
      },
      "source": [
        "### Exercise 3.1\n",
        "\n",
        "Write a program to merge several dictionaries into one. If the keys match, then leave the last encountered element."
      ]
    },
    {
      "cell_type": "code",
      "metadata": {
        "id": "it_ThaYBLIlY"
      },
      "source": [
        "dict_1 = {'key1': 10, 'key2': 20}\n",
        "dict_2 = {'key3': 30, 'key4': 40}\n",
        "dict_3 = {'key1': 50, 'key5': 60}\n",
        "\n",
        "# your code here"
      ],
      "execution_count": null,
      "outputs": []
    },
    {
      "cell_type": "markdown",
      "metadata": {
        "id": "4K-2EegRLIlY"
      },
      "source": [
        "### Exercise 3.2\n",
        "\n",
        "Write a program to merge several dictionaries into one. If the keys match, then leave the first encountered element."
      ]
    },
    {
      "cell_type": "code",
      "metadata": {
        "id": "euYkiGj8LIlY"
      },
      "source": [
        "dict_1 = {'key1': 10, 'key2': 20}\n",
        "dict_2 = {'key3': 30, 'key4': 40}\n",
        "dict_3 = {'key1': 50, 'key5': 60}\n",
        "\n",
        "# your code here"
      ],
      "execution_count": null,
      "outputs": []
    },
    {
      "cell_type": "markdown",
      "metadata": {
        "id": "t2pv7UVeLIlY"
      },
      "source": [
        "### Exercise 3.3\n",
        "\n",
        "The input is a string `cleared_python_text`. Print the character dictionary of this string. The value is the number of occurrences. Don't use `collections`"
      ]
    },
    {
      "cell_type": "code",
      "metadata": {
        "id": "1tuOlPH7LIlY"
      },
      "source": [
        "# your code here"
      ],
      "execution_count": null,
      "outputs": []
    },
    {
      "cell_type": "markdown",
      "metadata": {
        "id": "spEaORSrLIlZ"
      },
      "source": [
        "### Exercise 3.4\n",
        "\n",
        "Create dictionary `{\"word\": occurrences}` from `python_words`. Print the most common word and the number of occurrences. Don't use `collections` "
      ]
    },
    {
      "cell_type": "code",
      "metadata": {
        "id": "V2LW4iaHLIlZ"
      },
      "source": [
        "# your code here"
      ],
      "execution_count": null,
      "outputs": []
    },
    {
      "cell_type": "markdown",
      "metadata": {
        "id": "e7LUMPmmLIlZ"
      },
      "source": [
        "## <font color=\"green\">4. Set</font>"
      ]
    },
    {
      "cell_type": "markdown",
      "metadata": {
        "id": "3a4LB09LLIlZ"
      },
      "source": [
        "### Exercise 4.1\n",
        "\n",
        "Input:\n",
        "\n",
        "a = [1, 1, 2, 3, 5, 8, 13, 21, 34, 55, 89];\n",
        "\n",
        "b = [1, 2, 3, 4, 5, 6, 7, 8, 9, 10, 11, 12, 13].\n",
        "\n",
        "Return set of common elements.\n",
        "\n",
        "Hint: theme name)\n"
      ]
    },
    {
      "cell_type": "code",
      "metadata": {
        "id": "isKHuX_Kv3IW"
      },
      "source": [
        "# your code here"
      ],
      "execution_count": null,
      "outputs": []
    },
    {
      "cell_type": "markdown",
      "metadata": {
        "id": "4cJvpteELIlZ"
      },
      "source": [
        "### Exercise 4.2\n",
        "\n",
        "Generate random sequence `numbers` with 20 integers >=0 and < 100. Check if numbers are unic."
      ]
    },
    {
      "cell_type": "code",
      "metadata": {
        "id": "xyENsJSHLIlZ"
      },
      "source": [
        "from random import randint\n",
        "# your code here"
      ],
      "execution_count": null,
      "outputs": []
    },
    {
      "cell_type": "markdown",
      "metadata": {
        "id": "wyY-CaGnLIlZ"
      },
      "source": [
        "### Exercise 4.3\n",
        "\n",
        "Generate two lists like in the previous ex. Print all numbers that meet only once."
      ]
    },
    {
      "cell_type": "code",
      "metadata": {
        "id": "IaSk5w1MLIlZ"
      },
      "source": [
        "# your code here"
      ],
      "execution_count": null,
      "outputs": []
    },
    {
      "cell_type": "markdown",
      "metadata": {
        "id": "cztT97avLIla"
      },
      "source": [
        "### Exercise 4.4\n",
        "\n",
        "Print min and max of the given set."
      ]
    },
    {
      "cell_type": "code",
      "metadata": {
        "id": "6xt0IguPLIla"
      },
      "source": [
        "my_set = {i ** 2 // 5 for i in range(100)}\n",
        "# your code here"
      ],
      "execution_count": null,
      "outputs": []
    },
    {
      "cell_type": "markdown",
      "metadata": {
        "id": "NHBp_qmULIla"
      },
      "source": [
        "## <font color=\"green\">5. Counter</font>"
      ]
    },
    {
      "cell_type": "code",
      "metadata": {
        "id": "gxjWwJnTy5aA"
      },
      "source": [
        "from collections import Counter"
      ],
      "execution_count": null,
      "outputs": []
    },
    {
      "cell_type": "markdown",
      "metadata": {
        "id": "KiHEJRTPLIla"
      },
      "source": [
        "### Exercise 5.1\n",
        "\n",
        "Use Counter to do number 3.3\n"
      ]
    },
    {
      "cell_type": "code",
      "metadata": {
        "id": "TgDB2q_HLIla"
      },
      "source": [
        "# your code here"
      ],
      "execution_count": null,
      "outputs": []
    },
    {
      "cell_type": "markdown",
      "metadata": {
        "id": "ypzIcg0bLIla"
      },
      "source": [
        "### Exercise 5.2\n",
        "\n",
        "Use Counter to do number 3.3"
      ]
    },
    {
      "cell_type": "code",
      "metadata": {
        "id": "SCFbJl4ILIla"
      },
      "source": [
        "# your code here"
      ],
      "execution_count": null,
      "outputs": []
    }
  ]
}