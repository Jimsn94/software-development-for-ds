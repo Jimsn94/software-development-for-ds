{
 "cells": [
  {
   "cell_type": "markdown",
   "metadata": {
    "id": "tc90hDS990zd"
   },
   "source": [
    "<center>\n",
    "<br />\n",
    "<h1>Code optimization, Numpy, cython</h1>\n",
    "<h3>Python</h3>\n",
    "<br />\n",
    "<h4>2020</h4> </center>"
   ]
  },
  {
   "cell_type": "markdown",
   "metadata": {
    "id": "-7hFL4AI90zg"
   },
   "source": [
    "# Matrix"
   ]
  },
  {
   "cell_type": "markdown",
   "metadata": {
    "id": "i3c392TX90zg"
   },
   "source": [
    "Create Matrix class:"
   ]
  },
  {
   "cell_type": "code",
   "execution_count": 1,
   "metadata": {
    "id": "E5xHq-Df90zh"
   },
   "outputs": [],
   "source": [
    "import random\n",
    "\n",
    "class Matrix(list):\n",
    "    @classmethod\n",
    "    def zeros(cls, shape):\n",
    "        return cls([[0] * shape[1] for i in range(shape[0])])\n",
    "\n",
    "    @classmethod\n",
    "    def random(cls, shape):\n",
    "        M, (n_rows, n_cols) = cls(), shape\n",
    "        for i in range(n_rows):\n",
    "            M.append([random.randint(-255, 255)\n",
    "                      for j in range(n_cols)])\n",
    "        return M\n",
    "    \n",
    "    def transpose(self):\n",
    "        n_rows, n_cols = self.shape\n",
    "        return self.__class__(zip(*self))\n",
    "\n",
    "    @property\n",
    "    def shape(self):\n",
    "        return ((0, 0) if not self else\n",
    "                (len(self), len(self[0])))"
   ]
  },
  {
   "cell_type": "markdown",
   "metadata": {
    "id": "Tc7ZD_B990zi"
   },
   "source": [
    "The simplest implementation of matrix multiplication:"
   ]
  },
  {
   "cell_type": "code",
   "execution_count": null,
   "metadata": {
    "id": "mycjxC8p90zj"
   },
   "outputs": [],
   "source": [
    "def matrix_product(X, Y):\n",
    "    n_xrows, n_xcols = X.shape\n",
    "    n_yrows, n_ycols = Y.shape\n",
    "    \n",
    "    assert n_xcols == n_yrows, \"Incompatible matrix dimensions\"\n",
    "    \n",
    "    Z = Matrix.zeros((n_xrows, n_ycols))\n",
    "    \n",
    "    for i in range(n_xrows):\n",
    "        for j in range(n_xcols):\n",
    "            for k in range(n_ycols):\n",
    "                Z[i][k] += X[i][j] * Y[j][k]\n",
    "    return Z\n",
    "\n",
    " "
   ]
  },
  {
   "cell_type": "markdown",
   "metadata": {
    "id": "Cx3Hi9fV90zj"
   },
   "source": [
    "Let's check its correctness:"
   ]
  },
  {
   "cell_type": "code",
   "execution_count": null,
   "metadata": {
    "id": "YDyA_TDn90zk"
   },
   "outputs": [],
   "source": [
    "X = Matrix([[1], [2], [3]])\n",
    "Y = Matrix([[4, 5, 6]])\n",
    "print(matrix_product(X, Y))\n",
    "print(matrix_product(Y, X))\n"
   ]
  },
  {
   "cell_type": "markdown",
   "metadata": {
    "id": "XYwNWTAG90zl"
   },
   "source": [
    "How much time does it take?"
   ]
  },
  {
   "cell_type": "code",
   "execution_count": null,
   "metadata": {
    "id": "hjdyzBtc90zm"
   },
   "outputs": [],
   "source": [
    "def setup(shape=(100, 100)):\n",
    "    X = Matrix.random(shape)\n",
    "    Y = Matrix.random(shape)\n",
    "    return X, Y"
   ]
  },
  {
   "cell_type": "code",
   "execution_count": null,
   "metadata": {
    "id": "LkUAeQk990zm"
   },
   "outputs": [],
   "source": [
    "%%timeit\n",
    "matrix_product(*setup())"
   ]
  },
  {
   "cell_type": "markdown",
   "metadata": {
    "id": "-pxSUns990zp"
   },
   "source": [
    "Woah! Almost an entire second! That's too long. <br>\n",
    "Let's find out where we waste time, for that we can use line_profiler:"
   ]
  },
  {
   "cell_type": "code",
   "execution_count": null,
   "metadata": {
    "collapsed": true,
    "id": "DEJsFOy_90zq"
   },
   "outputs": [],
   "source": [
    "# !pip3 install line_profiler\n",
    "\n",
    "# If failed:\n",
    "# git clone https://github.com/rkern/line_profiler.git\n",
    "# find line_profiler -name '*.pyx' -exec cython {} \\;\n",
    "# cd line_profiler && pip3 install . --user "
   ]
  },
  {
   "cell_type": "code",
   "execution_count": null,
   "metadata": {
    "id": "61P3ocwK90zq"
   },
   "outputs": [],
   "source": [
    "%load_ext line_profiler"
   ]
  },
  {
   "cell_type": "code",
   "execution_count": null,
   "metadata": {
    "id": "AZvKYnQo90zq"
   },
   "outputs": [],
   "source": [
    "%lprun -f matrix_product matrix_product(*setup())"
   ]
  },
  {
   "cell_type": "markdown",
   "metadata": {
    "id": "8uG0cuL990zq"
   },
   "source": [
    "```\n",
    "Timer unit: 1e-06 s\n",
    "\n",
    "Total time: 2.33726 s\n",
    "File: <ipython-input-4-b9cb39bb9b1b>\n",
    "Function: matrix_product at line 1\n",
    "\n",
    "Line #      Hits         Time  Per Hit   % Time  Line Contents\n",
    "==============================================================\n",
    "     1                                           def matrix_product(X, Y):\n",
    "     2         1         13.0     13.0      0.0      n_xrows, n_xcols = X.shape\n",
    "     3         1          4.0      4.0      0.0      n_yrows, n_ycols = Y.shape\n",
    "     4                                               \n",
    "     5         1          2.0      2.0      0.0      assert n_xcols == n_yrows, \"Incompatible matrix dimensions\"\n",
    "     6                                               \n",
    "     7         1        218.0    218.0      0.0      Z = Matrix.zeros((n_xrows, n_ycols))\n",
    "     8                                               \n",
    "     9       101         76.0      0.8      0.0      for i in range(n_xrows):\n",
    "    10     10100       7109.0      0.7      0.3          for j in range(n_xcols):\n",
    "    11   1010000     740164.0      0.7     31.7              for k in range(n_ycols):\n",
    "    12   1000000    1589675.0      1.6     68.0                  Z[i][k] += X[i][j] * Y[j][k]\n",
    "    13         1          1.0      1.0      0.0      return Z\n",
    "```"
   ]
  },
  {
   "cell_type": "markdown",
   "metadata": {
    "id": "igHn0Br990zr"
   },
   "source": [
    "We see that a lot of time is spent on for-loop and getting indexes. What do you think can be improved?"
   ]
  },
  {
   "cell_type": "code",
   "execution_count": null,
   "metadata": {
    "id": "5hfpIF6p90zr"
   },
   "outputs": [],
   "source": [
    "def matrix_product(X, Y):\n",
    "    n_xrows, n_xcols = X.shape\n",
    "    n_yrows, n_ycols = Y.shape\n",
    "    Z = Matrix.zeros((n_xrows, n_ycols))\n",
    "    for i in range(n_xrows):\n",
    "        for j in range(n_xcols):\n",
    "            for k in range(n_ycols):\n",
    "                Z[i][k] += X[i][j] * Y[j][k]\n",
    "    return Z"
   ]
  },
  {
   "cell_type": "code",
   "execution_count": null,
   "metadata": {
    "id": "zViV-TwA90zr"
   },
   "outputs": [],
   "source": [
    "%%timeit\n",
    "matrix_product(*setup())"
   ]
  },
  {
   "cell_type": "markdown",
   "metadata": {
    "id": "V3Yz5-yS90zs"
   },
   "source": [
    "Let's try to remove some element retrieval by index:"
   ]
  },
  {
   "cell_type": "code",
   "execution_count": null,
   "metadata": {
    "id": "wPDpmuMz90zs"
   },
   "outputs": [],
   "source": [
    "def matrix_product2(X, Y):\n",
    "    n_xrows, n_xcols = X.shape\n",
    "    n_yrows, n_ycols = Y.shape\n",
    "    Z = Matrix.zeros((n_xrows, n_ycols))\n",
    "    for i in range(n_xrows):\n",
    "        Xi = X[i]\n",
    "        for k in range(n_ycols):\n",
    "            acc = 0\n",
    "            for j in range(n_xcols):\n",
    "                acc += Xi[j] * Y[j][k]\n",
    "            Z[i][k] = acc\n",
    "    return Z"
   ]
  },
  {
   "cell_type": "code",
   "execution_count": null,
   "metadata": {
    "id": "4d4vZd0K90zs"
   },
   "outputs": [],
   "source": [
    "%%timeit\n",
    "matrix_product2(*setup())"
   ]
  },
  {
   "cell_type": "markdown",
   "metadata": {
    "id": "APA_QEF590zs"
   },
   "source": [
    "2 times faster! Since it became about 2 times less operations of retrieval by index."
   ]
  },
  {
   "cell_type": "code",
   "execution_count": null,
   "metadata": {
    "id": "rwD7cEdL90zs"
   },
   "outputs": [],
   "source": [
    "%lprun -f matrix_product2 matrix_product2(*setup())"
   ]
  },
  {
   "cell_type": "markdown",
   "metadata": {
    "id": "wNdEXzSL90zt"
   },
   "source": [
    "```\n",
    "Timer unit: 1e-06 s\n",
    "\n",
    "Total time: 2.01848 s\n",
    "File: <ipython-input-12-e24c1e2d67bf>\n",
    "Function: matrix_product2 at line 1\n",
    "\n",
    "Line #      Hits         Time  Per Hit   % Time  Line Contents\n",
    "==============================================================\n",
    "     1                                           def matrix_product2(X, Y):\n",
    "     2         1         11.0     11.0      0.0      n_xrows, n_xcols = X.shape\n",
    "     3         1          3.0      3.0      0.0      n_yrows, n_ycols = Y.shape\n",
    "     4         1        109.0    109.0      0.0      Z = Matrix.zeros((n_xrows, n_ycols))\n",
    "     5       101         73.0      0.7      0.0      for i in range(n_xrows):\n",
    "     6       100        102.0      1.0      0.0          Xi = X[i]\n",
    "     7     10100       7580.0      0.8      0.4          for k in range(n_ycols):\n",
    "     8     10000       7562.0      0.8      0.4              acc = 0\n",
    "     9   1010000     738306.0      0.7     36.6              for j in range(n_xcols):\n",
    "    10   1000000    1254721.0      1.3     62.2                  acc += Xi[j] * Y[j][k]\n",
    "    11     10000      10016.0      1.0      0.5              Z[i][k] = acc\n",
    "    12         1          1.0      1.0      0.0      return Z\n",
    "```"
   ]
  },
  {
   "cell_type": "markdown",
   "metadata": {
    "id": "D42JBeNb90zt"
   },
   "source": [
    "Let's go further and try to be even faster!"
   ]
  },
  {
   "cell_type": "code",
   "execution_count": null,
   "metadata": {
    "id": "yPUrPxeu90zt"
   },
   "outputs": [],
   "source": [
    "def matrix_product3(X, Y):\n",
    "    n_xrows, n_xcols = X.shape\n",
    "    n_yrows, n_ycols = Y.shape\n",
    "    Z = Matrix.zeros((n_xrows, n_ycols))\n",
    "    Yt = Y.transpose()  # :)\n",
    "    for i, (Xi, Zi) in enumerate(zip(X, Z)):\n",
    "        for k, Ytk in enumerate(Yt):\n",
    "            getX = Xi.__getitem__\n",
    "            Zi[k] = sum(getX(j) * Ytk[j] for j in range(n_xcols))\n",
    "    return Z"
   ]
  },
  {
   "cell_type": "code",
   "execution_count": null,
   "metadata": {
    "id": "lG_NHAJx90zt"
   },
   "outputs": [],
   "source": [
    "X = [[1],[2],[3]]\n",
    "Y = [[4,5,6]]\n",
    "Z = [[0,0,0],[0,0,0],[0,0,0]]\n",
    "Yt = [[4],[5],[6]]\n",
    "\n",
    "for i, (Xi, Zi) in enumerate(zip(X, Z)):\n",
    "        print((i,Xi,Zi))\n",
    "        for k, Ytk in enumerate(Yt):\n",
    "            print((k,Ytk))"
   ]
  },
  {
   "cell_type": "code",
   "execution_count": null,
   "metadata": {
    "id": "pKbLAmUc90zt"
   },
   "outputs": [],
   "source": [
    "%%timeit\n",
    "matrix_product3(*setup())"
   ]
  },
  {
   "cell_type": "markdown",
   "metadata": {
    "id": "DbIl_rWD90zt"
   },
   "source": [
    "Again almost 2 times faster!"
   ]
  },
  {
   "cell_type": "markdown",
   "metadata": {
    "id": "i0C91bNz90zu"
   },
   "source": [
    "Conclusion: if your code is slow, do not rush to use other frameworks. Often you can speed up your code at times with little manipulation."
   ]
  },
  {
   "cell_type": "markdown",
   "metadata": {
    "id": "d9k6j0l290zu"
   },
   "source": [
    "# Numpy"
   ]
  },
  {
   "cell_type": "markdown",
   "metadata": {
    "id": "YjAjXhPb90zu"
   },
   "source": [
    "Let's try to take our first implementation, but use an array from numpy instead (we'll see how it works later)"
   ]
  },
  {
   "cell_type": "code",
   "execution_count": null,
   "metadata": {
    "id": "Pb6EjId090zu"
   },
   "outputs": [],
   "source": [
    "import numpy as np\n",
    "\n",
    "def np_matrix_product(X, Y):\n",
    "    n_xrows, n_xcols = X.shape\n",
    "    n_yrows, n_ycols = Y.shape\n",
    "    Z = np.zeros((n_xrows, n_ycols), dtype=X.dtype)\n",
    "    for i in range(n_xrows):\n",
    "        for k in range(n_ycols):\n",
    "            for j in range(n_xcols):\n",
    "                Z[i, k] += X[i, j] * Y[j, k]\n",
    "    return Z"
   ]
  },
  {
   "cell_type": "code",
   "execution_count": null,
   "metadata": {
    "id": "mQAIIqBR90zu"
   },
   "outputs": [],
   "source": [
    "def setup_np(shape=(100, 100)):\n",
    "    X = np.random.randint(-255, 255, size=shape)\n",
    "    Y = np.random.randint(-255, 255, size=shape)\n",
    "    return X, Y"
   ]
  },
  {
   "cell_type": "code",
   "execution_count": null,
   "metadata": {
    "id": "Dsmu71La90zu"
   },
   "outputs": [],
   "source": [
    "%timeit np_matrix_product(*setup_np())"
   ]
  },
  {
   "cell_type": "markdown",
   "metadata": {
    "id": "kTg3Fa-f90zu"
   },
   "source": [
    "No profit so far."
   ]
  },
  {
   "cell_type": "code",
   "execution_count": null,
   "metadata": {
    "id": "LCc8Koe890zu"
   },
   "outputs": [],
   "source": [
    "X, Y = setup_np()"
   ]
  },
  {
   "cell_type": "code",
   "execution_count": null,
   "metadata": {
    "id": "t0bvZ91w90zv"
   },
   "outputs": [],
   "source": [
    "%timeit np.dot(X, Y)"
   ]
  },
  {
   "cell_type": "markdown",
   "metadata": {
    "id": "BbQdKxJD90zv"
   },
   "source": [
    "It's getting interesting. Good motivation to learn the numpy module."
   ]
  },
  {
   "cell_type": "markdown",
   "metadata": {
    "id": "Fnww7Rub90zv"
   },
   "source": [
    "## Array"
   ]
  },
  {
   "cell_type": "code",
   "execution_count": null,
   "metadata": {
    "id": "qq7HhVSh90zv"
   },
   "outputs": [],
   "source": [
    "a = np.array([4, 1.1, 2, 3])\n",
    "\n",
    "a[1] = 5\n",
    "\n",
    "print(a.size, a.shape, a.dtype)\n",
    "print(a)"
   ]
  },
  {
   "cell_type": "markdown",
   "metadata": {
    "id": "OtK628kP90zv"
   },
   "source": [
    "You can see that the array is effectively stored in memory:"
   ]
  },
  {
   "cell_type": "code",
   "execution_count": null,
   "metadata": {
    "id": "hFTLkowp90zv"
   },
   "outputs": [],
   "source": [
    "print(a.nbytes)\n",
    "a = np.array([4,1.1,2])\n",
    "print(a.nbytes)"
   ]
  },
  {
   "cell_type": "markdown",
   "metadata": {
    "id": "Hp3xdV2K90zv"
   },
   "source": [
    "Shape can be changed:"
   ]
  },
  {
   "cell_type": "code",
   "execution_count": null,
   "metadata": {
    "id": "MDpm4kyF90zv"
   },
   "outputs": [],
   "source": [
    "a = np.array([4, 1.1, 2, 3])\n",
    "\n",
    "a[1] = 5\n",
    "\n",
    "a.shape = (2, 2)\n",
    "a"
   ]
  },
  {
   "cell_type": "markdown",
   "metadata": {
    "id": "4CiTYcnw90zv"
   },
   "source": [
    "An array is of one type. If you create differently typed elements, they all will be cast to the same type."
   ]
  },
  {
   "cell_type": "code",
   "execution_count": null,
   "metadata": {
    "id": "6RguwZ6i90zv"
   },
   "outputs": [],
   "source": [
    "np.array([4, 1.1, 2, 3, \"string\"])"
   ]
  },
  {
   "cell_type": "markdown",
   "metadata": {
    "id": "bxlrH7O890zw"
   },
   "source": [
    "## UFuncs"
   ]
  },
  {
   "cell_type": "markdown",
   "metadata": {
    "id": "FF9Iax8g90zw"
   },
   "source": [
    "UFuncs (universal functions) are functions that work element by element."
   ]
  },
  {
   "cell_type": "code",
   "execution_count": null,
   "metadata": {
    "id": "ysAozgdy90zw"
   },
   "outputs": [],
   "source": [
    "a = range(4)\n",
    "b = [value + 1 for value in a]\n",
    "print(b)"
   ]
  },
  {
   "cell_type": "markdown",
   "metadata": {
    "id": "__ue1dnM90zw"
   },
   "source": [
    "In numpy:"
   ]
  },
  {
   "cell_type": "code",
   "execution_count": null,
   "metadata": {
    "id": "4Drxqvgl90zw"
   },
   "outputs": [],
   "source": [
    "a = np.arange(4)\n",
    "b = a + 1\n",
    "print(b)"
   ]
  },
  {
   "cell_type": "markdown",
   "metadata": {
    "id": "RAAXWcv490zw"
   },
   "source": [
    "The addition of two arrays."
   ]
  },
  {
   "cell_type": "code",
   "execution_count": null,
   "metadata": {
    "id": "k3yptloD90zw"
   },
   "outputs": [],
   "source": [
    "count = int(1e7)\n",
    "a, b = [random.random() for _ in range(count)], [random.random() for _ in range(count)]\n",
    "\n",
    "%timeit [i + j for (i, j) in zip(a, b)]"
   ]
  },
  {
   "cell_type": "code",
   "execution_count": null,
   "metadata": {
    "id": "6tolbFuo90zw"
   },
   "outputs": [],
   "source": [
    "a, b = np.array(a), np.array(b)\n",
    "%timeit a + b"
   ]
  },
  {
   "cell_type": "markdown",
   "metadata": {
    "id": "6JF5Rr4O90zw"
   },
   "source": [
    "It's because numpy is written in c."
   ]
  },
  {
   "cell_type": "markdown",
   "metadata": {
    "id": "FpUEMeoH90zw"
   },
   "source": [
    "Other UFuncs"
   ]
  },
  {
   "cell_type": "code",
   "execution_count": null,
   "metadata": {
    "id": "f7qFXIYq90zw"
   },
   "outputs": [],
   "source": [
    "def slow():\n",
    "    a = range(10000)\n",
    "    return [i ** 2 for i in a]\n",
    "\n",
    "%timeit slow()"
   ]
  },
  {
   "cell_type": "code",
   "execution_count": null,
   "metadata": {
    "id": "c7Yay5Cj90zx"
   },
   "outputs": [],
   "source": [
    "def fast():\n",
    "    a = np.arange(10000)\n",
    "    return a ** 2\n",
    "\n",
    "%timeit fast()"
   ]
  },
  {
   "cell_type": "markdown",
   "metadata": {
    "id": "kc21nc8P90zx"
   },
   "source": [
    "There are many other UFuncs: arithmetic operations, bitwise, comparisons, trigonometric, etc."
   ]
  },
  {
   "cell_type": "markdown",
   "metadata": {
    "id": "DzNiSMGn90zx"
   },
   "source": [
    "## Aggregation"
   ]
  },
  {
   "cell_type": "markdown",
   "metadata": {
    "id": "q5AbLcSh90zx"
   },
   "source": [
    "Numpy has many built-in aggregation functions"
   ]
  },
  {
   "cell_type": "markdown",
   "metadata": {
    "id": "ysbRWqAf90zx"
   },
   "source": [
    "<img src=\"aggregations.png\" width=600px>"
   ]
  },
  {
   "cell_type": "code",
   "execution_count": null,
   "metadata": {
    "id": "0u_coGs290zx"
   },
   "outputs": [],
   "source": [
    "data = [random.random() for _ in range(1000000)]\n",
    "%timeit min(data)"
   ]
  },
  {
   "cell_type": "code",
   "execution_count": null,
   "metadata": {
    "id": "yz5rLVP-90zx"
   },
   "outputs": [],
   "source": [
    "np_data = np.array(data)\n",
    "%timeit np.min(np_data)"
   ]
  },
  {
   "cell_type": "markdown",
   "metadata": {
    "id": "BSndnPX190zx"
   },
   "source": [
    "## Indexing"
   ]
  },
  {
   "cell_type": "markdown",
   "metadata": {
    "id": "_VU4nkBp90zx"
   },
   "source": [
    "There are all basic slices and indexes. But there are many additional tasty features:"
   ]
  },
  {
   "cell_type": "code",
   "execution_count": null,
   "metadata": {
    "id": "ua4MzOW690zx"
   },
   "outputs": [],
   "source": [
    "X = np.arange(6).reshape((2, 3))\n",
    "X"
   ]
  },
  {
   "cell_type": "code",
   "execution_count": null,
   "metadata": {
    "id": "747ofIQ490zx"
   },
   "outputs": [],
   "source": [
    "X[1]"
   ]
  },
  {
   "cell_type": "code",
   "execution_count": null,
   "metadata": {
    "id": "U8QVtn1q90zx"
   },
   "outputs": [],
   "source": [
    "X[0, 1]"
   ]
  },
  {
   "cell_type": "code",
   "execution_count": null,
   "metadata": {
    "id": "Y38tzpDI90zx"
   },
   "outputs": [],
   "source": [
    "z = X[:1, 1:]\n",
    "z"
   ]
  },
  {
   "cell_type": "markdown",
   "metadata": {
    "id": "VaM5BDJz90zy"
   },
   "source": [
    "Unlike with standard lists, numpy slices are not copies and you can change the initial list."
   ]
  },
  {
   "cell_type": "code",
   "execution_count": null,
   "metadata": {
    "collapsed": true,
    "id": "6Xz2Hsp690zy"
   },
   "outputs": [],
   "source": [
    "z[:1, :1] = 100"
   ]
  },
  {
   "cell_type": "code",
   "execution_count": null,
   "metadata": {
    "id": "QPy_xSPP90zy"
   },
   "outputs": [],
   "source": [
    "X"
   ]
  },
  {
   "cell_type": "markdown",
   "metadata": {
    "id": "Hf2HqII190zy"
   },
   "source": [
    "### Masking"
   ]
  },
  {
   "cell_type": "code",
   "execution_count": null,
   "metadata": {
    "id": "WiRiWQBu90zy"
   },
   "outputs": [],
   "source": [
    "a = np.arange(8) ** 2\n",
    "a[a > 8]"
   ]
  },
  {
   "cell_type": "markdown",
   "metadata": {
    "id": "Ss8khUNP90zy"
   },
   "source": [
    "This works because numpy.array supports boolean mask indexing:"
   ]
  },
  {
   "cell_type": "code",
   "execution_count": null,
   "metadata": {
    "id": "DoU_QynR90zy"
   },
   "outputs": [],
   "source": [
    "a > 8"
   ]
  },
  {
   "cell_type": "markdown",
   "metadata": {
    "id": "Y2RfVxRB90zy"
   },
   "source": [
    "You can also use an array of indices:"
   ]
  },
  {
   "cell_type": "code",
   "execution_count": null,
   "metadata": {
    "id": "yLF0juNf90zy"
   },
   "outputs": [],
   "source": [
    "a = np.arange(4) * 2\n",
    "print(a)\n",
    "a[[3, 3, 2, 2, 0, 0, 1, 1]]"
   ]
  },
  {
   "cell_type": "markdown",
   "metadata": {
    "id": "byDiYBKO90zy"
   },
   "source": [
    "## Broadcasting\n",
    "Or automatic casting of dimensions."
   ]
  },
  {
   "cell_type": "markdown",
   "metadata": {
    "id": "NSiJ4dRJ90zy"
   },
   "source": [
    "You can stack arrays of different sizes where it makes sense:"
   ]
  },
  {
   "cell_type": "code",
   "execution_count": null,
   "metadata": {
    "id": "5WydOHPZ90zy"
   },
   "outputs": [],
   "source": [
    "a = np.arange(3)"
   ]
  },
  {
   "cell_type": "code",
   "execution_count": null,
   "metadata": {
    "id": "7es7dDcF90zy"
   },
   "outputs": [],
   "source": [
    "b = np.array(((0, 0, 0), (10, 10, 10), (20, 20, 20), (30, 30, 30)))\n",
    "b"
   ]
  },
  {
   "cell_type": "code",
   "execution_count": null,
   "metadata": {
    "id": "e0C4UnrX90zy"
   },
   "outputs": [],
   "source": [
    "b + a"
   ]
  },
  {
   "cell_type": "markdown",
   "metadata": {
    "id": "1U2lBj3Y90zy"
   },
   "source": [
    "<img src=\"https://i.stack.imgur.com/JcKv1.png\" width=900px/>"
   ]
  },
  {
   "cell_type": "markdown",
   "metadata": {
    "id": "wobKkDjc90zz"
   },
   "source": [
    "But it does not always work as we would like:"
   ]
  },
  {
   "cell_type": "code",
   "execution_count": null,
   "metadata": {
    "id": "q1g1w1yp90zz"
   },
   "outputs": [],
   "source": [
    "X = np.arange(6).reshape((3, 2))\n",
    "X"
   ]
  },
  {
   "cell_type": "code",
   "execution_count": null,
   "metadata": {
    "id": "6wPNrEMe90zz"
   },
   "outputs": [],
   "source": [
    "X + np.array([1, 2, 3])"
   ]
  },
  {
   "cell_type": "markdown",
   "metadata": {
    "id": "2IHJFzNp90zz"
   },
   "source": [
    "Of course, we understand what was meant, but numpy did not understand. We will tell him:"
   ]
  },
  {
   "cell_type": "code",
   "execution_count": null,
   "metadata": {
    "id": "moeaO0E890zz"
   },
   "outputs": [],
   "source": [
    "Y = np.array((1, 2, 3))[:, np.newaxis]  # reorient array\n",
    "print(Y.shape)\n",
    "print(Y)"
   ]
  },
  {
   "cell_type": "code",
   "execution_count": null,
   "metadata": {
    "id": "Z3Ryh5jH90zz"
   },
   "outputs": [],
   "source": [
    "X + Y"
   ]
  },
  {
   "cell_type": "markdown",
   "metadata": {
    "id": "SJVE97RV90zz"
   },
   "source": [
    "Conclusion: Loops in python are slow. It is worth using the built-in numpy functions soo the code is more understandable and significant acceleration is gained."
   ]
  },
  {
   "cell_type": "markdown",
   "metadata": {
    "id": "wFSN6Swq90zz"
   },
   "source": [
    "# Cython \n",
    "Yet another way to optimize your code"
   ]
  },
  {
   "cell_type": "markdown",
   "metadata": {
    "id": "-79KfbBD90zz"
   },
   "source": [
    "The Cython compiler translates a program written in Python or Cython into more efficient C code"
   ]
  },
  {
   "cell_type": "markdown",
   "metadata": {
    "id": "BL8h-fTo90zz"
   },
   "source": [
    "Cython is a Python add-on, supporting C function calls and assignment C language data type variables"
   ]
  },
  {
   "cell_type": "markdown",
   "metadata": {
    "id": "rh1hSVPw90zz"
   },
   "source": [
    "Let's see how it works. Let's create a couple of functions in pure python:"
   ]
  },
  {
   "cell_type": "code",
   "execution_count": null,
   "metadata": {
    "id": "RalTOXYy90zz"
   },
   "outputs": [],
   "source": [
    "def f(x):\n",
    "    return x**2\n",
    "\n",
    "def integrate_f(a, b, N):\n",
    "    s = 0\n",
    "    dx = (b - a) / N\n",
    "    for i in range(N):\n",
    "        s += f(a + i * dx)\n",
    "    return s * dx"
   ]
  },
  {
   "cell_type": "code",
   "execution_count": null,
   "metadata": {
    "id": "u4D1HwNF90zz"
   },
   "outputs": [],
   "source": [
    "%%timeit\n",
    "integrate_f(0, 10, 1000000)"
   ]
  },
  {
   "cell_type": "markdown",
   "metadata": {
    "id": "FH_e6yCD90zz"
   },
   "source": [
    "Enabling Cython magic:"
   ]
  },
  {
   "cell_type": "code",
   "execution_count": null,
   "metadata": {
    "id": "BvcpB9G990zz"
   },
   "outputs": [],
   "source": [
    "%load_ext Cython"
   ]
  },
  {
   "cell_type": "code",
   "execution_count": null,
   "metadata": {
    "id": "dzBjwVdv90z0"
   },
   "outputs": [],
   "source": [
    "%%cython -a \n",
    "def f(x):\n",
    "    return x**2\n",
    "\n",
    "def integrate_f2(a, b, N):\n",
    "    s = 0\n",
    "    dx = (b - a) / N\n",
    "    for i in range(N):\n",
    "        s += f(a + i * dx)\n",
    "    return s * dx"
   ]
  },
  {
   "cell_type": "markdown",
   "metadata": {
    "id": "u-9PFj0z90z0"
   },
   "source": [
    "Cython is trying to determine variable types and due to this speed up. But those lines of code where he could not establish the type are highlighted in yellow. Almost everything is yellow."
   ]
  },
  {
   "cell_type": "code",
   "execution_count": null,
   "metadata": {
    "id": "TxJkmjuT90z0"
   },
   "outputs": [],
   "source": [
    "%%timeit\n",
    "integrate_f2(0, 10, 1000000)"
   ]
  },
  {
   "cell_type": "markdown",
   "metadata": {
    "id": "dVaDjnGl90z0"
   },
   "source": [
    "It's a bit faster, but we can do better."
   ]
  },
  {
   "cell_type": "markdown",
   "metadata": {
    "id": "lFnS9Gy990z0"
   },
   "source": [
    "Let's apply static typing:"
   ]
  },
  {
   "cell_type": "code",
   "execution_count": null,
   "metadata": {
    "id": "w54JSlwi90z0"
   },
   "outputs": [],
   "source": [
    "%%cython -a \n",
    "def f(double x):\n",
    "    return x**2\n",
    "\n",
    "def integrate_f3(double a, double b, int N):\n",
    "    cdef int i\n",
    "    cdef double s, dx\n",
    "    s = 0\n",
    "    dx = (b - a) / N\n",
    "    for i in range(N):  # when i is defined as int the loop is compiled into pure C code\n",
    "        s += f(a + i * dx)\n",
    "    return s * dx"
   ]
  },
  {
   "cell_type": "code",
   "execution_count": null,
   "metadata": {
    "id": "V-vfdzJq90z0"
   },
   "outputs": [],
   "source": [
    "%%timeit\n",
    "integrate_f3(0, 10, 1000000)"
   ]
  },
  {
   "cell_type": "markdown",
   "metadata": {
    "id": "i9h-7i9X90z0"
   },
   "source": [
    "Function calls in python can be expensive. For example, in the last example, there was a recurrent conversion from C double to Python float. \n",
    "\n",
    "Let's change the prototype of the function f:"
   ]
  },
  {
   "cell_type": "code",
   "execution_count": null,
   "metadata": {
    "id": "2bU31NCA90z0"
   },
   "outputs": [],
   "source": [
    "%%cython -a \n",
    "cdef double f2(double x):\n",
    "    return x**2\n",
    "\n",
    "cdef double integrate_f4(double a, double b, int N):\n",
    "    cdef int i\n",
    "    cdef double s, dx\n",
    "    s = 0\n",
    "    dx = (b - a) / N\n",
    "    for i in range(N):  # when i is defined as int the loop is compiled into pure C code\n",
    "        s += f2(a + i * dx)\n",
    "    return s * dx"
   ]
  },
  {
   "cell_type": "code",
   "execution_count": null,
   "metadata": {
    "id": "vdvLew5190z0"
   },
   "outputs": [],
   "source": [
    "%%timeit\n",
    "integrate_f4(0, 10, 1000000)"
   ]
  },
  {
   "cell_type": "markdown",
   "metadata": {
    "id": "0oorLtdg90z0"
   },
   "source": [
    "Let's compare with numpy"
   ]
  },
  {
   "cell_type": "code",
   "execution_count": null,
   "metadata": {
    "id": "_0ecRjhS90z0"
   },
   "outputs": [],
   "source": [
    "%%timeit\n",
    "x = np.linspace(0, 10, 1000000)\n",
    "(x**2).sum() / 100000"
   ]
  },
  {
   "cell_type": "markdown",
   "metadata": {
    "id": "_2i0QyqO90z1"
   },
   "source": [
    "With Cython you can achieve more than with numpy!"
   ]
  },
  {
   "cell_type": "markdown",
   "metadata": {
    "id": "h-Lw9bGO90z1"
   },
   "source": [
    "## Matrix\n",
    "Back to our Matrix example"
   ]
  },
  {
   "cell_type": "code",
   "execution_count": null,
   "metadata": {
    "id": "6bd7YOq_90z1"
   },
   "outputs": [],
   "source": [
    "%%cython -a \n",
    "import random\n",
    "\n",
    "class Matrix(list):\n",
    "    @classmethod\n",
    "    def zeros(cls, shape):\n",
    "        n_rows, n_cols = shape\n",
    "        return cls([[0] * n_cols for i in range(n_rows)])\n",
    "\n",
    "    @classmethod\n",
    "    def random(cls, shape):\n",
    "        M, (n_rows, n_cols) = cls(), shape\n",
    "        for i in range(n_rows):\n",
    "            M.append([random.randint(-255, 255)\n",
    "                      for j in range(n_cols)])\n",
    "        return M\n",
    "\n",
    "    def transpose(self):\n",
    "        n_rows, n_cols = self.shape\n",
    "        return self.__class__(zip(*self))\n",
    "\n",
    "    @property\n",
    "    def shape(self):\n",
    "        return ((0, 0) if not self else\n",
    "                (int(len(self)), int(len(self[0]))))\n",
    "\n",
    "\n",
    "def cy_matrix_product(X, Y):\n",
    "    n_xrows, n_xcols = X.shape\n",
    "    n_yrows, n_ycols = Y.shape\n",
    "    Z = Matrix.zeros((n_xrows, n_ycols))\n",
    "    Yt = Y.transpose()\n",
    "    for i, Xi in enumerate(X):\n",
    "        for k, Ytk in enumerate(Yt):\n",
    "            Z[i][k] = sum(Xi[j] * Ytk[j] for j in range(n_xcols))\n",
    "    return Z\n"
   ]
  },
  {
   "cell_type": "markdown",
   "metadata": {
    "id": "FdKx1JYD90z1"
   },
   "source": [
    "The whole thing is yellow!"
   ]
  },
  {
   "cell_type": "code",
   "execution_count": null,
   "metadata": {
    "id": "BF4w3NA290z1"
   },
   "outputs": [],
   "source": [
    "shape = (100, 100)"
   ]
  },
  {
   "cell_type": "code",
   "execution_count": null,
   "metadata": {
    "id": "tU-MBu_090z1"
   },
   "outputs": [],
   "source": [
    "X = Matrix.random(shape)\n",
    "Y = Matrix.random(shape)"
   ]
  },
  {
   "cell_type": "code",
   "execution_count": null,
   "metadata": {
    "id": "osInI9k-90z1"
   },
   "outputs": [],
   "source": [
    "%timeit cy_matrix_product(X, Y)"
   ]
  },
  {
   "cell_type": "markdown",
   "metadata": {
    "id": "f_YW6NHS90z1"
   },
   "source": [
    "It is faster than our Python implementation, but so far it does not reach the numpy version. <br>\n",
    "Let's try to tell cython what types we use, maybe it will be faster."
   ]
  },
  {
   "cell_type": "code",
   "execution_count": null,
   "metadata": {
    "id": "42WNNDuJ90z1"
   },
   "outputs": [],
   "source": [
    "X = np.random.randint(-255, 255, size=shape, dtype=np.int64)\n",
    "Y = np.random.randint(-255, 255, size=shape, dtype=np.int64)"
   ]
  },
  {
   "cell_type": "code",
   "execution_count": null,
   "metadata": {
    "id": "Gmdf-Htq90z1"
   },
   "outputs": [],
   "source": [
    "%%cython -a\n",
    "import numpy as np\n",
    "\n",
    "def cy_matrix_product(X, Y):\n",
    "    n_xrows, n_xcols = X.shape\n",
    "    n_yrows, n_ycols = Y.shape\n",
    "    Z = np.zeros((n_xrows, n_ycols), dtype=X.dtype)\n",
    "    for i in range(n_xrows):\n",
    "        for k in range(n_ycols):\n",
    "            for j in range(n_xcols):\n",
    "                Z[i, k] += X[i, j] * Y[j, k]\n",
    "    return Z"
   ]
  },
  {
   "cell_type": "code",
   "execution_count": null,
   "metadata": {
    "id": "3UhGA1i-90z1"
   },
   "outputs": [],
   "source": [
    "%timeit cy_matrix_product(X, Y)"
   ]
  },
  {
   "cell_type": "markdown",
   "metadata": {
    "id": "glsdO9jX90z1"
   },
   "source": [
    "Now it's worse!\n",
    "\n",
    "Cython can't work with Python imports and now it's required to ask python for every little snippet of code."
   ]
  },
  {
   "cell_type": "markdown",
   "metadata": {
    "id": "yxqQUz7O90z1"
   },
   "source": [
    "Let's explain data types for Cython explicitly."
   ]
  },
  {
   "cell_type": "code",
   "execution_count": null,
   "metadata": {
    "id": "ORvnNU1p90z2"
   },
   "outputs": [],
   "source": [
    "%%cython -a\n",
    "import numpy as np\n",
    "cimport numpy as np\n",
    "\n",
    "def cy_matrix_product2(np.ndarray X, np.ndarray Y):\n",
    "    cdef int n_xrows = X.shape[0]\n",
    "    cdef int n_xcols = X.shape[1]\n",
    "    cdef int n_yrows = Y.shape[0]\n",
    "    cdef int n_ycols = Y.shape[1]\n",
    "    cdef np.ndarray Z\n",
    "    Z = np.zeros((n_xrows, n_ycols), dtype=X.dtype)\n",
    "    for i in range(n_xrows):\n",
    "        for k in range(n_ycols):\n",
    "            for j in range(n_xcols):\n",
    "                Z[i, k] += X[i, j] * Y[j, k]\n",
    "    return Z"
   ]
  },
  {
   "cell_type": "code",
   "execution_count": null,
   "metadata": {
    "id": "QQUlGvc390z2"
   },
   "outputs": [],
   "source": [
    "%timeit  cy_matrix_product2(X, Y)"
   ]
  },
  {
   "cell_type": "markdown",
   "metadata": {
    "id": "A6JT5eD990z2"
   },
   "source": [
    "It seems that cython now understands more, but it's still slow, since the main parts are still not clear."
   ]
  },
  {
   "cell_type": "markdown",
   "metadata": {
    "id": "S7Fyq6bg90z2"
   },
   "source": [
    "Let's add static typing for input values - now our function takes only values of a specified type."
   ]
  },
  {
   "cell_type": "code",
   "execution_count": null,
   "metadata": {
    "id": "M4VoDxoo90z2"
   },
   "outputs": [],
   "source": [
    "%%cython -a\n",
    "import numpy as np\n",
    "cimport numpy as np  # Not every module may be imported like this\n",
    "\n",
    "\n",
    "def cy_matrix_product3(np.ndarray[np.int64_t, ndim=2] X,\n",
    "                      np.ndarray[np.int64_t, ndim=2] Y):\n",
    "    cdef int n_xrows = X.shape[0]\n",
    "    cdef int n_xcols = X.shape[1]\n",
    "    cdef int n_yrows = Y.shape[0]\n",
    "    cdef int n_ycols = Y.shape[1]\n",
    "    cdef np.ndarray[np.int64_t, ndim=2] Z = \\\n",
    "        np.zeros((n_xrows, n_ycols), dtype=np.int64)\n",
    "    for i in range(n_xrows):\n",
    "        for k in range(n_ycols):\n",
    "            for j in range(n_xcols):\n",
    "                Z[i, k] += X[i, j] * Y[j, k]\n",
    "    return Z"
   ]
  },
  {
   "cell_type": "code",
   "execution_count": null,
   "metadata": {
    "id": "x7mZefFg90z2"
   },
   "outputs": [],
   "source": [
    "%timeit cy_matrix_product3(X, Y)"
   ]
  },
  {
   "cell_type": "markdown",
   "metadata": {
    "id": "wIYrKwtA90z2"
   },
   "source": [
    "Well, now we’ll add quite a bit of black magic. <br>\n",
    "Add decorators that check the boundaries of arrays and type overflows."
   ]
  },
  {
   "cell_type": "code",
   "execution_count": null,
   "metadata": {
    "id": "gBrDLr6d90z2"
   },
   "outputs": [],
   "source": [
    "%%cython -a\n",
    "import numpy as np\n",
    "\n",
    "cimport cython\n",
    "cimport numpy as np\n",
    "\n",
    "@cython.boundscheck(False)\n",
    "@cython.overflowcheck(False)\n",
    "def cy_matrix_product4(np.ndarray[np.int64_t, ndim=2] X, \n",
    "                      np.ndarray[np.int64_t, ndim=2] Y):\n",
    "    cdef int n_xrows = X.shape[0]\n",
    "    cdef int n_xcols = X.shape[1]\n",
    "    cdef int n_yrows = Y.shape[0]\n",
    "    cdef int n_ycols = Y.shape[1]\n",
    "    cdef np.ndarray[np.int64_t, ndim=2] Z = \\\n",
    "        np.zeros((n_xrows, n_ycols), dtype=np.int64)\n",
    "    for i in range(n_xrows):        \n",
    "        for k in range(n_ycols):\n",
    "            for j in range(n_xcols):\n",
    "                Z[i, k] += X[i, j] * Y[j, k]\n",
    "    return Z"
   ]
  },
  {
   "cell_type": "code",
   "execution_count": null,
   "metadata": {
    "id": "dif689mp90z2"
   },
   "outputs": [],
   "source": [
    "%timeit cy_matrix_product4(X, Y)"
   ]
  },
  {
   "cell_type": "markdown",
   "metadata": {
    "id": "KYmGmP_V90z2"
   },
   "source": [
    "Profit."
   ]
  },
  {
   "cell_type": "markdown",
   "metadata": {
    "id": "JDOECiKP90z2"
   },
   "source": [
    "# Memory Usage (just in case)"
   ]
  },
  {
   "cell_type": "code",
   "execution_count": null,
   "metadata": {
    "id": "DLTywoE990z3"
   },
   "outputs": [],
   "source": [
    "#!pip install memory_profiler"
   ]
  },
  {
   "cell_type": "code",
   "execution_count": null,
   "metadata": {
    "id": "sSENyYsf90z3"
   },
   "outputs": [],
   "source": [
    "%load_ext memory_profiler"
   ]
  },
  {
   "cell_type": "markdown",
   "metadata": {
    "id": "v_R-iDae90z3"
   },
   "source": [
    "## 1) memit"
   ]
  },
  {
   "cell_type": "code",
   "execution_count": null,
   "metadata": {
    "id": "CDiuWqbR90z3"
   },
   "outputs": [],
   "source": [
    "%%memit\n",
    "a = [0] * 2*10**8\n",
    "del a"
   ]
  },
  {
   "cell_type": "markdown",
   "metadata": {
    "id": "4bAlkxCd90z3"
   },
   "source": [
    "## 2.1) jupyter mprun"
   ]
  },
  {
   "cell_type": "code",
   "execution_count": null,
   "metadata": {
    "id": "R1CYfNVH90z3"
   },
   "outputs": [],
   "source": [
    "def my_func():\n",
    "    a = [1] * 1000000\n",
    "    b = [2] * 9000000\n",
    "    del b\n",
    "    return a\n",
    "\n",
    "%mprun -T mprof0 -f my_func my_func()"
   ]
  },
  {
   "cell_type": "code",
   "execution_count": null,
   "metadata": {
    "id": "M-dSVdtC90z3"
   },
   "outputs": [],
   "source": [
    "%%writefile memscript.py\n",
    "def my_func():\n",
    "    a = [1] * 1000000\n",
    "    b = [2] * 9000000\n",
    "    del b\n",
    "    return a"
   ]
  },
  {
   "cell_type": "code",
   "execution_count": null,
   "metadata": {
    "id": "6U4xDXWT90z3"
   },
   "outputs": [],
   "source": [
    "from memscript import my_func\n",
    "%mprun -T mprof0 -f my_func my_func()"
   ]
  },
  {
   "cell_type": "code",
   "execution_count": null,
   "metadata": {
    "id": "lrTjwCdl90z3"
   },
   "outputs": [],
   "source": [
    "!cat mprof0"
   ]
  },
  {
   "cell_type": "markdown",
   "metadata": {
    "id": "t7223NH790z3"
   },
   "source": [
    "## 2.2) Terminal mprun"
   ]
  },
  {
   "cell_type": "code",
   "execution_count": null,
   "metadata": {
    "id": "6mDDKOfU90z3"
   },
   "outputs": [],
   "source": [
    "%%writefile memscript2.py\n",
    "@profile\n",
    "def my_func():\n",
    "    a = [1] * 1000000\n",
    "    b = [2] * 9000000\n",
    "    del b\n",
    "    return a\n",
    "\n",
    "my_func()"
   ]
  },
  {
   "cell_type": "code",
   "execution_count": null,
   "metadata": {
    "id": "UGqqw2Qy90z3"
   },
   "outputs": [],
   "source": [
    "!cat memscript2.py"
   ]
  },
  {
   "cell_type": "code",
   "execution_count": null,
   "metadata": {
    "id": "0216DX6m90z4"
   },
   "outputs": [],
   "source": [
    "!python -m memory_profiler memscript2"
   ]
  },
  {
   "cell_type": "code",
   "execution_count": null,
   "metadata": {
    "id": "UpFC-mmR90z4"
   },
   "outputs": [],
   "source": []
  }
 ],
 "metadata": {
  "celltoolbar": "Slideshow",
  "colab": {
   "name": "session10-numpy-cython",
   "provenance": []
  },
  "kernelspec": {
   "display_name": "Python 3 (ipykernel)",
   "language": "python",
   "name": "python3"
  },
  "language_info": {
   "codemirror_mode": {
    "name": "ipython",
    "version": 3
   },
   "file_extension": ".py",
   "mimetype": "text/x-python",
   "name": "python",
   "nbconvert_exporter": "python",
   "pygments_lexer": "ipython3",
   "version": "3.8.12"
  }
 },
 "nbformat": 4,
 "nbformat_minor": 1
}
